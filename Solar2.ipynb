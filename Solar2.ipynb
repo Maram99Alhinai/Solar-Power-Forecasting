{
 "cells": [
  {
   "cell_type": "code",
   "execution_count": 45,
   "id": "3b31de2a-10e6-4c1c-9c83-9c2de8ca92ef",
   "metadata": {
    "tags": []
   },
   "outputs": [],
   "source": [
    "import sklearn\n",
    "import pandas as pd\n",
    "import boto3\n",
    "import os\n",
    "import numpy as np\n",
    "from sagemaker import get_execution_role\n",
    "import sagemaker\n",
    "import json\n",
    "from sagemaker.workflow.pipeline_context import PipelineSession\n",
    "from sagemaker.workflow.parameters import (\n",
    "    ParameterInteger, \n",
    "    ParameterFloat, \n",
    "    ParameterString, \n",
    "    ParameterBoolean\n",
    ")\n",
    "\n",
    "from sagemaker.processing import (\n",
    "    ProcessingInput, \n",
    "    ProcessingOutput, \n",
    "    ScriptProcessor\n",
    ")\n",
    "from sagemaker.workflow.pipeline import Pipeline\n",
    "\n",
    "from sagemaker.workflow.steps import (\n",
    "    ProcessingStep, \n",
    "    TrainingStep, \n",
    "    CreateModelStep\n",
    ")\n",
    "from sagemaker.workflow.check_job_config import CheckJobConfig\n",
    "from sagemaker.workflow.parameters import (\n",
    "    ParameterInteger, \n",
    "    ParameterFloat, \n",
    "    ParameterString, \n",
    "    ParameterBoolean\n",
    ")\n",
    "from sagemaker.workflow.clarify_check_step import (\n",
    "    ModelBiasCheckConfig, \n",
    "    ClarifyCheckStep, \n",
    "    ModelExplainabilityCheckConfig\n",
    ")\n",
    "from sagemaker import Model\n",
    "from sagemaker.inputs import CreateModelInput\n",
    "from sagemaker.workflow.model_step import ModelStep\n",
    "from sagemaker.workflow.fail_step import FailStep\n",
    "from sagemaker.workflow.conditions import (\n",
    "    ConditionGreaterThan,\n",
    "    ConditionGreaterThanOrEqualTo\n",
    ")\n",
    "\n",
    "from sagemaker.workflow.pipeline_experiment_config import PipelineExperimentConfig\n",
    "from sagemaker.workflow.properties import PropertyFile\n",
    "from sagemaker.workflow.condition_step import ConditionStep\n",
    "from sagemaker.workflow.functions import (\n",
    "    Join,\n",
    "    JsonGet\n",
    ")\n",
    "\n",
    "from sagemaker.model_metrics import (\n",
    "    MetricsSource, \n",
    "    ModelMetrics, \n",
    "    FileSource\n",
    ")\n",
    "\n",
    "from sagemaker.inputs import TrainingInput\n",
    "from sagemaker.estimator import Estimator\n",
    "from sagemaker.workflow.steps import TrainingStep\n",
    "\n",
    "from sagemaker.sklearn.processing import SKLearnProcessor\n",
    "from sagemaker.processing import ProcessingInput, ProcessingOutput\n",
    "from sagemaker.workflow.steps import ProcessingStep"
   ]
  },
  {
   "cell_type": "markdown",
   "id": "f8db97b1-7482-43b6-9e75-58f88c0f990c",
   "metadata": {},
   "source": [
    "## Set constants"
   ]
  },
  {
   "cell_type": "code",
   "execution_count": 46,
   "id": "83448d5a-0962-48e1-8c6d-30c2333afe24",
   "metadata": {},
   "outputs": [],
   "source": [
    "# #create S3 bucket \n",
    "# !aws s3 mb s3://sagemaker-eu-central-1-d50\n",
    "# bucket_name='sagemaker-eu-central-1-d50'\n",
    "# bucket_prefix='solar1/linerreg'"
   ]
  },
  {
   "cell_type": "code",
   "execution_count": 47,
   "id": "ca27a761-7392-4723-a349-83ae729978a9",
   "metadata": {
    "tags": []
   },
   "outputs": [
    {
     "name": "stdout",
     "output_type": "stream",
     "text": [
      "arn:aws:iam::531485126105:role/service-role/AmazonSageMaker-ExecutionRole-20230614T171444\n"
     ]
    }
   ],
   "source": [
    "# Get some variables you need to interact with SageMaker service\n",
    "# Get some variables you need to interact with SageMaker service\n",
    "boto_session = boto3.Session()\n",
    "region = boto_session.region_name\n",
    "bucket_name = sagemaker.Session().default_bucket()\n",
    "bucket_prefix = \"solar2/gblinear\"  \n",
    "sm_session = sagemaker.Session()\n",
    "sm_client = boto_session.client(\"sagemaker\")\n",
    "sm_role = sagemaker.get_execution_role()\n",
    "\n",
    "initialized = True\n",
    "\n",
    "print(sm_role)"
   ]
  },
  {
   "cell_type": "code",
   "execution_count": 48,
   "id": "0b43b4ab-741e-445f-b519-995a3cb5e88f",
   "metadata": {
    "tags": []
   },
   "outputs": [
    {
     "data": {
      "text/plain": [
       "'sagemaker-us-east-1-531485126105'"
      ]
     },
     "execution_count": 48,
     "metadata": {},
     "output_type": "execute_result"
    }
   ],
   "source": [
    "bucket_name"
   ]
  },
  {
   "cell_type": "code",
   "execution_count": 49,
   "id": "e38ec91f-1aa0-44b6-9489-bb7a8ce5a102",
   "metadata": {
    "tags": []
   },
   "outputs": [
    {
     "name": "stdout",
     "output_type": "stream",
     "text": [
      "Stored 'bucket_name' (str)\n",
      "Stored 'bucket_prefix' (str)\n",
      "Stored 'sm_role' (str)\n",
      "Stored 'region' (str)\n",
      "Stored 'initialized' (bool)\n"
     ]
    }
   ],
   "source": [
    "# Store some variables to keep the value between the notebooks\n",
    "%store bucket_name\n",
    "%store bucket_prefix\n",
    "%store sm_role\n",
    "%store region\n",
    "%store initialized"
   ]
  },
  {
   "cell_type": "code",
   "execution_count": 50,
   "id": "324f21b2-c46e-45e1-b7bf-ed78502dcb9d",
   "metadata": {
    "tags": []
   },
   "outputs": [],
   "source": [
    "# domain_id = None\n",
    "# NOTEBOOK_METADATA_FILE = \"/opt/ml/metadata/resource-metadata.json\"\n",
    "\n",
    "# if os.path.exists(NOTEBOOK_METADATA_FILE):\n",
    "#     with open(NOTEBOOK_METADATA_FILE, \"r\") as f:\n",
    "#         data = json.load(f)\n",
    "#         print(json.dumps(data, indent=4))\n",
    "# else:\n",
    "#     print(\"There is no metadata file.\")"
   ]
  },
  {
   "cell_type": "code",
   "execution_count": 51,
   "id": "86f014ce-bfee-45ec-94b0-783847cada9f",
   "metadata": {
    "tags": []
   },
   "outputs": [],
   "source": [
    "# Set names of pipeline objects\n",
    "project = \"solar2\"\n",
    "\n",
    "pipeline_name = f\"{project}-pipeline\"\n",
    "pipeline_model_name = f\"{project}-model-reg\"\n",
    "model_package_group_name = f\"{project}-model-group\"\n",
    "endpoint_config_name = f\"{project}-endpoint-config\"\n",
    "endpoint_name = f\"{project}-endpoint\"\n",
    "\n",
    "# Set instance types and counts\n",
    "process_instance_type = \"ml.c5.xlarge\"\n",
    "train_instance_count = 1\n",
    "train_instance_type = \"ml.m5.xlarge\"\n",
    "\n",
    "# Set S3 urls for processed data\n",
    "train_s3_url = f\"s3://{bucket_name}/{bucket_prefix}/train\"\n",
    "validation_s3_url = f\"s3://{bucket_name}/{bucket_prefix}/validation\"\n",
    "test_s3_url = f\"s3://{bucket_name}/{bucket_prefix}/test\"\n",
    "baseline_s3_url = f\"s3://{bucket_name}/{bucket_prefix}/baseline\"\n",
    "\n",
    "evaluation_s3_url = f\"s3://{bucket_name}/{bucket_prefix}/evaluation\"\n",
    "prediction_baseline_s3_url = f\"s3://{bucket_name}/{bucket_prefix}/prediction_baseline\"\n",
    "\n",
    "output_s3_url = f\"s3://{bucket_name}/{bucket_prefix}/output\""
   ]
  },
  {
   "cell_type": "code",
   "execution_count": 52,
   "id": "4d0de3b6-90af-4a1d-ba63-3403759d05c4",
   "metadata": {
    "tags": []
   },
   "outputs": [
    {
     "data": {
      "text/plain": [
       "'solar2/gblinear'"
      ]
     },
     "execution_count": 52,
     "metadata": {},
     "output_type": "execute_result"
    }
   ],
   "source": [
    "bucket_prefix"
   ]
  },
  {
   "cell_type": "code",
   "execution_count": 53,
   "id": "261541f6-eea0-47f7-bd0d-289fcb640bd4",
   "metadata": {
    "tags": []
   },
   "outputs": [
    {
     "name": "stdout",
     "output_type": "stream",
     "text": [
      "Stored 'train_s3_url' (str)\n",
      "Stored 'validation_s3_url' (str)\n",
      "Stored 'test_s3_url' (str)\n",
      "Stored 'baseline_s3_url' (str)\n",
      "Stored 'model_package_group_name' (str)\n",
      "Stored 'evaluation_s3_url' (str)\n",
      "Stored 'prediction_baseline_s3_url' (str)\n",
      "Stored 'output_s3_url' (str)\n"
     ]
    }
   ],
   "source": [
    "# store the variable\n",
    "%store train_s3_url\n",
    "%store validation_s3_url\n",
    "%store test_s3_url\n",
    "%store baseline_s3_url\n",
    "%store model_package_group_name\n",
    "%store evaluation_s3_url\n",
    "%store prediction_baseline_s3_url\n",
    "%store output_s3_url"
   ]
  },
  {
   "cell_type": "code",
   "execution_count": 54,
   "id": "e83c5f56-2a7d-48ec-88d9-aca164e70048",
   "metadata": {
    "tags": []
   },
   "outputs": [
    {
     "name": "stdout",
     "output_type": "stream",
     "text": [
      "Train S3 url: s3://sagemaker-us-east-1-531485126105/solar2/gblinear/train\n",
      "Validation S3 url: s3://sagemaker-us-east-1-531485126105/solar2/gblinear/validation\n",
      "Test S3 url: s3://sagemaker-us-east-1-531485126105/solar2/gblinear/test\n",
      "Data baseline S3 url: s3://sagemaker-us-east-1-531485126105/solar2/gblinear/baseline\n",
      "Evaluation metrics S3 url: s3://sagemaker-us-east-1-531485126105/solar2/gblinear/evaluation\n",
      "Model prediction baseline S3 url: s3://sagemaker-us-east-1-531485126105/solar2/gblinear/prediction_baseline\n"
     ]
    }
   ],
   "source": [
    "print(f\"Train S3 url: {train_s3_url}\")\n",
    "print(f\"Validation S3 url: {validation_s3_url}\")\n",
    "print(f\"Test S3 url: {test_s3_url}\")\n",
    "print(f\"Data baseline S3 url: {baseline_s3_url}\")\n",
    "print(f\"Evaluation metrics S3 url: {evaluation_s3_url}\")\n",
    "print(f\"Model prediction baseline S3 url: {prediction_baseline_s3_url}\")\n",
    "# print(f\"target_col: {target_col}\")"
   ]
  },
  {
   "cell_type": "code",
   "execution_count": 55,
   "id": "9a5442f6-b0c6-469d-af61-15786d11ab76",
   "metadata": {
    "tags": []
   },
   "outputs": [],
   "source": [
    "# Set instance types and counts\n",
    "process_instance_type = \"ml.c5.xlarge\"\n",
    "train_instance_count = 1\n",
    "train_instance_type = \"ml.m5.xlarge\""
   ]
  },
  {
   "cell_type": "code",
   "execution_count": 56,
   "id": "b580db80-94de-4569-a2d0-81f865db4e5a",
   "metadata": {
    "tags": []
   },
   "outputs": [
    {
     "name": "stdout",
     "output_type": "stream",
     "text": [
      "Stored variables and their in-db values:\n",
      "athena_table_name                      -> 'sagemaker_workshop_e2e_churn_1686747619'\n",
      "baseline_s3_url                        -> 's3://sagemaker-us-east-1-531485126105/solar2/gbli\n",
      "bucket                                 -> 'sagemaker-studio-us-east-1-531485126105'\n",
      "bucket_name                            -> 'sagemaker-us-east-1-531485126105'\n",
      "bucket_prefix                          -> 'solar2/gblinear'\n",
      "churn_feature_group_name               -> 'sagemaker-workshop-e2e-churn'\n",
      "docker_image_name                      -> '683313688378.dkr.ecr.us-east-1.amazonaws.com/sage\n",
      "domain_id                              -> 'd-1qvmpqvqiuve'\n",
      "evaluation_s3_url                      -> 's3://sagemaker-us-east-1-531485126105/solar2/gbli\n",
      "experiment_name                        -> 'Solar-Power-experiment-25-10-00-09'\n",
      "framework_version                      -> '1.3-1'\n",
      "initialized                            -> True\n",
      "input_s3_url                           -> 's3://sagemaker-us-east-1-531485126105/solar2/gbli\n",
      "model_package_group_name               -> 'solar2-model-group'\n",
      "output_s3_url                          -> 's3://sagemaker-us-east-1-531485126105/solar2/gbli\n",
      "prediction_baseline_s3_url             -> 's3://sagemaker-us-east-1-531485126105/solar2/gbli\n",
      "prefix                                 -> 'xgboost-churn'\n",
      "query_string                           -> 'SELECT * FROM \"sagemaker_workshop_e2e_churn_16867\n",
      "region                                 -> 'us-east-1'\n",
      "s3uri_raw                              -> 's3://sagemaker-studio-us-east-1-531485126105/xgbo\n",
      "sm_role                                -> 'arn:aws:iam::531485126105:role/service-role/Amazo\n",
      "target_col                             -> 'DC_POWER'\n",
      "test_s3_url                            -> 's3://sagemaker-us-east-1-531485126105/solar2/gbli\n",
      "train_s3_url                           -> 's3://sagemaker-us-east-1-531485126105/solar2/gbli\n",
      "training_job_name                      -> 'from-idea-to-prod-training-2023-06-19-09-32-20-64\n",
      "validation_s3_url                      -> 's3://sagemaker-us-east-1-531485126105/solar2/gbli\n"
     ]
    }
   ],
   "source": [
    "store"
   ]
  },
  {
   "cell_type": "markdown",
   "id": "72796922-faf0-4f51-96ab-1dd7caa20c80",
   "metadata": {},
   "source": [
    "### See the data"
   ]
  },
  {
   "cell_type": "code",
   "execution_count": null,
   "id": "6ee53fe8-e50e-4bd2-a18d-928e8a90ab64",
   "metadata": {},
   "outputs": [],
   "source": []
  },
  {
   "cell_type": "code",
   "execution_count": 57,
   "id": "2ef08ff4-fd31-4e8f-9ac3-9a833fa00148",
   "metadata": {
    "tags": []
   },
   "outputs": [
    {
     "data": {
      "text/html": [
       "<div>\n",
       "<style scoped>\n",
       "    .dataframe tbody tr th:only-of-type {\n",
       "        vertical-align: middle;\n",
       "    }\n",
       "\n",
       "    .dataframe tbody tr th {\n",
       "        vertical-align: top;\n",
       "    }\n",
       "\n",
       "    .dataframe thead th {\n",
       "        text-align: right;\n",
       "    }\n",
       "</style>\n",
       "<table border=\"1\" class=\"dataframe\">\n",
       "  <thead>\n",
       "    <tr style=\"text-align: right;\">\n",
       "      <th></th>\n",
       "      <th>DATE_TIME</th>\n",
       "      <th>SOURCE_KEY</th>\n",
       "      <th>DC_POWER</th>\n",
       "      <th>DAILY_YIELD</th>\n",
       "      <th>AMBIENT_TEMPERATURE</th>\n",
       "      <th>MODULE_TEMPERATURE</th>\n",
       "      <th>IRRADIATION</th>\n",
       "    </tr>\n",
       "  </thead>\n",
       "  <tbody>\n",
       "    <tr>\n",
       "      <th>0</th>\n",
       "      <td>2020-05-15 00:00:00</td>\n",
       "      <td>1BY6WEcLGh8j5v7</td>\n",
       "      <td>0.0</td>\n",
       "      <td>0.0</td>\n",
       "      <td>25.184316</td>\n",
       "      <td>22.857507</td>\n",
       "      <td>0.0</td>\n",
       "    </tr>\n",
       "    <tr>\n",
       "      <th>1</th>\n",
       "      <td>2020-05-15 00:00:00</td>\n",
       "      <td>1IF53ai7Xc0U56Y</td>\n",
       "      <td>0.0</td>\n",
       "      <td>0.0</td>\n",
       "      <td>25.184316</td>\n",
       "      <td>22.857507</td>\n",
       "      <td>0.0</td>\n",
       "    </tr>\n",
       "    <tr>\n",
       "      <th>2</th>\n",
       "      <td>2020-05-15 00:00:00</td>\n",
       "      <td>3PZuoBAID5Wc2HD</td>\n",
       "      <td>0.0</td>\n",
       "      <td>0.0</td>\n",
       "      <td>25.184316</td>\n",
       "      <td>22.857507</td>\n",
       "      <td>0.0</td>\n",
       "    </tr>\n",
       "    <tr>\n",
       "      <th>3</th>\n",
       "      <td>2020-05-15 00:00:00</td>\n",
       "      <td>7JYdWkrLSPkdwr4</td>\n",
       "      <td>0.0</td>\n",
       "      <td>0.0</td>\n",
       "      <td>25.184316</td>\n",
       "      <td>22.857507</td>\n",
       "      <td>0.0</td>\n",
       "    </tr>\n",
       "    <tr>\n",
       "      <th>4</th>\n",
       "      <td>2020-05-15 00:00:00</td>\n",
       "      <td>McdE0feGgRqW7Ca</td>\n",
       "      <td>0.0</td>\n",
       "      <td>0.0</td>\n",
       "      <td>25.184316</td>\n",
       "      <td>22.857507</td>\n",
       "      <td>0.0</td>\n",
       "    </tr>\n",
       "  </tbody>\n",
       "</table>\n",
       "</div>"
      ],
      "text/plain": [
       "             DATE_TIME       SOURCE_KEY  DC_POWER  DAILY_YIELD  \\\n",
       "0  2020-05-15 00:00:00  1BY6WEcLGh8j5v7       0.0          0.0   \n",
       "1  2020-05-15 00:00:00  1IF53ai7Xc0U56Y       0.0          0.0   \n",
       "2  2020-05-15 00:00:00  3PZuoBAID5Wc2HD       0.0          0.0   \n",
       "3  2020-05-15 00:00:00  7JYdWkrLSPkdwr4       0.0          0.0   \n",
       "4  2020-05-15 00:00:00  McdE0feGgRqW7Ca       0.0          0.0   \n",
       "\n",
       "   AMBIENT_TEMPERATURE  MODULE_TEMPERATURE  IRRADIATION  \n",
       "0            25.184316           22.857507          0.0  \n",
       "1            25.184316           22.857507          0.0  \n",
       "2            25.184316           22.857507          0.0  \n",
       "3            25.184316           22.857507          0.0  \n",
       "4            25.184316           22.857507          0.0  "
      ]
     },
     "execution_count": 57,
     "metadata": {},
     "output_type": "execute_result"
    }
   ],
   "source": [
    "#read data\n",
    "solar_power = pd.read_csv(\"data/combined_plant.csv\")\n",
    "solar_power.head()"
   ]
  },
  {
   "cell_type": "code",
   "execution_count": 58,
   "id": "35f94c90-e817-4141-8d5c-849f31a9404f",
   "metadata": {
    "tags": []
   },
   "outputs": [
    {
     "data": {
      "text/plain": [
       "Index(['DATE_TIME', 'SOURCE_KEY', 'DC_POWER', 'DAILY_YIELD',\n",
       "       'AMBIENT_TEMPERATURE', 'MODULE_TEMPERATURE', 'IRRADIATION'],\n",
       "      dtype='object')"
      ]
     },
     "execution_count": 58,
     "metadata": {},
     "output_type": "execute_result"
    }
   ],
   "source": [
    "solar_power.columns"
   ]
  },
  {
   "cell_type": "markdown",
   "id": "6351e3c1-00d6-4c4f-b9e1-ba3187e1ac95",
   "metadata": {},
   "source": [
    "## Read data and upload it "
   ]
  },
  {
   "cell_type": "code",
   "execution_count": 59,
   "id": "e8c4ce96-f4fb-4353-bf8b-9e065b9816c8",
   "metadata": {
    "tags": []
   },
   "outputs": [],
   "source": [
    "# #Upload data to S3 bucket\n",
    "# s3 = boto3.client('s3')\n",
    "\n",
    "# # Upload Plant_1_Generation_Data.csv\n",
    "# s3.upload_file(\"data/combined_plant.csv\", bucket_name, \"input/solar_power.csv\")"
   ]
  },
  {
   "cell_type": "code",
   "execution_count": 60,
   "id": "0d87d8ec-3117-4061-8a2a-e4fc1612ff5a",
   "metadata": {
    "tags": []
   },
   "outputs": [
    {
     "name": "stdout",
     "output_type": "stream",
     "text": [
      "Upload the dataset to s3://sagemaker-us-east-1-531485126105/solar2/gblinear/input/combined_plant.csv\n",
      "Stored 'input_s3_url' (str)\n"
     ]
    }
   ],
   "source": [
    "# If input_s3_url is not defined, upload the dataset to S3 and store the path\n",
    "input_s3_url = sagemaker.Session().upload_data(\n",
    "    # path=\"data/bank-additional/bank-additional-full.csv\",\n",
    "    path=\"data/combined_plant.csv\",\n",
    "    bucket=bucket_name,\n",
    "        key_prefix=f\"{bucket_prefix}/input\"\n",
    ")\n",
    "print(f\"Upload the dataset to {input_s3_url}\")\n",
    "\n",
    "%store input_s3_url"
   ]
  },
  {
   "cell_type": "code",
   "execution_count": 61,
   "id": "14957493-852a-46bf-b971-7b6d540f00ec",
   "metadata": {
    "tags": []
   },
   "outputs": [
    {
     "data": {
      "text/html": [
       "<div>\n",
       "<style scoped>\n",
       "    .dataframe tbody tr th:only-of-type {\n",
       "        vertical-align: middle;\n",
       "    }\n",
       "\n",
       "    .dataframe tbody tr th {\n",
       "        vertical-align: top;\n",
       "    }\n",
       "\n",
       "    .dataframe thead th {\n",
       "        text-align: right;\n",
       "    }\n",
       "</style>\n",
       "<table border=\"1\" class=\"dataframe\">\n",
       "  <thead>\n",
       "    <tr style=\"text-align: right;\">\n",
       "      <th></th>\n",
       "      <th>DATE_TIME</th>\n",
       "      <th>SOURCE_KEY</th>\n",
       "      <th>DC_POWER</th>\n",
       "      <th>DAILY_YIELD</th>\n",
       "      <th>AMBIENT_TEMPERATURE</th>\n",
       "      <th>MODULE_TEMPERATURE</th>\n",
       "      <th>IRRADIATION</th>\n",
       "    </tr>\n",
       "  </thead>\n",
       "  <tbody>\n",
       "    <tr>\n",
       "      <th>0</th>\n",
       "      <td>2020-05-15 00:00:00</td>\n",
       "      <td>1BY6WEcLGh8j5v7</td>\n",
       "      <td>0.0</td>\n",
       "      <td>0.0</td>\n",
       "      <td>25.184316</td>\n",
       "      <td>22.857507</td>\n",
       "      <td>0.0</td>\n",
       "    </tr>\n",
       "    <tr>\n",
       "      <th>1</th>\n",
       "      <td>2020-05-15 00:00:00</td>\n",
       "      <td>1IF53ai7Xc0U56Y</td>\n",
       "      <td>0.0</td>\n",
       "      <td>0.0</td>\n",
       "      <td>25.184316</td>\n",
       "      <td>22.857507</td>\n",
       "      <td>0.0</td>\n",
       "    </tr>\n",
       "    <tr>\n",
       "      <th>2</th>\n",
       "      <td>2020-05-15 00:00:00</td>\n",
       "      <td>3PZuoBAID5Wc2HD</td>\n",
       "      <td>0.0</td>\n",
       "      <td>0.0</td>\n",
       "      <td>25.184316</td>\n",
       "      <td>22.857507</td>\n",
       "      <td>0.0</td>\n",
       "    </tr>\n",
       "    <tr>\n",
       "      <th>3</th>\n",
       "      <td>2020-05-15 00:00:00</td>\n",
       "      <td>7JYdWkrLSPkdwr4</td>\n",
       "      <td>0.0</td>\n",
       "      <td>0.0</td>\n",
       "      <td>25.184316</td>\n",
       "      <td>22.857507</td>\n",
       "      <td>0.0</td>\n",
       "    </tr>\n",
       "    <tr>\n",
       "      <th>4</th>\n",
       "      <td>2020-05-15 00:00:00</td>\n",
       "      <td>McdE0feGgRqW7Ca</td>\n",
       "      <td>0.0</td>\n",
       "      <td>0.0</td>\n",
       "      <td>25.184316</td>\n",
       "      <td>22.857507</td>\n",
       "      <td>0.0</td>\n",
       "    </tr>\n",
       "  </tbody>\n",
       "</table>\n",
       "</div>"
      ],
      "text/plain": [
       "             DATE_TIME       SOURCE_KEY  DC_POWER  DAILY_YIELD  \\\n",
       "0  2020-05-15 00:00:00  1BY6WEcLGh8j5v7       0.0          0.0   \n",
       "1  2020-05-15 00:00:00  1IF53ai7Xc0U56Y       0.0          0.0   \n",
       "2  2020-05-15 00:00:00  3PZuoBAID5Wc2HD       0.0          0.0   \n",
       "3  2020-05-15 00:00:00  7JYdWkrLSPkdwr4       0.0          0.0   \n",
       "4  2020-05-15 00:00:00  McdE0feGgRqW7Ca       0.0          0.0   \n",
       "\n",
       "   AMBIENT_TEMPERATURE  MODULE_TEMPERATURE  IRRADIATION  \n",
       "0            25.184316           22.857507          0.0  \n",
       "1            25.184316           22.857507          0.0  \n",
       "2            25.184316           22.857507          0.0  \n",
       "3            25.184316           22.857507          0.0  \n",
       "4            25.184316           22.857507          0.0  "
      ]
     },
     "execution_count": 61,
     "metadata": {},
     "output_type": "execute_result"
    }
   ],
   "source": [
    "# check is it in s3\n",
    "\n",
    "data_input_file = pd.read_csv(input_s3_url)\n",
    "data_input_file.head()"
   ]
  },
  {
   "cell_type": "code",
   "execution_count": 62,
   "id": "2559029e-231f-476a-a172-a8d419666961",
   "metadata": {
    "tags": []
   },
   "outputs": [
    {
     "data": {
      "text/html": [
       "<div>\n",
       "<style scoped>\n",
       "    .dataframe tbody tr th:only-of-type {\n",
       "        vertical-align: middle;\n",
       "    }\n",
       "\n",
       "    .dataframe tbody tr th {\n",
       "        vertical-align: top;\n",
       "    }\n",
       "\n",
       "    .dataframe thead th {\n",
       "        text-align: right;\n",
       "    }\n",
       "</style>\n",
       "<table border=\"1\" class=\"dataframe\">\n",
       "  <thead>\n",
       "    <tr style=\"text-align: right;\">\n",
       "      <th></th>\n",
       "      <th>DC_POWER</th>\n",
       "      <th>DAILY_YIELD</th>\n",
       "      <th>AMBIENT_TEMPERATURE</th>\n",
       "      <th>MODULE_TEMPERATURE</th>\n",
       "      <th>IRRADIATION</th>\n",
       "    </tr>\n",
       "  </thead>\n",
       "  <tbody>\n",
       "    <tr>\n",
       "      <th>0</th>\n",
       "      <td>0.0</td>\n",
       "      <td>0.0</td>\n",
       "      <td>25.184316</td>\n",
       "      <td>22.857507</td>\n",
       "      <td>0.0</td>\n",
       "    </tr>\n",
       "    <tr>\n",
       "      <th>1</th>\n",
       "      <td>0.0</td>\n",
       "      <td>0.0</td>\n",
       "      <td>25.184316</td>\n",
       "      <td>22.857507</td>\n",
       "      <td>0.0</td>\n",
       "    </tr>\n",
       "    <tr>\n",
       "      <th>2</th>\n",
       "      <td>0.0</td>\n",
       "      <td>0.0</td>\n",
       "      <td>25.184316</td>\n",
       "      <td>22.857507</td>\n",
       "      <td>0.0</td>\n",
       "    </tr>\n",
       "    <tr>\n",
       "      <th>3</th>\n",
       "      <td>0.0</td>\n",
       "      <td>0.0</td>\n",
       "      <td>25.184316</td>\n",
       "      <td>22.857507</td>\n",
       "      <td>0.0</td>\n",
       "    </tr>\n",
       "    <tr>\n",
       "      <th>4</th>\n",
       "      <td>0.0</td>\n",
       "      <td>0.0</td>\n",
       "      <td>25.184316</td>\n",
       "      <td>22.857507</td>\n",
       "      <td>0.0</td>\n",
       "    </tr>\n",
       "  </tbody>\n",
       "</table>\n",
       "</div>"
      ],
      "text/plain": [
       "   DC_POWER  DAILY_YIELD  AMBIENT_TEMPERATURE  MODULE_TEMPERATURE  IRRADIATION\n",
       "0       0.0          0.0            25.184316           22.857507          0.0\n",
       "1       0.0          0.0            25.184316           22.857507          0.0\n",
       "2       0.0          0.0            25.184316           22.857507          0.0\n",
       "3       0.0          0.0            25.184316           22.857507          0.0\n",
       "4       0.0          0.0            25.184316           22.857507          0.0"
      ]
     },
     "execution_count": 62,
     "metadata": {},
     "output_type": "execute_result"
    }
   ],
   "source": [
    "data_input_file = data_input_file.drop(['SOURCE_KEY', 'DATE_TIME'], axis=1)\n",
    "data_input_file.head()"
   ]
  },
  {
   "cell_type": "code",
   "execution_count": 63,
   "id": "d4270e1a-c15b-4fff-a10a-99300ccddda7",
   "metadata": {
    "tags": []
   },
   "outputs": [
    {
     "data": {
      "text/html": [
       "<div>\n",
       "<style scoped>\n",
       "    .dataframe tbody tr th:only-of-type {\n",
       "        vertical-align: middle;\n",
       "    }\n",
       "\n",
       "    .dataframe tbody tr th {\n",
       "        vertical-align: top;\n",
       "    }\n",
       "\n",
       "    .dataframe thead th {\n",
       "        text-align: right;\n",
       "    }\n",
       "</style>\n",
       "<table border=\"1\" class=\"dataframe\">\n",
       "  <thead>\n",
       "    <tr style=\"text-align: right;\">\n",
       "      <th></th>\n",
       "      <th>DC_POWER</th>\n",
       "      <th>DAILY_YIELD</th>\n",
       "      <th>AMBIENT_TEMPERATURE</th>\n",
       "      <th>MODULE_TEMPERATURE</th>\n",
       "      <th>IRRADIATION</th>\n",
       "    </tr>\n",
       "  </thead>\n",
       "  <tbody>\n",
       "    <tr>\n",
       "      <th>count</th>\n",
       "      <td>136472.000000</td>\n",
       "      <td>136472.000000</td>\n",
       "      <td>136472.000000</td>\n",
       "      <td>136472.000000</td>\n",
       "      <td>136472.000000</td>\n",
       "    </tr>\n",
       "    <tr>\n",
       "      <th>mean</th>\n",
       "      <td>1708.373962</td>\n",
       "      <td>3295.366192</td>\n",
       "      <td>26.763066</td>\n",
       "      <td>31.920744</td>\n",
       "      <td>0.230767</td>\n",
       "    </tr>\n",
       "    <tr>\n",
       "      <th>std</th>\n",
       "      <td>3222.079306</td>\n",
       "      <td>3035.313217</td>\n",
       "      <td>3.897340</td>\n",
       "      <td>11.803674</td>\n",
       "      <td>0.305652</td>\n",
       "    </tr>\n",
       "    <tr>\n",
       "      <th>min</th>\n",
       "      <td>0.000000</td>\n",
       "      <td>0.000000</td>\n",
       "      <td>20.398505</td>\n",
       "      <td>18.140415</td>\n",
       "      <td>0.000000</td>\n",
       "    </tr>\n",
       "    <tr>\n",
       "      <th>25%</th>\n",
       "      <td>0.000000</td>\n",
       "      <td>28.285714</td>\n",
       "      <td>23.637604</td>\n",
       "      <td>22.411698</td>\n",
       "      <td>0.000000</td>\n",
       "    </tr>\n",
       "    <tr>\n",
       "      <th>50%</th>\n",
       "      <td>5.993333</td>\n",
       "      <td>2834.642857</td>\n",
       "      <td>25.908122</td>\n",
       "      <td>26.413755</td>\n",
       "      <td>0.026213</td>\n",
       "    </tr>\n",
       "    <tr>\n",
       "      <th>75%</th>\n",
       "      <td>1155.595000</td>\n",
       "      <td>5992.000000</td>\n",
       "      <td>29.266583</td>\n",
       "      <td>40.778583</td>\n",
       "      <td>0.442961</td>\n",
       "    </tr>\n",
       "    <tr>\n",
       "      <th>max</th>\n",
       "      <td>14471.125000</td>\n",
       "      <td>9873.000000</td>\n",
       "      <td>39.181638</td>\n",
       "      <td>66.635953</td>\n",
       "      <td>1.221652</td>\n",
       "    </tr>\n",
       "  </tbody>\n",
       "</table>\n",
       "</div>"
      ],
      "text/plain": [
       "            DC_POWER    DAILY_YIELD  AMBIENT_TEMPERATURE  MODULE_TEMPERATURE  \\\n",
       "count  136472.000000  136472.000000        136472.000000       136472.000000   \n",
       "mean     1708.373962    3295.366192            26.763066           31.920744   \n",
       "std      3222.079306    3035.313217             3.897340           11.803674   \n",
       "min         0.000000       0.000000            20.398505           18.140415   \n",
       "25%         0.000000      28.285714            23.637604           22.411698   \n",
       "50%         5.993333    2834.642857            25.908122           26.413755   \n",
       "75%      1155.595000    5992.000000            29.266583           40.778583   \n",
       "max     14471.125000    9873.000000            39.181638           66.635953   \n",
       "\n",
       "         IRRADIATION  \n",
       "count  136472.000000  \n",
       "mean        0.230767  \n",
       "std         0.305652  \n",
       "min         0.000000  \n",
       "25%         0.000000  \n",
       "50%         0.026213  \n",
       "75%         0.442961  \n",
       "max         1.221652  "
      ]
     },
     "execution_count": 63,
     "metadata": {},
     "output_type": "execute_result"
    }
   ],
   "source": [
    "data_input_file.describe()"
   ]
  },
  {
   "cell_type": "code",
   "execution_count": 64,
   "id": "9ee430b2-f20c-4383-be81-3f53055a4369",
   "metadata": {
    "tags": []
   },
   "outputs": [
    {
     "name": "stdout",
     "output_type": "stream",
     "text": [
      "Files in sagemaker-us-east-1-531485126105 with prefix 'solar2/gblinear':\n",
      "solar2/gblinear/baseline/baseline.csv\n",
      "solar2/gblinear/evaluation/evaluation.json\n",
      "solar2/gblinear/input/combined_plant.csv\n",
      "solar2/gblinear/output/pipelines-0kgkk45ft4yl-solar2-pipeline-trai-whC0139fb7/debug-output/claim.smd\n",
      "solar2/gblinear/output/pipelines-0kgkk45ft4yl-solar2-pipeline-trai-whC0139fb7/debug-output/collections/000000000/worker_0_collections.json\n",
      "solar2/gblinear/output/pipelines-0kgkk45ft4yl-solar2-pipeline-trai-whC0139fb7/debug-output/events/000000000000/000000000000_worker_0.tfevents\n",
      "solar2/gblinear/output/pipelines-0kgkk45ft4yl-solar2-pipeline-trai-whC0139fb7/debug-output/events/000000000010/000000000010_worker_0.tfevents\n",
      "solar2/gblinear/output/pipelines-0kgkk45ft4yl-solar2-pipeline-trai-whC0139fb7/debug-output/events/000000000020/000000000020_worker_0.tfevents\n",
      "solar2/gblinear/output/pipelines-0kgkk45ft4yl-solar2-pipeline-trai-whC0139fb7/debug-output/events/000000000030/000000000030_worker_0.tfevents\n",
      "solar2/gblinear/output/pipelines-0kgkk45ft4yl-solar2-pipeline-trai-whC0139fb7/debug-output/events/000000000040/000000000040_worker_0.tfevents\n",
      "solar2/gblinear/output/pipelines-0kgkk45ft4yl-solar2-pipeline-trai-whC0139fb7/debug-output/events/000000000050/000000000050_worker_0.tfevents\n",
      "solar2/gblinear/output/pipelines-0kgkk45ft4yl-solar2-pipeline-trai-whC0139fb7/debug-output/events/000000000060/000000000060_worker_0.tfevents\n",
      "solar2/gblinear/output/pipelines-0kgkk45ft4yl-solar2-pipeline-trai-whC0139fb7/debug-output/events/000000000070/000000000070_worker_0.tfevents\n",
      "solar2/gblinear/output/pipelines-0kgkk45ft4yl-solar2-pipeline-trai-whC0139fb7/debug-output/events/000000000080/000000000080_worker_0.tfevents\n",
      "solar2/gblinear/output/pipelines-0kgkk45ft4yl-solar2-pipeline-trai-whC0139fb7/debug-output/events/000000000090/000000000090_worker_0.tfevents\n",
      "solar2/gblinear/output/pipelines-0kgkk45ft4yl-solar2-pipeline-trai-whC0139fb7/debug-output/index/000000000/000000000000_worker_0.json\n",
      "solar2/gblinear/output/pipelines-0kgkk45ft4yl-solar2-pipeline-trai-whC0139fb7/debug-output/index/000000000/000000000010_worker_0.json\n",
      "solar2/gblinear/output/pipelines-0kgkk45ft4yl-solar2-pipeline-trai-whC0139fb7/debug-output/index/000000000/000000000020_worker_0.json\n",
      "solar2/gblinear/output/pipelines-0kgkk45ft4yl-solar2-pipeline-trai-whC0139fb7/debug-output/index/000000000/000000000030_worker_0.json\n",
      "solar2/gblinear/output/pipelines-0kgkk45ft4yl-solar2-pipeline-trai-whC0139fb7/debug-output/index/000000000/000000000040_worker_0.json\n",
      "solar2/gblinear/output/pipelines-0kgkk45ft4yl-solar2-pipeline-trai-whC0139fb7/debug-output/index/000000000/000000000050_worker_0.json\n",
      "solar2/gblinear/output/pipelines-0kgkk45ft4yl-solar2-pipeline-trai-whC0139fb7/debug-output/index/000000000/000000000060_worker_0.json\n",
      "solar2/gblinear/output/pipelines-0kgkk45ft4yl-solar2-pipeline-trai-whC0139fb7/debug-output/index/000000000/000000000070_worker_0.json\n",
      "solar2/gblinear/output/pipelines-0kgkk45ft4yl-solar2-pipeline-trai-whC0139fb7/debug-output/index/000000000/000000000080_worker_0.json\n",
      "solar2/gblinear/output/pipelines-0kgkk45ft4yl-solar2-pipeline-trai-whC0139fb7/debug-output/index/000000000/000000000090_worker_0.json\n",
      "solar2/gblinear/output/pipelines-0kgkk45ft4yl-solar2-pipeline-trai-whC0139fb7/debug-output/training_job_end.ts\n",
      "solar2/gblinear/output/pipelines-0kgkk45ft4yl-solar2-pipeline-trai-whC0139fb7/output/model.tar.gz\n",
      "solar2/gblinear/output/pipelines-0kgkk45ft4yl-solar2-pipeline-trai-whC0139fb7/profiler-output/framework/training_job_end.ts\n",
      "solar2/gblinear/output/pipelines-0kgkk45ft4yl-solar2-pipeline-trai-whC0139fb7/profiler-output/system/incremental/2023062905/1688015520.algo-1.json\n",
      "solar2/gblinear/output/pipelines-0kgkk45ft4yl-solar2-pipeline-trai-whC0139fb7/profiler-output/system/incremental/2023062905/1688015580.algo-1.json\n",
      "solar2/gblinear/output/pipelines-0kgkk45ft4yl-solar2-pipeline-trai-whC0139fb7/profiler-output/system/training_job_end.ts\n",
      "solar2/gblinear/output/pipelines-2ixhobpfp1ua-solar2-pipeline-trai-SgPMiWWWn9/debug-output/training_job_end.ts\n",
      "solar2/gblinear/output/pipelines-2ixhobpfp1ua-solar2-pipeline-trai-SgPMiWWWn9/profiler-output/framework/training_job_end.ts\n",
      "solar2/gblinear/output/pipelines-2ixhobpfp1ua-solar2-pipeline-trai-SgPMiWWWn9/profiler-output/system/incremental/2023062813/1687958100.algo-1.json\n",
      "solar2/gblinear/output/pipelines-2ixhobpfp1ua-solar2-pipeline-trai-SgPMiWWWn9/profiler-output/system/incremental/2023062813/1687958160.algo-1.json\n",
      "solar2/gblinear/output/pipelines-2ixhobpfp1ua-solar2-pipeline-trai-SgPMiWWWn9/profiler-output/system/training_job_end.ts\n",
      "solar2/gblinear/output/pipelines-4oh90wgk52tq-solar2-pipeline-trai-9qu014ZuVh/debug-output/claim.smd\n",
      "solar2/gblinear/output/pipelines-4oh90wgk52tq-solar2-pipeline-trai-9qu014ZuVh/debug-output/collections/000000000/worker_0_collections.json\n",
      "solar2/gblinear/output/pipelines-4oh90wgk52tq-solar2-pipeline-trai-9qu014ZuVh/debug-output/events/000000000000/000000000000_worker_0.tfevents\n",
      "solar2/gblinear/output/pipelines-4oh90wgk52tq-solar2-pipeline-trai-9qu014ZuVh/debug-output/events/000000000010/000000000010_worker_0.tfevents\n",
      "solar2/gblinear/output/pipelines-4oh90wgk52tq-solar2-pipeline-trai-9qu014ZuVh/debug-output/events/000000000020/000000000020_worker_0.tfevents\n",
      "solar2/gblinear/output/pipelines-4oh90wgk52tq-solar2-pipeline-trai-9qu014ZuVh/debug-output/events/000000000030/000000000030_worker_0.tfevents\n",
      "solar2/gblinear/output/pipelines-4oh90wgk52tq-solar2-pipeline-trai-9qu014ZuVh/debug-output/events/000000000040/000000000040_worker_0.tfevents\n",
      "solar2/gblinear/output/pipelines-4oh90wgk52tq-solar2-pipeline-trai-9qu014ZuVh/debug-output/events/000000000050/000000000050_worker_0.tfevents\n",
      "solar2/gblinear/output/pipelines-4oh90wgk52tq-solar2-pipeline-trai-9qu014ZuVh/debug-output/events/000000000060/000000000060_worker_0.tfevents\n",
      "solar2/gblinear/output/pipelines-4oh90wgk52tq-solar2-pipeline-trai-9qu014ZuVh/debug-output/events/000000000070/000000000070_worker_0.tfevents\n",
      "solar2/gblinear/output/pipelines-4oh90wgk52tq-solar2-pipeline-trai-9qu014ZuVh/debug-output/events/000000000080/000000000080_worker_0.tfevents\n",
      "solar2/gblinear/output/pipelines-4oh90wgk52tq-solar2-pipeline-trai-9qu014ZuVh/debug-output/events/000000000090/000000000090_worker_0.tfevents\n",
      "solar2/gblinear/output/pipelines-4oh90wgk52tq-solar2-pipeline-trai-9qu014ZuVh/debug-output/index/000000000/000000000000_worker_0.json\n",
      "solar2/gblinear/output/pipelines-4oh90wgk52tq-solar2-pipeline-trai-9qu014ZuVh/debug-output/index/000000000/000000000010_worker_0.json\n",
      "solar2/gblinear/output/pipelines-4oh90wgk52tq-solar2-pipeline-trai-9qu014ZuVh/debug-output/index/000000000/000000000020_worker_0.json\n",
      "solar2/gblinear/output/pipelines-4oh90wgk52tq-solar2-pipeline-trai-9qu014ZuVh/debug-output/index/000000000/000000000030_worker_0.json\n",
      "solar2/gblinear/output/pipelines-4oh90wgk52tq-solar2-pipeline-trai-9qu014ZuVh/debug-output/index/000000000/000000000040_worker_0.json\n",
      "solar2/gblinear/output/pipelines-4oh90wgk52tq-solar2-pipeline-trai-9qu014ZuVh/debug-output/index/000000000/000000000050_worker_0.json\n",
      "solar2/gblinear/output/pipelines-4oh90wgk52tq-solar2-pipeline-trai-9qu014ZuVh/debug-output/index/000000000/000000000060_worker_0.json\n",
      "solar2/gblinear/output/pipelines-4oh90wgk52tq-solar2-pipeline-trai-9qu014ZuVh/debug-output/index/000000000/000000000070_worker_0.json\n",
      "solar2/gblinear/output/pipelines-4oh90wgk52tq-solar2-pipeline-trai-9qu014ZuVh/debug-output/index/000000000/000000000080_worker_0.json\n",
      "solar2/gblinear/output/pipelines-4oh90wgk52tq-solar2-pipeline-trai-9qu014ZuVh/debug-output/index/000000000/000000000090_worker_0.json\n",
      "solar2/gblinear/output/pipelines-4oh90wgk52tq-solar2-pipeline-trai-9qu014ZuVh/debug-output/training_job_end.ts\n",
      "solar2/gblinear/output/pipelines-4oh90wgk52tq-solar2-pipeline-trai-9qu014ZuVh/output/model.tar.gz\n",
      "solar2/gblinear/output/pipelines-4oh90wgk52tq-solar2-pipeline-trai-9qu014ZuVh/profiler-output/framework/training_job_end.ts\n",
      "solar2/gblinear/output/pipelines-4oh90wgk52tq-solar2-pipeline-trai-9qu014ZuVh/profiler-output/system/incremental/2023062904/1688013480.algo-1.json\n",
      "solar2/gblinear/output/pipelines-4oh90wgk52tq-solar2-pipeline-trai-9qu014ZuVh/profiler-output/system/incremental/2023062904/1688013540.algo-1.json\n",
      "solar2/gblinear/output/pipelines-4oh90wgk52tq-solar2-pipeline-trai-9qu014ZuVh/profiler-output/system/training_job_end.ts\n",
      "solar2/gblinear/output/pipelines-5p0a6cg5suo6-solar2-pipeline-trai-nEcrO8rz2Q/debug-output/training_job_end.ts\n",
      "solar2/gblinear/output/pipelines-5p0a6cg5suo6-solar2-pipeline-trai-nEcrO8rz2Q/profiler-output/framework/training_job_end.ts\n",
      "solar2/gblinear/output/pipelines-5p0a6cg5suo6-solar2-pipeline-trai-nEcrO8rz2Q/profiler-output/system/incremental/2023062813/1687958640.algo-1.json\n",
      "solar2/gblinear/output/pipelines-5p0a6cg5suo6-solar2-pipeline-trai-nEcrO8rz2Q/profiler-output/system/incremental/2023062813/1687958700.algo-1.json\n",
      "solar2/gblinear/output/pipelines-5p0a6cg5suo6-solar2-pipeline-trai-nEcrO8rz2Q/profiler-output/system/training_job_end.ts\n",
      "solar2/gblinear/output/pipelines-ag8hxb2mwjo5-solar2-pipeline-trai-KxvOg1e9dZ/debug-output/claim.smd\n",
      "solar2/gblinear/output/pipelines-ag8hxb2mwjo5-solar2-pipeline-trai-KxvOg1e9dZ/debug-output/collections/000000000/worker_0_collections.json\n",
      "solar2/gblinear/output/pipelines-ag8hxb2mwjo5-solar2-pipeline-trai-KxvOg1e9dZ/debug-output/events/000000000000/000000000000_worker_0.tfevents\n",
      "solar2/gblinear/output/pipelines-ag8hxb2mwjo5-solar2-pipeline-trai-KxvOg1e9dZ/debug-output/events/000000000010/000000000010_worker_0.tfevents\n",
      "solar2/gblinear/output/pipelines-ag8hxb2mwjo5-solar2-pipeline-trai-KxvOg1e9dZ/debug-output/events/000000000020/000000000020_worker_0.tfevents\n",
      "solar2/gblinear/output/pipelines-ag8hxb2mwjo5-solar2-pipeline-trai-KxvOg1e9dZ/debug-output/events/000000000030/000000000030_worker_0.tfevents\n",
      "solar2/gblinear/output/pipelines-ag8hxb2mwjo5-solar2-pipeline-trai-KxvOg1e9dZ/debug-output/events/000000000040/000000000040_worker_0.tfevents\n",
      "solar2/gblinear/output/pipelines-ag8hxb2mwjo5-solar2-pipeline-trai-KxvOg1e9dZ/debug-output/events/000000000050/000000000050_worker_0.tfevents\n",
      "solar2/gblinear/output/pipelines-ag8hxb2mwjo5-solar2-pipeline-trai-KxvOg1e9dZ/debug-output/events/000000000060/000000000060_worker_0.tfevents\n",
      "solar2/gblinear/output/pipelines-ag8hxb2mwjo5-solar2-pipeline-trai-KxvOg1e9dZ/debug-output/events/000000000070/000000000070_worker_0.tfevents\n",
      "solar2/gblinear/output/pipelines-ag8hxb2mwjo5-solar2-pipeline-trai-KxvOg1e9dZ/debug-output/events/000000000080/000000000080_worker_0.tfevents\n",
      "solar2/gblinear/output/pipelines-ag8hxb2mwjo5-solar2-pipeline-trai-KxvOg1e9dZ/debug-output/events/000000000090/000000000090_worker_0.tfevents\n",
      "solar2/gblinear/output/pipelines-ag8hxb2mwjo5-solar2-pipeline-trai-KxvOg1e9dZ/debug-output/index/000000000/000000000000_worker_0.json\n",
      "solar2/gblinear/output/pipelines-ag8hxb2mwjo5-solar2-pipeline-trai-KxvOg1e9dZ/debug-output/index/000000000/000000000010_worker_0.json\n",
      "solar2/gblinear/output/pipelines-ag8hxb2mwjo5-solar2-pipeline-trai-KxvOg1e9dZ/debug-output/index/000000000/000000000020_worker_0.json\n",
      "solar2/gblinear/output/pipelines-ag8hxb2mwjo5-solar2-pipeline-trai-KxvOg1e9dZ/debug-output/index/000000000/000000000030_worker_0.json\n",
      "solar2/gblinear/output/pipelines-ag8hxb2mwjo5-solar2-pipeline-trai-KxvOg1e9dZ/debug-output/index/000000000/000000000040_worker_0.json\n",
      "solar2/gblinear/output/pipelines-ag8hxb2mwjo5-solar2-pipeline-trai-KxvOg1e9dZ/debug-output/index/000000000/000000000050_worker_0.json\n",
      "solar2/gblinear/output/pipelines-ag8hxb2mwjo5-solar2-pipeline-trai-KxvOg1e9dZ/debug-output/index/000000000/000000000060_worker_0.json\n",
      "solar2/gblinear/output/pipelines-ag8hxb2mwjo5-solar2-pipeline-trai-KxvOg1e9dZ/debug-output/index/000000000/000000000070_worker_0.json\n",
      "solar2/gblinear/output/pipelines-ag8hxb2mwjo5-solar2-pipeline-trai-KxvOg1e9dZ/debug-output/index/000000000/000000000080_worker_0.json\n",
      "solar2/gblinear/output/pipelines-ag8hxb2mwjo5-solar2-pipeline-trai-KxvOg1e9dZ/debug-output/index/000000000/000000000090_worker_0.json\n",
      "solar2/gblinear/output/pipelines-ag8hxb2mwjo5-solar2-pipeline-trai-KxvOg1e9dZ/debug-output/training_job_end.ts\n",
      "solar2/gblinear/output/pipelines-ag8hxb2mwjo5-solar2-pipeline-trai-KxvOg1e9dZ/output/model.tar.gz\n",
      "solar2/gblinear/output/pipelines-ag8hxb2mwjo5-solar2-pipeline-trai-KxvOg1e9dZ/profiler-output/framework/training_job_end.ts\n",
      "solar2/gblinear/output/pipelines-ag8hxb2mwjo5-solar2-pipeline-trai-KxvOg1e9dZ/profiler-output/system/incremental/2023062905/1688017140.algo-1.json\n",
      "solar2/gblinear/output/pipelines-ag8hxb2mwjo5-solar2-pipeline-trai-KxvOg1e9dZ/profiler-output/system/incremental/2023062905/1688017200.algo-1.json\n",
      "solar2/gblinear/output/pipelines-ag8hxb2mwjo5-solar2-pipeline-trai-KxvOg1e9dZ/profiler-output/system/training_job_end.ts\n",
      "solar2/gblinear/output/pipelines-cefi2yqx60lk-solar2-pipeline-trai-uhZBEpuG9v/debug-output/claim.smd\n",
      "solar2/gblinear/output/pipelines-cefi2yqx60lk-solar2-pipeline-trai-uhZBEpuG9v/debug-output/collections/000000000/worker_0_collections.json\n",
      "solar2/gblinear/output/pipelines-cefi2yqx60lk-solar2-pipeline-trai-uhZBEpuG9v/debug-output/events/000000000000/000000000000_worker_0.tfevents\n",
      "solar2/gblinear/output/pipelines-cefi2yqx60lk-solar2-pipeline-trai-uhZBEpuG9v/debug-output/events/000000000010/000000000010_worker_0.tfevents\n",
      "solar2/gblinear/output/pipelines-cefi2yqx60lk-solar2-pipeline-trai-uhZBEpuG9v/debug-output/events/000000000020/000000000020_worker_0.tfevents\n",
      "solar2/gblinear/output/pipelines-cefi2yqx60lk-solar2-pipeline-trai-uhZBEpuG9v/debug-output/events/000000000030/000000000030_worker_0.tfevents\n",
      "solar2/gblinear/output/pipelines-cefi2yqx60lk-solar2-pipeline-trai-uhZBEpuG9v/debug-output/events/000000000040/000000000040_worker_0.tfevents\n",
      "solar2/gblinear/output/pipelines-cefi2yqx60lk-solar2-pipeline-trai-uhZBEpuG9v/debug-output/events/000000000050/000000000050_worker_0.tfevents\n",
      "solar2/gblinear/output/pipelines-cefi2yqx60lk-solar2-pipeline-trai-uhZBEpuG9v/debug-output/events/000000000060/000000000060_worker_0.tfevents\n",
      "solar2/gblinear/output/pipelines-cefi2yqx60lk-solar2-pipeline-trai-uhZBEpuG9v/debug-output/events/000000000070/000000000070_worker_0.tfevents\n",
      "solar2/gblinear/output/pipelines-cefi2yqx60lk-solar2-pipeline-trai-uhZBEpuG9v/debug-output/events/000000000080/000000000080_worker_0.tfevents\n",
      "solar2/gblinear/output/pipelines-cefi2yqx60lk-solar2-pipeline-trai-uhZBEpuG9v/debug-output/events/000000000090/000000000090_worker_0.tfevents\n",
      "solar2/gblinear/output/pipelines-cefi2yqx60lk-solar2-pipeline-trai-uhZBEpuG9v/debug-output/index/000000000/000000000000_worker_0.json\n",
      "solar2/gblinear/output/pipelines-cefi2yqx60lk-solar2-pipeline-trai-uhZBEpuG9v/debug-output/index/000000000/000000000010_worker_0.json\n",
      "solar2/gblinear/output/pipelines-cefi2yqx60lk-solar2-pipeline-trai-uhZBEpuG9v/debug-output/index/000000000/000000000020_worker_0.json\n",
      "solar2/gblinear/output/pipelines-cefi2yqx60lk-solar2-pipeline-trai-uhZBEpuG9v/debug-output/index/000000000/000000000030_worker_0.json\n",
      "solar2/gblinear/output/pipelines-cefi2yqx60lk-solar2-pipeline-trai-uhZBEpuG9v/debug-output/index/000000000/000000000040_worker_0.json\n",
      "solar2/gblinear/output/pipelines-cefi2yqx60lk-solar2-pipeline-trai-uhZBEpuG9v/debug-output/index/000000000/000000000050_worker_0.json\n",
      "solar2/gblinear/output/pipelines-cefi2yqx60lk-solar2-pipeline-trai-uhZBEpuG9v/debug-output/index/000000000/000000000060_worker_0.json\n",
      "solar2/gblinear/output/pipelines-cefi2yqx60lk-solar2-pipeline-trai-uhZBEpuG9v/debug-output/index/000000000/000000000070_worker_0.json\n",
      "solar2/gblinear/output/pipelines-cefi2yqx60lk-solar2-pipeline-trai-uhZBEpuG9v/debug-output/index/000000000/000000000080_worker_0.json\n",
      "solar2/gblinear/output/pipelines-cefi2yqx60lk-solar2-pipeline-trai-uhZBEpuG9v/debug-output/index/000000000/000000000090_worker_0.json\n",
      "solar2/gblinear/output/pipelines-cefi2yqx60lk-solar2-pipeline-trai-uhZBEpuG9v/debug-output/training_job_end.ts\n",
      "solar2/gblinear/output/pipelines-cefi2yqx60lk-solar2-pipeline-trai-uhZBEpuG9v/output/model.tar.gz\n",
      "solar2/gblinear/output/pipelines-cefi2yqx60lk-solar2-pipeline-trai-uhZBEpuG9v/profiler-output/framework/training_job_end.ts\n",
      "solar2/gblinear/output/pipelines-cefi2yqx60lk-solar2-pipeline-trai-uhZBEpuG9v/profiler-output/system/incremental/2023062905/1688017980.algo-1.json\n",
      "solar2/gblinear/output/pipelines-cefi2yqx60lk-solar2-pipeline-trai-uhZBEpuG9v/profiler-output/system/training_job_end.ts\n",
      "solar2/gblinear/output/pipelines-lcgfr3k9g51w-solar2-pipeline-trai-NKmMZ2KqgH/debug-output/claim.smd\n",
      "solar2/gblinear/output/pipelines-lcgfr3k9g51w-solar2-pipeline-trai-NKmMZ2KqgH/debug-output/collections/000000000/worker_0_collections.json\n",
      "solar2/gblinear/output/pipelines-lcgfr3k9g51w-solar2-pipeline-trai-NKmMZ2KqgH/debug-output/events/000000000000/000000000000_worker_0.tfevents\n",
      "solar2/gblinear/output/pipelines-lcgfr3k9g51w-solar2-pipeline-trai-NKmMZ2KqgH/debug-output/events/000000000010/000000000010_worker_0.tfevents\n",
      "solar2/gblinear/output/pipelines-lcgfr3k9g51w-solar2-pipeline-trai-NKmMZ2KqgH/debug-output/events/000000000020/000000000020_worker_0.tfevents\n",
      "solar2/gblinear/output/pipelines-lcgfr3k9g51w-solar2-pipeline-trai-NKmMZ2KqgH/debug-output/events/000000000030/000000000030_worker_0.tfevents\n",
      "solar2/gblinear/output/pipelines-lcgfr3k9g51w-solar2-pipeline-trai-NKmMZ2KqgH/debug-output/events/000000000040/000000000040_worker_0.tfevents\n",
      "solar2/gblinear/output/pipelines-lcgfr3k9g51w-solar2-pipeline-trai-NKmMZ2KqgH/debug-output/events/000000000050/000000000050_worker_0.tfevents\n",
      "solar2/gblinear/output/pipelines-lcgfr3k9g51w-solar2-pipeline-trai-NKmMZ2KqgH/debug-output/events/000000000060/000000000060_worker_0.tfevents\n",
      "solar2/gblinear/output/pipelines-lcgfr3k9g51w-solar2-pipeline-trai-NKmMZ2KqgH/debug-output/events/000000000070/000000000070_worker_0.tfevents\n",
      "solar2/gblinear/output/pipelines-lcgfr3k9g51w-solar2-pipeline-trai-NKmMZ2KqgH/debug-output/events/000000000080/000000000080_worker_0.tfevents\n",
      "solar2/gblinear/output/pipelines-lcgfr3k9g51w-solar2-pipeline-trai-NKmMZ2KqgH/debug-output/events/000000000090/000000000090_worker_0.tfevents\n",
      "solar2/gblinear/output/pipelines-lcgfr3k9g51w-solar2-pipeline-trai-NKmMZ2KqgH/debug-output/index/000000000/000000000000_worker_0.json\n",
      "solar2/gblinear/output/pipelines-lcgfr3k9g51w-solar2-pipeline-trai-NKmMZ2KqgH/debug-output/index/000000000/000000000010_worker_0.json\n",
      "solar2/gblinear/output/pipelines-lcgfr3k9g51w-solar2-pipeline-trai-NKmMZ2KqgH/debug-output/index/000000000/000000000020_worker_0.json\n",
      "solar2/gblinear/output/pipelines-lcgfr3k9g51w-solar2-pipeline-trai-NKmMZ2KqgH/debug-output/index/000000000/000000000030_worker_0.json\n",
      "solar2/gblinear/output/pipelines-lcgfr3k9g51w-solar2-pipeline-trai-NKmMZ2KqgH/debug-output/index/000000000/000000000040_worker_0.json\n",
      "solar2/gblinear/output/pipelines-lcgfr3k9g51w-solar2-pipeline-trai-NKmMZ2KqgH/debug-output/index/000000000/000000000050_worker_0.json\n",
      "solar2/gblinear/output/pipelines-lcgfr3k9g51w-solar2-pipeline-trai-NKmMZ2KqgH/debug-output/index/000000000/000000000060_worker_0.json\n",
      "solar2/gblinear/output/pipelines-lcgfr3k9g51w-solar2-pipeline-trai-NKmMZ2KqgH/debug-output/index/000000000/000000000070_worker_0.json\n",
      "solar2/gblinear/output/pipelines-lcgfr3k9g51w-solar2-pipeline-trai-NKmMZ2KqgH/debug-output/index/000000000/000000000080_worker_0.json\n",
      "solar2/gblinear/output/pipelines-lcgfr3k9g51w-solar2-pipeline-trai-NKmMZ2KqgH/debug-output/index/000000000/000000000090_worker_0.json\n",
      "solar2/gblinear/output/pipelines-lcgfr3k9g51w-solar2-pipeline-trai-NKmMZ2KqgH/debug-output/training_job_end.ts\n",
      "solar2/gblinear/output/pipelines-lcgfr3k9g51w-solar2-pipeline-trai-NKmMZ2KqgH/output/model.tar.gz\n",
      "solar2/gblinear/output/pipelines-lcgfr3k9g51w-solar2-pipeline-trai-NKmMZ2KqgH/profiler-output/framework/training_job_end.ts\n",
      "solar2/gblinear/output/pipelines-lcgfr3k9g51w-solar2-pipeline-trai-NKmMZ2KqgH/profiler-output/system/incremental/2023062904/1688013840.algo-1.json\n",
      "solar2/gblinear/output/pipelines-lcgfr3k9g51w-solar2-pipeline-trai-NKmMZ2KqgH/profiler-output/system/incremental/2023062904/1688013900.algo-1.json\n",
      "solar2/gblinear/output/pipelines-lcgfr3k9g51w-solar2-pipeline-trai-NKmMZ2KqgH/profiler-output/system/training_job_end.ts\n",
      "solar2/gblinear/output/pipelines-n7fmo34r748i-solar2-pipeline-trai-TWzA3tnCpj/debug-output/claim.smd\n",
      "solar2/gblinear/output/pipelines-n7fmo34r748i-solar2-pipeline-trai-TWzA3tnCpj/debug-output/collections/000000000/worker_0_collections.json\n",
      "solar2/gblinear/output/pipelines-n7fmo34r748i-solar2-pipeline-trai-TWzA3tnCpj/debug-output/events/000000000000/000000000000_worker_0.tfevents\n",
      "solar2/gblinear/output/pipelines-n7fmo34r748i-solar2-pipeline-trai-TWzA3tnCpj/debug-output/events/000000000010/000000000010_worker_0.tfevents\n",
      "solar2/gblinear/output/pipelines-n7fmo34r748i-solar2-pipeline-trai-TWzA3tnCpj/debug-output/events/000000000020/000000000020_worker_0.tfevents\n",
      "solar2/gblinear/output/pipelines-n7fmo34r748i-solar2-pipeline-trai-TWzA3tnCpj/debug-output/events/000000000030/000000000030_worker_0.tfevents\n",
      "solar2/gblinear/output/pipelines-n7fmo34r748i-solar2-pipeline-trai-TWzA3tnCpj/debug-output/events/000000000040/000000000040_worker_0.tfevents\n",
      "solar2/gblinear/output/pipelines-n7fmo34r748i-solar2-pipeline-trai-TWzA3tnCpj/debug-output/events/000000000050/000000000050_worker_0.tfevents\n",
      "solar2/gblinear/output/pipelines-n7fmo34r748i-solar2-pipeline-trai-TWzA3tnCpj/debug-output/events/000000000060/000000000060_worker_0.tfevents\n",
      "solar2/gblinear/output/pipelines-n7fmo34r748i-solar2-pipeline-trai-TWzA3tnCpj/debug-output/events/000000000070/000000000070_worker_0.tfevents\n",
      "solar2/gblinear/output/pipelines-n7fmo34r748i-solar2-pipeline-trai-TWzA3tnCpj/debug-output/events/000000000080/000000000080_worker_0.tfevents\n",
      "solar2/gblinear/output/pipelines-n7fmo34r748i-solar2-pipeline-trai-TWzA3tnCpj/debug-output/events/000000000090/000000000090_worker_0.tfevents\n",
      "solar2/gblinear/output/pipelines-n7fmo34r748i-solar2-pipeline-trai-TWzA3tnCpj/debug-output/index/000000000/000000000000_worker_0.json\n",
      "solar2/gblinear/output/pipelines-n7fmo34r748i-solar2-pipeline-trai-TWzA3tnCpj/debug-output/index/000000000/000000000010_worker_0.json\n",
      "solar2/gblinear/output/pipelines-n7fmo34r748i-solar2-pipeline-trai-TWzA3tnCpj/debug-output/index/000000000/000000000020_worker_0.json\n",
      "solar2/gblinear/output/pipelines-n7fmo34r748i-solar2-pipeline-trai-TWzA3tnCpj/debug-output/index/000000000/000000000030_worker_0.json\n",
      "solar2/gblinear/output/pipelines-n7fmo34r748i-solar2-pipeline-trai-TWzA3tnCpj/debug-output/index/000000000/000000000040_worker_0.json\n",
      "solar2/gblinear/output/pipelines-n7fmo34r748i-solar2-pipeline-trai-TWzA3tnCpj/debug-output/index/000000000/000000000050_worker_0.json\n",
      "solar2/gblinear/output/pipelines-n7fmo34r748i-solar2-pipeline-trai-TWzA3tnCpj/debug-output/index/000000000/000000000060_worker_0.json\n",
      "solar2/gblinear/output/pipelines-n7fmo34r748i-solar2-pipeline-trai-TWzA3tnCpj/debug-output/index/000000000/000000000070_worker_0.json\n",
      "solar2/gblinear/output/pipelines-n7fmo34r748i-solar2-pipeline-trai-TWzA3tnCpj/debug-output/index/000000000/000000000080_worker_0.json\n",
      "solar2/gblinear/output/pipelines-n7fmo34r748i-solar2-pipeline-trai-TWzA3tnCpj/debug-output/index/000000000/000000000090_worker_0.json\n",
      "solar2/gblinear/output/pipelines-n7fmo34r748i-solar2-pipeline-trai-TWzA3tnCpj/debug-output/training_job_end.ts\n",
      "solar2/gblinear/output/pipelines-n7fmo34r748i-solar2-pipeline-trai-TWzA3tnCpj/output/model.tar.gz\n",
      "solar2/gblinear/output/pipelines-n7fmo34r748i-solar2-pipeline-trai-TWzA3tnCpj/profiler-output/framework/training_job_end.ts\n",
      "solar2/gblinear/output/pipelines-n7fmo34r748i-solar2-pipeline-trai-TWzA3tnCpj/profiler-output/system/incremental/2023062905/1688017860.algo-1.json\n",
      "solar2/gblinear/output/pipelines-n7fmo34r748i-solar2-pipeline-trai-TWzA3tnCpj/profiler-output/system/incremental/2023062905/1688017920.algo-1.json\n",
      "solar2/gblinear/output/pipelines-n7fmo34r748i-solar2-pipeline-trai-TWzA3tnCpj/profiler-output/system/training_job_end.ts\n",
      "solar2/gblinear/output/pipelines-ppwx07jfcrt7-solar2-pipeline-trai-OFfnQNFOBy/debug-output/claim.smd\n",
      "solar2/gblinear/output/pipelines-ppwx07jfcrt7-solar2-pipeline-trai-OFfnQNFOBy/debug-output/collections/000000000/worker_0_collections.json\n",
      "solar2/gblinear/output/pipelines-ppwx07jfcrt7-solar2-pipeline-trai-OFfnQNFOBy/debug-output/events/000000000000/000000000000_worker_0.tfevents\n",
      "solar2/gblinear/output/pipelines-ppwx07jfcrt7-solar2-pipeline-trai-OFfnQNFOBy/debug-output/events/000000000010/000000000010_worker_0.tfevents\n",
      "solar2/gblinear/output/pipelines-ppwx07jfcrt7-solar2-pipeline-trai-OFfnQNFOBy/debug-output/events/000000000020/000000000020_worker_0.tfevents\n",
      "solar2/gblinear/output/pipelines-ppwx07jfcrt7-solar2-pipeline-trai-OFfnQNFOBy/debug-output/events/000000000030/000000000030_worker_0.tfevents\n",
      "solar2/gblinear/output/pipelines-ppwx07jfcrt7-solar2-pipeline-trai-OFfnQNFOBy/debug-output/events/000000000040/000000000040_worker_0.tfevents\n",
      "solar2/gblinear/output/pipelines-ppwx07jfcrt7-solar2-pipeline-trai-OFfnQNFOBy/debug-output/events/000000000050/000000000050_worker_0.tfevents\n",
      "solar2/gblinear/output/pipelines-ppwx07jfcrt7-solar2-pipeline-trai-OFfnQNFOBy/debug-output/events/000000000060/000000000060_worker_0.tfevents\n",
      "solar2/gblinear/output/pipelines-ppwx07jfcrt7-solar2-pipeline-trai-OFfnQNFOBy/debug-output/events/000000000070/000000000070_worker_0.tfevents\n",
      "solar2/gblinear/output/pipelines-ppwx07jfcrt7-solar2-pipeline-trai-OFfnQNFOBy/debug-output/events/000000000080/000000000080_worker_0.tfevents\n",
      "solar2/gblinear/output/pipelines-ppwx07jfcrt7-solar2-pipeline-trai-OFfnQNFOBy/debug-output/events/000000000090/000000000090_worker_0.tfevents\n",
      "solar2/gblinear/output/pipelines-ppwx07jfcrt7-solar2-pipeline-trai-OFfnQNFOBy/debug-output/index/000000000/000000000000_worker_0.json\n",
      "solar2/gblinear/output/pipelines-ppwx07jfcrt7-solar2-pipeline-trai-OFfnQNFOBy/debug-output/index/000000000/000000000010_worker_0.json\n",
      "solar2/gblinear/output/pipelines-ppwx07jfcrt7-solar2-pipeline-trai-OFfnQNFOBy/debug-output/index/000000000/000000000020_worker_0.json\n",
      "solar2/gblinear/output/pipelines-ppwx07jfcrt7-solar2-pipeline-trai-OFfnQNFOBy/debug-output/index/000000000/000000000030_worker_0.json\n",
      "solar2/gblinear/output/pipelines-ppwx07jfcrt7-solar2-pipeline-trai-OFfnQNFOBy/debug-output/index/000000000/000000000040_worker_0.json\n",
      "solar2/gblinear/output/pipelines-ppwx07jfcrt7-solar2-pipeline-trai-OFfnQNFOBy/debug-output/index/000000000/000000000050_worker_0.json\n",
      "solar2/gblinear/output/pipelines-ppwx07jfcrt7-solar2-pipeline-trai-OFfnQNFOBy/debug-output/index/000000000/000000000060_worker_0.json\n",
      "solar2/gblinear/output/pipelines-ppwx07jfcrt7-solar2-pipeline-trai-OFfnQNFOBy/debug-output/index/000000000/000000000070_worker_0.json\n",
      "solar2/gblinear/output/pipelines-ppwx07jfcrt7-solar2-pipeline-trai-OFfnQNFOBy/debug-output/index/000000000/000000000080_worker_0.json\n",
      "solar2/gblinear/output/pipelines-ppwx07jfcrt7-solar2-pipeline-trai-OFfnQNFOBy/debug-output/index/000000000/000000000090_worker_0.json\n",
      "solar2/gblinear/output/pipelines-ppwx07jfcrt7-solar2-pipeline-trai-OFfnQNFOBy/debug-output/training_job_end.ts\n",
      "solar2/gblinear/output/pipelines-ppwx07jfcrt7-solar2-pipeline-trai-OFfnQNFOBy/output/model.tar.gz\n",
      "solar2/gblinear/output/pipelines-ppwx07jfcrt7-solar2-pipeline-trai-OFfnQNFOBy/profiler-output/framework/training_job_end.ts\n",
      "solar2/gblinear/output/pipelines-ppwx07jfcrt7-solar2-pipeline-trai-OFfnQNFOBy/profiler-output/system/incremental/2023062904/1688014740.algo-1.json\n",
      "solar2/gblinear/output/pipelines-ppwx07jfcrt7-solar2-pipeline-trai-OFfnQNFOBy/profiler-output/system/training_job_end.ts\n",
      "solar2/gblinear/output/pipelines-pr486ous7n0a-solar2-pipeline-trai-VQUTowpLtc/debug-output/claim.smd\n",
      "solar2/gblinear/output/pipelines-pr486ous7n0a-solar2-pipeline-trai-VQUTowpLtc/debug-output/collections/000000000/worker_0_collections.json\n",
      "solar2/gblinear/output/pipelines-pr486ous7n0a-solar2-pipeline-trai-VQUTowpLtc/debug-output/events/000000000000/000000000000_worker_0.tfevents\n",
      "solar2/gblinear/output/pipelines-pr486ous7n0a-solar2-pipeline-trai-VQUTowpLtc/debug-output/events/000000000010/000000000010_worker_0.tfevents\n",
      "solar2/gblinear/output/pipelines-pr486ous7n0a-solar2-pipeline-trai-VQUTowpLtc/debug-output/events/000000000020/000000000020_worker_0.tfevents\n",
      "solar2/gblinear/output/pipelines-pr486ous7n0a-solar2-pipeline-trai-VQUTowpLtc/debug-output/events/000000000030/000000000030_worker_0.tfevents\n",
      "solar2/gblinear/output/pipelines-pr486ous7n0a-solar2-pipeline-trai-VQUTowpLtc/debug-output/events/000000000040/000000000040_worker_0.tfevents\n",
      "solar2/gblinear/output/pipelines-pr486ous7n0a-solar2-pipeline-trai-VQUTowpLtc/debug-output/events/000000000050/000000000050_worker_0.tfevents\n",
      "solar2/gblinear/output/pipelines-pr486ous7n0a-solar2-pipeline-trai-VQUTowpLtc/debug-output/events/000000000060/000000000060_worker_0.tfevents\n",
      "solar2/gblinear/output/pipelines-pr486ous7n0a-solar2-pipeline-trai-VQUTowpLtc/debug-output/events/000000000070/000000000070_worker_0.tfevents\n",
      "solar2/gblinear/output/pipelines-pr486ous7n0a-solar2-pipeline-trai-VQUTowpLtc/debug-output/events/000000000080/000000000080_worker_0.tfevents\n",
      "solar2/gblinear/output/pipelines-pr486ous7n0a-solar2-pipeline-trai-VQUTowpLtc/debug-output/events/000000000090/000000000090_worker_0.tfevents\n",
      "solar2/gblinear/output/pipelines-pr486ous7n0a-solar2-pipeline-trai-VQUTowpLtc/debug-output/index/000000000/000000000000_worker_0.json\n",
      "solar2/gblinear/output/pipelines-pr486ous7n0a-solar2-pipeline-trai-VQUTowpLtc/debug-output/index/000000000/000000000010_worker_0.json\n",
      "solar2/gblinear/output/pipelines-pr486ous7n0a-solar2-pipeline-trai-VQUTowpLtc/debug-output/index/000000000/000000000020_worker_0.json\n",
      "solar2/gblinear/output/pipelines-pr486ous7n0a-solar2-pipeline-trai-VQUTowpLtc/debug-output/index/000000000/000000000030_worker_0.json\n",
      "solar2/gblinear/output/pipelines-pr486ous7n0a-solar2-pipeline-trai-VQUTowpLtc/debug-output/index/000000000/000000000040_worker_0.json\n",
      "solar2/gblinear/output/pipelines-pr486ous7n0a-solar2-pipeline-trai-VQUTowpLtc/debug-output/index/000000000/000000000050_worker_0.json\n",
      "solar2/gblinear/output/pipelines-pr486ous7n0a-solar2-pipeline-trai-VQUTowpLtc/debug-output/index/000000000/000000000060_worker_0.json\n",
      "solar2/gblinear/output/pipelines-pr486ous7n0a-solar2-pipeline-trai-VQUTowpLtc/debug-output/index/000000000/000000000070_worker_0.json\n",
      "solar2/gblinear/output/pipelines-pr486ous7n0a-solar2-pipeline-trai-VQUTowpLtc/debug-output/index/000000000/000000000080_worker_0.json\n",
      "solar2/gblinear/output/pipelines-pr486ous7n0a-solar2-pipeline-trai-VQUTowpLtc/debug-output/index/000000000/000000000090_worker_0.json\n",
      "solar2/gblinear/output/pipelines-pr486ous7n0a-solar2-pipeline-trai-VQUTowpLtc/debug-output/training_job_end.ts\n",
      "solar2/gblinear/output/pipelines-pr486ous7n0a-solar2-pipeline-trai-VQUTowpLtc/output/model.tar.gz\n",
      "solar2/gblinear/output/pipelines-pr486ous7n0a-solar2-pipeline-trai-VQUTowpLtc/profiler-output/framework/training_job_end.ts\n",
      "solar2/gblinear/output/pipelines-pr486ous7n0a-solar2-pipeline-trai-VQUTowpLtc/profiler-output/system/incremental/2023062813/1687959240.algo-1.json\n",
      "solar2/gblinear/output/pipelines-pr486ous7n0a-solar2-pipeline-trai-VQUTowpLtc/profiler-output/system/incremental/2023062813/1687959300.algo-1.json\n",
      "solar2/gblinear/output/pipelines-pr486ous7n0a-solar2-pipeline-trai-VQUTowpLtc/profiler-output/system/training_job_end.ts\n",
      "solar2/gblinear/output/pipelines-rbgrweb2clxo-solar2-pipeline-trai-nrli042x34/debug-output/training_job_end.ts\n",
      "solar2/gblinear/output/pipelines-rbgrweb2clxo-solar2-pipeline-trai-nrli042x34/profiler-output/framework/training_job_end.ts\n",
      "solar2/gblinear/output/pipelines-rbgrweb2clxo-solar2-pipeline-trai-nrli042x34/profiler-output/system/incremental/2023062808/1687942200.algo-1.json\n",
      "solar2/gblinear/output/pipelines-rbgrweb2clxo-solar2-pipeline-trai-nrli042x34/profiler-output/system/incremental/2023062808/1687942260.algo-1.json\n",
      "solar2/gblinear/output/pipelines-rbgrweb2clxo-solar2-pipeline-trai-nrli042x34/profiler-output/system/incremental/2023062808/1687942320.algo-1.json\n",
      "solar2/gblinear/output/pipelines-rbgrweb2clxo-solar2-pipeline-trai-nrli042x34/profiler-output/system/training_job_end.ts\n",
      "solar2/gblinear/output/pipelines-sgp4hwdncaw4-solar2-pipeline-trai-KJ1Da5MyYI/debug-output/training_job_end.ts\n",
      "solar2/gblinear/output/pipelines-sgp4hwdncaw4-solar2-pipeline-trai-KJ1Da5MyYI/profiler-output/framework/training_job_end.ts\n",
      "solar2/gblinear/output/pipelines-sgp4hwdncaw4-solar2-pipeline-trai-KJ1Da5MyYI/profiler-output/system/incremental/2023062809/1687943820.algo-1.json\n",
      "solar2/gblinear/output/pipelines-sgp4hwdncaw4-solar2-pipeline-trai-KJ1Da5MyYI/profiler-output/system/incremental/2023062809/1687943880.algo-1.json\n",
      "solar2/gblinear/output/pipelines-sgp4hwdncaw4-solar2-pipeline-trai-KJ1Da5MyYI/profiler-output/system/incremental/2023062809/1687943940.algo-1.json\n",
      "solar2/gblinear/output/pipelines-sgp4hwdncaw4-solar2-pipeline-trai-KJ1Da5MyYI/profiler-output/system/training_job_end.ts\n",
      "solar2/gblinear/output/pipelines-wi9z4yyilo21-solar2-pipeline-trai-cF2C0Uw0z7/debug-output/claim.smd\n",
      "solar2/gblinear/output/pipelines-wi9z4yyilo21-solar2-pipeline-trai-cF2C0Uw0z7/debug-output/collections/000000000/worker_0_collections.json\n",
      "solar2/gblinear/output/pipelines-wi9z4yyilo21-solar2-pipeline-trai-cF2C0Uw0z7/debug-output/events/000000000000/000000000000_worker_0.tfevents\n",
      "solar2/gblinear/output/pipelines-wi9z4yyilo21-solar2-pipeline-trai-cF2C0Uw0z7/debug-output/events/000000000010/000000000010_worker_0.tfevents\n",
      "solar2/gblinear/output/pipelines-wi9z4yyilo21-solar2-pipeline-trai-cF2C0Uw0z7/debug-output/events/000000000020/000000000020_worker_0.tfevents\n",
      "solar2/gblinear/output/pipelines-wi9z4yyilo21-solar2-pipeline-trai-cF2C0Uw0z7/debug-output/events/000000000030/000000000030_worker_0.tfevents\n",
      "solar2/gblinear/output/pipelines-wi9z4yyilo21-solar2-pipeline-trai-cF2C0Uw0z7/debug-output/events/000000000040/000000000040_worker_0.tfevents\n",
      "solar2/gblinear/output/pipelines-wi9z4yyilo21-solar2-pipeline-trai-cF2C0Uw0z7/debug-output/events/000000000050/000000000050_worker_0.tfevents\n",
      "solar2/gblinear/output/pipelines-wi9z4yyilo21-solar2-pipeline-trai-cF2C0Uw0z7/debug-output/events/000000000060/000000000060_worker_0.tfevents\n",
      "solar2/gblinear/output/pipelines-wi9z4yyilo21-solar2-pipeline-trai-cF2C0Uw0z7/debug-output/events/000000000070/000000000070_worker_0.tfevents\n",
      "solar2/gblinear/output/pipelines-wi9z4yyilo21-solar2-pipeline-trai-cF2C0Uw0z7/debug-output/events/000000000080/000000000080_worker_0.tfevents\n",
      "solar2/gblinear/output/pipelines-wi9z4yyilo21-solar2-pipeline-trai-cF2C0Uw0z7/debug-output/events/000000000090/000000000090_worker_0.tfevents\n",
      "solar2/gblinear/output/pipelines-wi9z4yyilo21-solar2-pipeline-trai-cF2C0Uw0z7/debug-output/index/000000000/000000000000_worker_0.json\n",
      "solar2/gblinear/output/pipelines-wi9z4yyilo21-solar2-pipeline-trai-cF2C0Uw0z7/debug-output/index/000000000/000000000010_worker_0.json\n",
      "solar2/gblinear/output/pipelines-wi9z4yyilo21-solar2-pipeline-trai-cF2C0Uw0z7/debug-output/index/000000000/000000000020_worker_0.json\n",
      "solar2/gblinear/output/pipelines-wi9z4yyilo21-solar2-pipeline-trai-cF2C0Uw0z7/debug-output/index/000000000/000000000030_worker_0.json\n",
      "solar2/gblinear/output/pipelines-wi9z4yyilo21-solar2-pipeline-trai-cF2C0Uw0z7/debug-output/index/000000000/000000000040_worker_0.json\n",
      "solar2/gblinear/output/pipelines-wi9z4yyilo21-solar2-pipeline-trai-cF2C0Uw0z7/debug-output/index/000000000/000000000050_worker_0.json\n",
      "solar2/gblinear/output/pipelines-wi9z4yyilo21-solar2-pipeline-trai-cF2C0Uw0z7/debug-output/index/000000000/000000000060_worker_0.json\n",
      "solar2/gblinear/output/pipelines-wi9z4yyilo21-solar2-pipeline-trai-cF2C0Uw0z7/debug-output/index/000000000/000000000070_worker_0.json\n",
      "solar2/gblinear/output/pipelines-wi9z4yyilo21-solar2-pipeline-trai-cF2C0Uw0z7/debug-output/index/000000000/000000000080_worker_0.json\n",
      "solar2/gblinear/output/pipelines-wi9z4yyilo21-solar2-pipeline-trai-cF2C0Uw0z7/debug-output/index/000000000/000000000090_worker_0.json\n",
      "solar2/gblinear/output/pipelines-wi9z4yyilo21-solar2-pipeline-trai-cF2C0Uw0z7/debug-output/training_job_end.ts\n",
      "solar2/gblinear/output/pipelines-wi9z4yyilo21-solar2-pipeline-trai-cF2C0Uw0z7/output/model.tar.gz\n",
      "solar2/gblinear/output/pipelines-wi9z4yyilo21-solar2-pipeline-trai-cF2C0Uw0z7/profiler-output/framework/training_job_end.ts\n",
      "solar2/gblinear/output/pipelines-wi9z4yyilo21-solar2-pipeline-trai-cF2C0Uw0z7/profiler-output/system/incremental/2023062905/1688016300.algo-1.json\n",
      "solar2/gblinear/output/pipelines-wi9z4yyilo21-solar2-pipeline-trai-cF2C0Uw0z7/profiler-output/system/incremental/2023062905/1688016360.algo-1.json\n",
      "solar2/gblinear/output/pipelines-wi9z4yyilo21-solar2-pipeline-trai-cF2C0Uw0z7/profiler-output/system/training_job_end.ts\n",
      "solar2/gblinear/output/pipelines-yacxyvkttxw4-solar2-pipeline-trai-MRqBlgh9A3/debug-output/claim.smd\n",
      "solar2/gblinear/output/pipelines-yacxyvkttxw4-solar2-pipeline-trai-MRqBlgh9A3/debug-output/collections/000000000/worker_0_collections.json\n",
      "solar2/gblinear/output/pipelines-yacxyvkttxw4-solar2-pipeline-trai-MRqBlgh9A3/debug-output/events/000000000000/000000000000_worker_0.tfevents\n",
      "solar2/gblinear/output/pipelines-yacxyvkttxw4-solar2-pipeline-trai-MRqBlgh9A3/debug-output/events/000000000010/000000000010_worker_0.tfevents\n",
      "solar2/gblinear/output/pipelines-yacxyvkttxw4-solar2-pipeline-trai-MRqBlgh9A3/debug-output/events/000000000020/000000000020_worker_0.tfevents\n",
      "solar2/gblinear/output/pipelines-yacxyvkttxw4-solar2-pipeline-trai-MRqBlgh9A3/debug-output/events/000000000030/000000000030_worker_0.tfevents\n",
      "solar2/gblinear/output/pipelines-yacxyvkttxw4-solar2-pipeline-trai-MRqBlgh9A3/debug-output/events/000000000040/000000000040_worker_0.tfevents\n",
      "solar2/gblinear/output/pipelines-yacxyvkttxw4-solar2-pipeline-trai-MRqBlgh9A3/debug-output/events/000000000050/000000000050_worker_0.tfevents\n",
      "solar2/gblinear/output/pipelines-yacxyvkttxw4-solar2-pipeline-trai-MRqBlgh9A3/debug-output/events/000000000060/000000000060_worker_0.tfevents\n",
      "solar2/gblinear/output/pipelines-yacxyvkttxw4-solar2-pipeline-trai-MRqBlgh9A3/debug-output/events/000000000070/000000000070_worker_0.tfevents\n",
      "solar2/gblinear/output/pipelines-yacxyvkttxw4-solar2-pipeline-trai-MRqBlgh9A3/debug-output/events/000000000080/000000000080_worker_0.tfevents\n",
      "solar2/gblinear/output/pipelines-yacxyvkttxw4-solar2-pipeline-trai-MRqBlgh9A3/debug-output/events/000000000090/000000000090_worker_0.tfevents\n",
      "solar2/gblinear/output/pipelines-yacxyvkttxw4-solar2-pipeline-trai-MRqBlgh9A3/debug-output/index/000000000/000000000000_worker_0.json\n",
      "solar2/gblinear/output/pipelines-yacxyvkttxw4-solar2-pipeline-trai-MRqBlgh9A3/debug-output/index/000000000/000000000010_worker_0.json\n",
      "solar2/gblinear/output/pipelines-yacxyvkttxw4-solar2-pipeline-trai-MRqBlgh9A3/debug-output/index/000000000/000000000020_worker_0.json\n",
      "solar2/gblinear/output/pipelines-yacxyvkttxw4-solar2-pipeline-trai-MRqBlgh9A3/debug-output/index/000000000/000000000030_worker_0.json\n",
      "solar2/gblinear/output/pipelines-yacxyvkttxw4-solar2-pipeline-trai-MRqBlgh9A3/debug-output/index/000000000/000000000040_worker_0.json\n",
      "solar2/gblinear/output/pipelines-yacxyvkttxw4-solar2-pipeline-trai-MRqBlgh9A3/debug-output/index/000000000/000000000050_worker_0.json\n",
      "solar2/gblinear/output/pipelines-yacxyvkttxw4-solar2-pipeline-trai-MRqBlgh9A3/debug-output/index/000000000/000000000060_worker_0.json\n",
      "solar2/gblinear/output/pipelines-yacxyvkttxw4-solar2-pipeline-trai-MRqBlgh9A3/debug-output/index/000000000/000000000070_worker_0.json\n",
      "solar2/gblinear/output/pipelines-yacxyvkttxw4-solar2-pipeline-trai-MRqBlgh9A3/debug-output/index/000000000/000000000080_worker_0.json\n",
      "solar2/gblinear/output/pipelines-yacxyvkttxw4-solar2-pipeline-trai-MRqBlgh9A3/debug-output/index/000000000/000000000090_worker_0.json\n",
      "solar2/gblinear/output/pipelines-yacxyvkttxw4-solar2-pipeline-trai-MRqBlgh9A3/debug-output/training_job_end.ts\n",
      "solar2/gblinear/output/pipelines-yacxyvkttxw4-solar2-pipeline-trai-MRqBlgh9A3/output/model.tar.gz\n",
      "solar2/gblinear/output/pipelines-yacxyvkttxw4-solar2-pipeline-trai-MRqBlgh9A3/profiler-output/framework/training_job_end.ts\n",
      "solar2/gblinear/output/pipelines-yacxyvkttxw4-solar2-pipeline-trai-MRqBlgh9A3/profiler-output/system/incremental/2023062905/1688015460.algo-1.json\n",
      "solar2/gblinear/output/pipelines-yacxyvkttxw4-solar2-pipeline-trai-MRqBlgh9A3/profiler-output/system/incremental/2023062905/1688015520.algo-1.json\n",
      "solar2/gblinear/output/pipelines-yacxyvkttxw4-solar2-pipeline-trai-MRqBlgh9A3/profiler-output/system/training_job_end.ts\n",
      "solar2/gblinear/prediction_baseline/prediction_baseline.csv\n",
      "solar2/gblinear/test/test_x.csv\n",
      "solar2/gblinear/test/test_y.csv\n",
      "solar2/gblinear/train/train.csv\n",
      "solar2/gblinear/validation/validation.csv\n"
     ]
    }
   ],
   "source": [
    "#check if data in bucket_name\n",
    "\n",
    "s3 = boto3.client('s3')\n",
    "prefix =bucket_prefix\n",
    "\n",
    "response = s3.list_objects_v2(Bucket=bucket_name, Prefix=prefix)\n",
    "\n",
    "if 'Contents' in response:\n",
    "    print(f\"Files in {bucket_name} with prefix '{prefix}':\")\n",
    "    for obj in response['Contents']:\n",
    "        file_name = obj['Key']\n",
    "        print(file_name)\n",
    "else:\n",
    "    print(f\"No files found in {bucket_name} with prefix '{prefix}'\")"
   ]
  },
  {
   "cell_type": "markdown",
   "id": "cd941676-a844-47df-8d32-653ac2def6c4",
   "metadata": {},
   "source": [
    "## Create pipeline\n",
    "### Setup pipeline parameters"
   ]
  },
  {
   "cell_type": "code",
   "execution_count": 65,
   "id": "8713d926-5a17-4c83-9700-570e0d5c2d0f",
   "metadata": {
    "tags": []
   },
   "outputs": [],
   "source": [
    "# Set processing instance type\n",
    "process_instance_type_param = ParameterString(\n",
    "    name=\"ProcessingInstanceType\",\n",
    "    default_value=process_instance_type,\n",
    ")\n",
    "\n",
    "# Set training instance type\n",
    "train_instance_type_param = ParameterString(\n",
    "    name=\"TrainingInstanceType\",\n",
    "    default_value=train_instance_type,\n",
    ")\n",
    "\n",
    "# Set training instance count\n",
    "train_instance_count_param = ParameterInteger(\n",
    "    name=\"TrainingInstanceCount\",\n",
    "    default_value=train_instance_count\n",
    ")\n",
    "\n",
    "# Set model approval param\n",
    "model_approval_status_param = ParameterString(\n",
    "    name=\"ModelApprovalStatus\",\n",
    "    default_value=\"PendingManualApproval\"\n",
    ")\n",
    "\n",
    "# Minimal threshold for model performance on the test dataset\n",
    "test_score_threshold_param = ParameterFloat(\n",
    "    name=\"TestScoreThreshold\", \n",
    "    default_value=0.5\n",
    ")\n",
    "\n",
    "# Set S3 url for input dataset\n",
    "input_s3_url_param = ParameterString(\n",
    "    name=\"InputDataUrl\",\n",
    "    default_value=input_s3_url,\n",
    ")\n"
   ]
  },
  {
   "cell_type": "code",
   "execution_count": 66,
   "id": "76635c00-ee09-4f44-8c5a-65291dfce11e",
   "metadata": {
    "tags": []
   },
   "outputs": [
    {
     "data": {
      "text/plain": [
       "ParameterString(name='InputDataUrl', parameter_type=<ParameterTypeEnum.STRING: 'String'>, default_value='s3://sagemaker-us-east-1-531485126105/solar2/gblinear/input/combined_plant.csv')"
      ]
     },
     "execution_count": 66,
     "metadata": {},
     "output_type": "execute_result"
    }
   ],
   "source": [
    "input_s3_url_param"
   ]
  },
  {
   "cell_type": "markdown",
   "id": "40ce632e-03a0-4933-b148-e7a65c644117",
   "metadata": {},
   "source": [
    "### Build the pipeline steps\n"
   ]
  },
  {
   "cell_type": "code",
   "execution_count": 67,
   "id": "85338988-5ea4-4053-9890-b411abc13d90",
   "metadata": {
    "tags": []
   },
   "outputs": [],
   "source": [
    "session = PipelineSession()"
   ]
  },
  {
   "cell_type": "markdown",
   "id": "d1acef9d-1538-4c33-8cc5-1c5a891f9392",
   "metadata": {},
   "source": [
    "#### Processing step"
   ]
  },
  {
   "cell_type": "code",
   "execution_count": 68,
   "id": "a0729c40-50bc-4582-be7a-1e66dda57cfb",
   "metadata": {
    "tags": []
   },
   "outputs": [
    {
     "name": "stdout",
     "output_type": "stream",
     "text": [
      "Overwriting preprocessing.py\n"
     ]
    }
   ],
   "source": [
    "%%writefile preprocessing.py\n",
    "\n",
    "import pandas as pd\n",
    "import numpy as np\n",
    "import argparse\n",
    "import os\n",
    "\n",
    "def _parse_args():\n",
    "    \n",
    "    parser = argparse.ArgumentParser()\n",
    "    # Data, model, and output directories\n",
    "    # model_dir is always passed in from SageMaker. By default this is a S3 path under the default bucket.\n",
    "    parser.add_argument('--filepath', type=str, default='/opt/ml/processing/input/')\n",
    "    parser.add_argument('--filename', type=str, default='combined_plant.csv')\n",
    "    parser.add_argument('--outputpath', type=str, default='/opt/ml/processing/output/')\n",
    "    \n",
    "    return parser.parse_known_args()\n",
    "\n",
    "\n",
    "if __name__==\"__main__\":\n",
    "    # Process arguments\n",
    "    args, _ = _parse_args()\n",
    "    \n",
    "    target_col = 'DC_POWER'\n",
    "    \n",
    "    # Load data\n",
    "    df_model_data = pd.read_csv(os.path.join(args.filepath, args.filename), sep=\",\")\n",
    "    print(df_model_data.columns)\n",
    "    print(df_model_data.head(5))\n",
    "\n",
    "    df_model_data = df_model_data.drop(['SOURCE_KEY', 'DATE_TIME'], axis=1)\n",
    "    print(\"after dropped\")\n",
    "    print(df_model_data.columns)\n",
    "    print(df_model_data.head(5))\n",
    "    \n",
    "     # Shuffle and splitting dataset\n",
    "    train_data, validation_data, test_data = np.split(\n",
    "        df_model_data.sample(frac=1, random_state=1729),\n",
    "        [int(0.7 * len(df_model_data)), int(0.9 * len(df_model_data))],\n",
    "    )\n",
    "\n",
    "    print(f\"Data split > train:{train_data.shape} | validation:{validation_data.shape} | test:{test_data.shape}\")\n",
    "    \n",
    "    # Save datasets locally\n",
    "    try:\n",
    "        train_data.to_csv(os.path.join(args.outputpath, 'train/train.csv'), index=False, header=False)\n",
    "        print(\"Train data saved successfully.\")\n",
    "    except Exception as e:\n",
    "        print(\"Error saving train data:\", str(e))\n",
    "    try:\n",
    "        validation_data.to_csv(os.path.join(args.outputpath, 'validation/validation.csv'), index=False, header=False)\n",
    "        print(\"Validation data saved successfully.\")\n",
    "    except Exception as e:\n",
    "        print(\"Error saving validation data:\", str(e))\n",
    "\n",
    "    try:\n",
    "        test_data[target_col].to_csv(os.path.join(args.outputpath, 'test/test_y.csv'), index=False, header=False)\n",
    "        print(\"Test target data saved successfully.\")\n",
    "    except Exception as e:\n",
    "        print(\"Error saving test target data:\", str(e))\n",
    "\n",
    "    try:\n",
    "        test_data.drop([target_col], axis=1).to_csv(os.path.join(args.outputpath, 'test/test_x.csv'), index=False, header=False)\n",
    "        print(\"Test input data saved successfully.\")\n",
    "    except Exception as e:\n",
    "        print(\"Error saving test input data:\", str(e))\n",
    "\n",
    "    try:\n",
    "        df_model_data.drop([target_col], axis=1).to_csv(os.path.join(args.outputpath, 'baseline/baseline.csv'), index=False, header=False)\n",
    "        print(\"Baseline data saved successfully.\")\n",
    "    except Exception as e:\n",
    "        print(\"Error saving baseline data:\", str(e))\n",
    "\n",
    "    \n",
    "    print(\"## Processing complete. Exiting.\")\n"
   ]
  },
  {
   "cell_type": "code",
   "execution_count": 69,
   "id": "54c5c765-4251-412e-a4fe-c1a02d9986ad",
   "metadata": {
    "tags": []
   },
   "outputs": [
    {
     "name": "stderr",
     "output_type": "stream",
     "text": [
      "INFO:sagemaker.image_uris:Defaulting to only available Python version: py3\n",
      "/opt/conda/lib/python3.7/site-packages/sagemaker/workflow/pipeline_context.py:261: UserWarning: Running within a PipelineSession, there will be No Wait, No Logs, and No Job being started.\n",
      "  UserWarning,\n"
     ]
    }
   ],
   "source": [
    "# Create SKLearnProcessor\n",
    "sklearn_processor = SKLearnProcessor(\n",
    "    framework_version=\"0.23-1\",\n",
    "    role=sm_role,\n",
    "    instance_type=process_instance_type_param.default_value,\n",
    "    instance_count=1,\n",
    "    base_job_name=f\"{pipeline_name}/preprocess\",\n",
    "    sagemaker_session=session,\n",
    ")\n",
    "\n",
    "    \n",
    "processing_inputs=[\n",
    "    ProcessingInput(source=input_s3_url_param, destination=\"/opt/ml/processing/input\")\n",
    "]\n",
    "\n",
    "processing_outputs=[\n",
    "    ProcessingOutput(output_name=\"train_data\", source=\"/opt/ml/processing/output/train\", \n",
    "                     destination=train_s3_url),\n",
    "    ProcessingOutput(output_name=\"validation_data\", source=\"/opt/ml/processing/output/validation\",\n",
    "                     destination=validation_s3_url),\n",
    "    ProcessingOutput(output_name=\"test_data\", source=\"/opt/ml/processing/output/test\",\n",
    "                     destination=test_s3_url),\n",
    "    ProcessingOutput(output_name=\"baseline_data\", source=\"/opt/ml/processing/output/baseline\", \n",
    "                     destination=baseline_s3_url),\n",
    "]\n",
    "\n",
    "processor_args = sklearn_processor.run(\n",
    "    inputs=processing_inputs,\n",
    "    outputs=processing_outputs,\n",
    "    code='preprocessing.py',\n",
    "    # arguments = ['arg1', 'arg2'],\n",
    ")\n",
    "    \n",
    "# Define processing step\n",
    "step_process = ProcessingStep(\n",
    "    name=f\"{pipeline_name}-preprocess-data\",\n",
    "    step_args=processor_args,\n",
    ")"
   ]
  },
  {
   "cell_type": "markdown",
   "id": "85447535-3c81-44f8-8ab9-d4e577ce0b0e",
   "metadata": {},
   "source": [
    "#### Training step"
   ]
  },
  {
   "cell_type": "code",
   "execution_count": 70,
   "id": "d5fd44b0-bba3-4fd3-9ac0-9e3084c0a343",
   "metadata": {
    "tags": []
   },
   "outputs": [],
   "source": [
    "# LinearRegression_image_uri = sagemaker.image_uris.retrieve(framework='linear-learner',region=region)"
   ]
  },
  {
   "cell_type": "code",
   "execution_count": 71,
   "id": "827ff0ff-2595-427b-8496-1575496b5f54",
   "metadata": {
    "tags": []
   },
   "outputs": [],
   "source": [
    "# LinearRegression_image_uri"
   ]
  },
  {
   "cell_type": "code",
   "execution_count": 72,
   "id": "0f2f78a3-fca8-4666-89f0-085be15f2b61",
   "metadata": {
    "tags": []
   },
   "outputs": [
    {
     "name": "stderr",
     "output_type": "stream",
     "text": [
      "INFO:sagemaker.image_uris:Ignoring unnecessary instance type: None.\n"
     ]
    }
   ],
   "source": [
    "xgboost_image_uri = sagemaker.image_uris.retrieve(\"xgboost\", region=region, version=\"1.5-1\")"
   ]
  },
  {
   "cell_type": "code",
   "execution_count": 73,
   "id": "5a23ce23-19b2-4f66-ac59-166bfa265527",
   "metadata": {
    "tags": []
   },
   "outputs": [
    {
     "data": {
      "text/plain": [
       "'683313688378.dkr.ecr.us-east-1.amazonaws.com/sagemaker-xgboost:1.5-1'"
      ]
     },
     "execution_count": 73,
     "metadata": {},
     "output_type": "execute_result"
    }
   ],
   "source": [
    "xgboost_image_uri"
   ]
  },
  {
   "cell_type": "code",
   "execution_count": 74,
   "id": "126939a1-d7e4-4438-8218-5618d539f8b5",
   "metadata": {
    "tags": []
   },
   "outputs": [],
   "source": [
    "# Instantiate a Linear Learner estimator object\n",
    "estimator = Estimator(\n",
    "    image_uri=xgboost_image_uri,\n",
    "    role=get_execution_role(),\n",
    "    instance_type=train_instance_type_param,\n",
    "    instance_count=train_instance_count_param,\n",
    "    output_path=output_s3_url,\n",
    "    sagemaker_session=session,\n",
    "    base_job_name=f\"{pipeline_name}/train\",\n",
    ")\n",
    "\n",
    "# Define algorithm hyperparameters\n",
    "estimator.set_hyperparameters(\n",
    "    booster=\"gblinear\", \n",
    "    eta=0.9,\n",
    "    base_score=0.5, \n",
    "    objective=\"reg:squarederror\",\n",
    "    eval_metric=\"rmse\", # evaluation metrics for validation data\n",
    "    num_round=100,\n",
    " )\n",
    "\n",
    "# estimator.set_hyperparameters(\n",
    "#     booster=\"gblinear\",\n",
    "#     # lambda=0.1,\n",
    "#     alpha=0.01,\n",
    "#     updater=\"shotgun\",\n",
    "#     feature_selector=\"cyclic\",\n",
    "#     top_k=0,\n",
    "#     eta=0.9,\n",
    "#     base_score=0.5,\n",
    "#     objective=\"reg:squarederror\",\n",
    "#     eval_metric=\"rmse\",\n",
    "#     random_state=567,\n",
    "# )\n",
    "\n",
    "# # Define algorithm hyperparameters\n",
    "# estimator.set_hyperparameters(\n",
    "#         objective=\"reg:squarederror\",\n",
    "#         max_depth=6,\n",
    "#         eta=0.3,\n",
    "#         alpha=3,\n",
    "#         colsample_bytree=0.7,\n",
    "#         num_round=100,\n",
    "\n",
    "# )\n",
    "\n",
    "\n",
    "# Define training inputs\n",
    "training_inputs = {\n",
    "    \"train\": TrainingInput(\n",
    "        s3_data=step_process.properties.ProcessingOutputConfig.Outputs[\"train_data\"].S3Output.S3Uri,\n",
    "        content_type=\"text/csv\",\n",
    "    ),\n",
    "    \"validation\": TrainingInput(\n",
    "        s3_data=step_process.properties.ProcessingOutputConfig.Outputs[\"validation_data\"].S3Output.S3Uri,\n",
    "        content_type=\"text/csv\",\n",
    "    ),\n",
    "}\n",
    "\n",
    "# Fit the estimator to the training data\n",
    "training_args = estimator.fit(training_inputs)\n",
    "\n",
    "# Define the training step\n",
    "step_train = TrainingStep(\n",
    "    name=f\"{pipeline_name}-train\",\n",
    "    step_args=training_args,\n",
    ")\n"
   ]
  },
  {
   "cell_type": "markdown",
   "id": "81d6f3bb-3380-4b6f-a054-6119d632b4e0",
   "metadata": {},
   "source": [
    "#### Evaluation step\n",
    "Create a model evaluation script to check if the model performance meets the specified threshold. "
   ]
  },
  {
   "cell_type": "code",
   "execution_count": 75,
   "id": "29a08324-907d-4e8d-b7bc-31496757bf05",
   "metadata": {
    "tags": []
   },
   "outputs": [
    {
     "data": {
      "text/plain": [
       "<xgboost.core.Booster at 0x7f7430cd3850>"
      ]
     },
     "execution_count": 75,
     "metadata": {},
     "output_type": "execute_result"
    }
   ],
   "source": [
    "import xgboost as xgb\n",
    "model = xgb.Booster()\n",
    "model"
   ]
  },
  {
   "cell_type": "code",
   "execution_count": 76,
   "id": "6fd5f6b4-9cf2-4cba-bd4f-bc28e21f1e66",
   "metadata": {
    "tags": []
   },
   "outputs": [],
   "source": [
    "# model.load_model(\"xgboost-model\")\n",
    "# model"
   ]
  },
  {
   "cell_type": "code",
   "execution_count": 77,
   "id": "2c806049-c7b7-4225-8706-b3a59a862481",
   "metadata": {
    "tags": []
   },
   "outputs": [
    {
     "name": "stdout",
     "output_type": "stream",
     "text": [
      "Overwriting evaluation.py\n"
     ]
    }
   ],
   "source": [
    "%%writefile evaluation.py\n",
    "\n",
    "from sklearn import metrics \n",
    "from sklearn.metrics import mean_squared_error\n",
    "from sklearn.linear_model import LinearRegression\n",
    "import json\n",
    "import os\n",
    "import pathlib\n",
    "import pickle as pkl\n",
    "import tarfile\n",
    "import joblib\n",
    "import numpy as np\n",
    "import pandas as pd\n",
    "import xgboost as xgb\n",
    "import datetime as dt\n",
    "\n",
    "if __name__ == \"__main__\":   \n",
    "    \n",
    "    # All paths are local for the processing container\n",
    "    model_path = \"/opt/ml/processing/model/model.tar.gz\"\n",
    "    test_x_path = \"/opt/ml/processing/test/test_x.csv\"\n",
    "    test_y_path = \"/opt/ml/processing/test/test_y.csv\"\n",
    "    output_dir = \"/opt/ml/processing/evaluation\"\n",
    "    output_prediction_path = \"/opt/ml/processing/output/\"\n",
    "        \n",
    "    # Read model tar file\n",
    "    with tarfile.open(model_path, \"r:gz\") as t:\n",
    "        t.extractall(path=\".\")\n",
    "    \n",
    "    # Load model\n",
    "    model = xgb.Booster()\n",
    "    model.load_model(\"xgboost-model\")\n",
    "    print(\"model loaded\")\n",
    "    \n",
    "    # Read test data\n",
    "    X_test = xgb.DMatrix(pd.read_csv(test_x_path, header=None).values)\n",
    "    y_test = pd.read_csv(test_y_path, header=None).to_numpy()\n",
    "    \n",
    "    # Run predictions\n",
    "    # test_features_numeric = X_test.drop(['DATE_TIME', 'SOURCE_KEY'], axis=1)\n",
    "    predictions = model.predict(X_test)\n",
    "\n",
    "    # Calculate RMSE\n",
    "    # rmse = np.sqrt(mean_squared_error(y_test,predictions))\n",
    "    rmse = np.sqrt(metrics.mean_squared_error(y_test, predictions))\n",
    "\n",
    "\n",
    "    report_dict = {\n",
    "        \"regression_metrics\": {\n",
    "            \"rmse\": {\n",
    "                \"value\": rmse,\n",
    "       \n",
    "            },\n",
    "        },\n",
    "    }\n",
    "\n",
    "  # Save evaluation report\n",
    "    pathlib.Path(output_dir).mkdir(parents=True, exist_ok=True)\n",
    "    with open(f\"{output_dir}/evaluation.json\", \"w\") as f:\n",
    "        f.write(json.dumps(report_dict))\n",
    "    \n",
    "    # Save prediction baseline file - we need it later for the model quality monitoring\n",
    "    pd.DataFrame({\"prediction\":np.array(np.round(predictions), dtype=int),\n",
    "                  \"rmse\":rmse,\n",
    "                  \"label\":y_test.squeeze()}\n",
    "                ).to_csv(os.path.join(output_prediction_path, 'prediction_baseline/prediction_baseline.csv'), index=False, header=True)"
   ]
  },
  {
   "cell_type": "markdown",
   "id": "7b39b676-6fcd-4adb-8e88-a1aa6df7ddaa",
   "metadata": {},
   "source": [
    "Create a processor to run the evaluation script and construct the evaluation step:"
   ]
  },
  {
   "cell_type": "code",
   "execution_count": 78,
   "id": "1f580b00-6031-4204-a098-caa99bcefee9",
   "metadata": {
    "tags": []
   },
   "outputs": [],
   "source": [
    "script_processor = ScriptProcessor(\n",
    "    image_uri=xgboost_image_uri,\n",
    "    role=sm_role,\n",
    "    command=[\"python3\"],\n",
    "    instance_type=process_instance_type_param,\n",
    "    instance_count=1,\n",
    "    base_job_name=f\"{pipeline_name}/evaluate\",\n",
    "    sagemaker_session=session,\n",
    ")\n",
    "\n",
    "eval_inputs=[\n",
    "    ProcessingInput(source=step_train.properties.ModelArtifacts.S3ModelArtifacts, \n",
    "                    destination=\"/opt/ml/processing/model\"),\n",
    "    ProcessingInput(source=step_process.properties.ProcessingOutputConfig.Outputs[\"test_data\"].S3Output.S3Uri, \n",
    "                    destination=\"/opt/ml/processing/test\"),\n",
    "]\n",
    "\n",
    "eval_outputs=[\n",
    "    ProcessingOutput(output_name=\"evaluation\", source=\"/opt/ml/processing/evaluation\", \n",
    "                     destination=evaluation_s3_url),\n",
    "    ProcessingOutput(output_name=\"prediction_baseline_data\", source=\"/opt/ml/processing/output/prediction_baseline\", \n",
    "                     destination=prediction_baseline_s3_url),\n",
    "]\n",
    "\n",
    "eval_args = script_processor.run(\n",
    "    inputs=eval_inputs,\n",
    "    outputs=eval_outputs,\n",
    "    code=\"evaluation.py\",\n",
    ")\n",
    "    \n",
    "evaluation_report = PropertyFile(\n",
    "    name=\"ModelEvaluationReport\", output_name=\"evaluation\", path=\"evaluation.json\"\n",
    ")\n",
    "\n",
    "step_eval = ProcessingStep(\n",
    "    name=f\"{pipeline_name}-evaluate-model\",\n",
    "    step_args=eval_args,\n",
    "    property_files=[evaluation_report]\n",
    ")"
   ]
  },
  {
   "cell_type": "markdown",
   "id": "a30518ca-e6b6-451e-a9cf-5ad250f78158",
   "metadata": {},
   "source": [
    "#### Register step\n",
    "The register step creates a SageMaker model and registers a new version of a model in the SageMaker Model Registry within a [model package group](https://docs.aws.amazon.com/sagemaker/latest/dg/model-registry-model-group.html)."
   ]
  },
  {
   "cell_type": "code",
   "execution_count": 79,
   "id": "825c3a91-404a-4b9e-b99f-c2e1b2d081df",
   "metadata": {
    "tags": []
   },
   "outputs": [],
   "source": [
    "model = Model(\n",
    "    image_uri=xgboost_image_uri,        \n",
    "    model_data=step_train.properties.ModelArtifacts.S3ModelArtifacts,\n",
    "    name=f\"gblinear-model\",\n",
    "    sagemaker_session=session,\n",
    "    role=sm_role,\n",
    ")\n",
    "\n",
    "model_metrics = ModelMetrics(\n",
    "    model_statistics=MetricsSource(\n",
    "        s3_uri=\"{}/evaluation.json\".format(\n",
    "            step_eval.arguments[\"ProcessingOutputConfig\"][\"Outputs\"][0][\"S3Output\"][\"S3Uri\"]\n",
    "        ),\n",
    "        content_type=\"application/json\",\n",
    "    )\n",
    ")\n",
    "\n",
    "register_args = model.register(\n",
    "    content_types=[\"text/csv\"],\n",
    "    response_types=[\"text/csv\"],\n",
    "    inference_instances=[\"ml.t2.medium\", \"ml.m5.xlarge\", \"ml.m5.large\"],\n",
    "    transform_instances=[\"ml.m5.xlarge\", \"ml.m5.large\"],\n",
    "    model_package_group_name=model_package_group_name,\n",
    "    approval_status=model_approval_status_param,\n",
    "    model_metrics=model_metrics,\n",
    ")\n",
    "\n",
    "step_register = ModelStep(\n",
    "    name=f\"{pipeline_name}-register\",\n",
    "    step_args=register_args\n",
    ")\n"
   ]
  },
  {
   "cell_type": "markdown",
   "id": "cdccd244-757c-4dfc-b18b-0b6d84ef22a5",
   "metadata": {},
   "source": [
    "#### Fail step\n",
    "Add a Pipelines [FailStep](https://sagemaker.readthedocs.io/en/stable/workflows/pipelines/sagemaker.workflow.pipelines.html#sagemaker.workflow.fail_step.FailStep) to stop the pipeline execution if the model performance metric doesn't meet the specified threshold. "
   ]
  },
  {
   "cell_type": "code",
   "execution_count": 80,
   "id": "1ba5b9b2-2faa-473b-ae18-96b6c33f41a0",
   "metadata": {
    "tags": []
   },
   "outputs": [],
   "source": [
    "step_fail = FailStep(\n",
    "    name=f\"{pipeline_name}-fail\",\n",
    "    error_message=Join(on=\" \", values=[\"Execution failed due to RMSE >\", test_score_threshold_param]),\n",
    ")"
   ]
  },
  {
   "cell_type": "markdown",
   "id": "0c23cb03-6a6d-4f3c-a665-6ba7b2814cb3",
   "metadata": {},
   "source": [
    "#### Condition step\n",
    "The condition step checks the model performance score and conditionally creates a model and registers it in the model registry, or stops and fails the pipeline execution."
   ]
  },
  {
   "cell_type": "code",
   "execution_count": 81,
   "id": "356cb055-d2c0-4e0e-8407-d1b93b4911e4",
   "metadata": {
    "tags": []
   },
   "outputs": [],
   "source": [
    "cond_lte = ConditionGreaterThan(\n",
    "    left=JsonGet(\n",
    "        step_name=step_eval.name,\n",
    "        property_file=evaluation_report,\n",
    "        json_path=\"regression_metrics.rmse.value\",\n",
    "    ),\n",
    "    right=test_score_threshold_param,\n",
    ")\n",
    "\n",
    "step_cond = ConditionStep(\n",
    "    name=f\"{pipeline_name}-check-test-score\",\n",
    "    conditions=[cond_lte],\n",
    "    if_steps=[step_register],\n",
    "    else_steps=[step_fail],\n",
    "    )\n"
   ]
  },
  {
   "cell_type": "markdown",
   "id": "ad5812b7-8e62-46d0-9763-6a15018671c2",
   "metadata": {},
   "source": [
    "#### Construct the pipeline \n"
   ]
  },
  {
   "cell_type": "code",
   "execution_count": 82,
   "id": "6a68130a-2c62-4078-80cc-7391d1eaa217",
   "metadata": {
    "tags": []
   },
   "outputs": [],
   "source": [
    "pipeline = Pipeline(\n",
    "    name=pipeline_name,\n",
    "    parameters=[\n",
    "        process_instance_type_param,\n",
    "        train_instance_type_param,\n",
    "        train_instance_count_param,\n",
    "        model_approval_status_param,\n",
    "        test_score_threshold_param,\n",
    "        input_s3_url_param,\n",
    "    ],\n",
    "    steps=[step_process, step_train, step_eval, step_cond],\n",
    "    sagemaker_session=session,\n",
    ")"
   ]
  },
  {
   "cell_type": "code",
   "execution_count": 83,
   "id": "22a3d1c1-1641-4b17-9929-9e94c5965cc7",
   "metadata": {
    "tags": []
   },
   "outputs": [
    {
     "name": "stdout",
     "output_type": "stream",
     "text": [
      "shell-init: error retrieving current directory: getcwd: cannot access parent directories: No such file or directory\n",
      "Traceback (most recent call last):\n",
      "  File \"/opt/conda/lib/python3.7/runpy.py\", line 193, in _run_module_as_main\n",
      "    \"__main__\", mod_spec)\n",
      "  File \"/opt/conda/lib/python3.7/runpy.py\", line 85, in _run_code\n",
      "    exec(code, run_globals)\n",
      "  File \"/opt/conda/lib/python3.7/site-packages/pip/__main__.py\", line 9, in <module>\n",
      "    if sys.path[0] in (\"\", os.getcwd()):\n",
      "FileNotFoundError: [Errno 2] No such file or directory\n",
      "Note: you may need to restart the kernel to use updated packages.\n"
     ]
    }
   ],
   "source": [
    " %pip install sagemaker==2.132.0"
   ]
  },
  {
   "cell_type": "code",
   "execution_count": 84,
   "id": "cd02b390-ed80-4967-b704-188a83bf7931",
   "metadata": {
    "tags": []
   },
   "outputs": [
    {
     "name": "stderr",
     "output_type": "stream",
     "text": [
      "WARNING:sagemaker.workflow._utils:Popping out 'CertifyForMarketplace' from the pipeline definition since it will be overridden in pipeline execution time.\n"
     ]
    },
    {
     "data": {
      "text/plain": [
       "{'PipelineArn': 'arn:aws:sagemaker:us-east-1:531485126105:pipeline/solar2-pipeline',\n",
       " 'ResponseMetadata': {'RequestId': 'd5bb63d6-0618-48f7-9b23-707da68b1368',\n",
       "  'HTTPStatusCode': 200,\n",
       "  'HTTPHeaders': {'x-amzn-requestid': 'd5bb63d6-0618-48f7-9b23-707da68b1368',\n",
       "   'content-type': 'application/x-amz-json-1.1',\n",
       "   'content-length': '83',\n",
       "   'date': 'Thu, 29 Jun 2023 07:44:06 GMT'},\n",
       "  'RetryAttempts': 0}}"
      ]
     },
     "execution_count": 84,
     "metadata": {},
     "output_type": "execute_result"
    }
   ],
   "source": [
    "# Create a new or update existing Pipeline\n",
    "pipeline.upsert(role_arn=sm_role)"
   ]
  },
  {
   "cell_type": "code",
   "execution_count": 85,
   "id": "0b75a822-cedb-40f4-91ff-c153f86f962f",
   "metadata": {
    "tags": []
   },
   "outputs": [
    {
     "data": {
      "text/plain": [
       "{'Version': '2020-12-01',\n",
       " 'Metadata': {},\n",
       " 'Parameters': [{'Name': 'ProcessingInstanceType',\n",
       "   'Type': 'String',\n",
       "   'DefaultValue': 'ml.c5.xlarge'},\n",
       "  {'Name': 'TrainingInstanceType',\n",
       "   'Type': 'String',\n",
       "   'DefaultValue': 'ml.m5.xlarge'},\n",
       "  {'Name': 'TrainingInstanceCount', 'Type': 'Integer', 'DefaultValue': 1},\n",
       "  {'Name': 'ModelApprovalStatus',\n",
       "   'Type': 'String',\n",
       "   'DefaultValue': 'PendingManualApproval'},\n",
       "  {'Name': 'TestScoreThreshold', 'Type': 'Float', 'DefaultValue': 0.5},\n",
       "  {'Name': 'InputDataUrl',\n",
       "   'Type': 'String',\n",
       "   'DefaultValue': 's3://sagemaker-us-east-1-531485126105/solar2/gblinear/input/combined_plant.csv'}],\n",
       " 'PipelineExperimentConfig': {'ExperimentName': {'Get': 'Execution.PipelineName'},\n",
       "  'TrialName': {'Get': 'Execution.PipelineExecutionId'}},\n",
       " 'Steps': [{'Name': 'solar2-pipeline-preprocess-data',\n",
       "   'Type': 'Processing',\n",
       "   'Arguments': {'ProcessingResources': {'ClusterConfig': {'InstanceType': 'ml.c5.xlarge',\n",
       "      'InstanceCount': 1,\n",
       "      'VolumeSizeInGB': 30}},\n",
       "    'AppSpecification': {'ImageUri': '683313688378.dkr.ecr.us-east-1.amazonaws.com/sagemaker-scikit-learn:0.23-1-cpu-py3',\n",
       "     'ContainerEntrypoint': ['python3',\n",
       "      '/opt/ml/processing/input/code/preprocessing.py']},\n",
       "    'RoleArn': 'arn:aws:iam::531485126105:role/service-role/AmazonSageMaker-ExecutionRole-20230614T171444',\n",
       "    'ProcessingInputs': [{'InputName': 'input-1',\n",
       "      'AppManaged': False,\n",
       "      'S3Input': {'S3Uri': {'Get': 'Parameters.InputDataUrl'},\n",
       "       'LocalPath': '/opt/ml/processing/input',\n",
       "       'S3DataType': 'S3Prefix',\n",
       "       'S3InputMode': 'File',\n",
       "       'S3DataDistributionType': 'FullyReplicated',\n",
       "       'S3CompressionType': 'None'}},\n",
       "     {'InputName': 'code',\n",
       "      'AppManaged': False,\n",
       "      'S3Input': {'S3Uri': 's3://sagemaker-us-east-1-531485126105/solar2-pipeline/code/dce8288e22f79d43a20f5cb5409d4fa2/preprocessing.py',\n",
       "       'LocalPath': '/opt/ml/processing/input/code',\n",
       "       'S3DataType': 'S3Prefix',\n",
       "       'S3InputMode': 'File',\n",
       "       'S3DataDistributionType': 'FullyReplicated',\n",
       "       'S3CompressionType': 'None'}}],\n",
       "    'ProcessingOutputConfig': {'Outputs': [{'OutputName': 'train_data',\n",
       "       'AppManaged': False,\n",
       "       'S3Output': {'S3Uri': 's3://sagemaker-us-east-1-531485126105/solar2/gblinear/train',\n",
       "        'LocalPath': '/opt/ml/processing/output/train',\n",
       "        'S3UploadMode': 'EndOfJob'}},\n",
       "      {'OutputName': 'validation_data',\n",
       "       'AppManaged': False,\n",
       "       'S3Output': {'S3Uri': 's3://sagemaker-us-east-1-531485126105/solar2/gblinear/validation',\n",
       "        'LocalPath': '/opt/ml/processing/output/validation',\n",
       "        'S3UploadMode': 'EndOfJob'}},\n",
       "      {'OutputName': 'test_data',\n",
       "       'AppManaged': False,\n",
       "       'S3Output': {'S3Uri': 's3://sagemaker-us-east-1-531485126105/solar2/gblinear/test',\n",
       "        'LocalPath': '/opt/ml/processing/output/test',\n",
       "        'S3UploadMode': 'EndOfJob'}},\n",
       "      {'OutputName': 'baseline_data',\n",
       "       'AppManaged': False,\n",
       "       'S3Output': {'S3Uri': 's3://sagemaker-us-east-1-531485126105/solar2/gblinear/baseline',\n",
       "        'LocalPath': '/opt/ml/processing/output/baseline',\n",
       "        'S3UploadMode': 'EndOfJob'}}]}}},\n",
       "  {'Name': 'solar2-pipeline-train',\n",
       "   'Type': 'Training',\n",
       "   'Arguments': {'AlgorithmSpecification': {'TrainingInputMode': 'File',\n",
       "     'TrainingImage': '683313688378.dkr.ecr.us-east-1.amazonaws.com/sagemaker-xgboost:1.5-1'},\n",
       "    'OutputDataConfig': {'S3OutputPath': 's3://sagemaker-us-east-1-531485126105/solar2/gblinear/output'},\n",
       "    'StoppingCondition': {'MaxRuntimeInSeconds': 86400},\n",
       "    'ResourceConfig': {'VolumeSizeInGB': 30,\n",
       "     'InstanceCount': {'Get': 'Parameters.TrainingInstanceCount'},\n",
       "     'InstanceType': {'Get': 'Parameters.TrainingInstanceType'}},\n",
       "    'RoleArn': 'arn:aws:iam::531485126105:role/service-role/AmazonSageMaker-ExecutionRole-20230614T171444',\n",
       "    'InputDataConfig': [{'DataSource': {'S3DataSource': {'S3DataType': 'S3Prefix',\n",
       "        'S3Uri': {'Get': \"Steps.solar2-pipeline-preprocess-data.ProcessingOutputConfig.Outputs['train_data'].S3Output.S3Uri\"},\n",
       "        'S3DataDistributionType': 'FullyReplicated'}},\n",
       "      'ContentType': 'text/csv',\n",
       "      'ChannelName': 'train'},\n",
       "     {'DataSource': {'S3DataSource': {'S3DataType': 'S3Prefix',\n",
       "        'S3Uri': {'Get': \"Steps.solar2-pipeline-preprocess-data.ProcessingOutputConfig.Outputs['validation_data'].S3Output.S3Uri\"},\n",
       "        'S3DataDistributionType': 'FullyReplicated'}},\n",
       "      'ContentType': 'text/csv',\n",
       "      'ChannelName': 'validation'}],\n",
       "    'HyperParameters': {'booster': 'gblinear',\n",
       "     'eta': '0.9',\n",
       "     'base_score': '0.5',\n",
       "     'objective': 'reg:squarederror',\n",
       "     'eval_metric': 'rmse',\n",
       "     'num_round': '100'},\n",
       "    'DebugHookConfig': {'S3OutputPath': 's3://sagemaker-us-east-1-531485126105/solar2/gblinear/output',\n",
       "     'CollectionConfigurations': []},\n",
       "    'ProfilerConfig': {'S3OutputPath': 's3://sagemaker-us-east-1-531485126105/solar2/gblinear/output',\n",
       "     'DisableProfiler': False}}},\n",
       "  {'Name': 'solar2-pipeline-evaluate-model',\n",
       "   'Type': 'Processing',\n",
       "   'Arguments': {'ProcessingResources': {'ClusterConfig': {'InstanceType': {'Get': 'Parameters.ProcessingInstanceType'},\n",
       "      'InstanceCount': 1,\n",
       "      'VolumeSizeInGB': 30}},\n",
       "    'AppSpecification': {'ImageUri': '683313688378.dkr.ecr.us-east-1.amazonaws.com/sagemaker-xgboost:1.5-1',\n",
       "     'ContainerEntrypoint': ['python3',\n",
       "      '/opt/ml/processing/input/code/evaluation.py']},\n",
       "    'RoleArn': 'arn:aws:iam::531485126105:role/service-role/AmazonSageMaker-ExecutionRole-20230614T171444',\n",
       "    'ProcessingInputs': [{'InputName': 'input-1',\n",
       "      'AppManaged': False,\n",
       "      'S3Input': {'S3Uri': {'Get': 'Steps.solar2-pipeline-train.ModelArtifacts.S3ModelArtifacts'},\n",
       "       'LocalPath': '/opt/ml/processing/model',\n",
       "       'S3DataType': 'S3Prefix',\n",
       "       'S3InputMode': 'File',\n",
       "       'S3DataDistributionType': 'FullyReplicated',\n",
       "       'S3CompressionType': 'None'}},\n",
       "     {'InputName': 'input-2',\n",
       "      'AppManaged': False,\n",
       "      'S3Input': {'S3Uri': {'Get': \"Steps.solar2-pipeline-preprocess-data.ProcessingOutputConfig.Outputs['test_data'].S3Output.S3Uri\"},\n",
       "       'LocalPath': '/opt/ml/processing/test',\n",
       "       'S3DataType': 'S3Prefix',\n",
       "       'S3InputMode': 'File',\n",
       "       'S3DataDistributionType': 'FullyReplicated',\n",
       "       'S3CompressionType': 'None'}},\n",
       "     {'InputName': 'code',\n",
       "      'AppManaged': False,\n",
       "      'S3Input': {'S3Uri': 's3://sagemaker-us-east-1-531485126105/solar2-pipeline/code/73d9fe40fb0211f0e131e37e636ccdf0/evaluation.py',\n",
       "       'LocalPath': '/opt/ml/processing/input/code',\n",
       "       'S3DataType': 'S3Prefix',\n",
       "       'S3InputMode': 'File',\n",
       "       'S3DataDistributionType': 'FullyReplicated',\n",
       "       'S3CompressionType': 'None'}}],\n",
       "    'ProcessingOutputConfig': {'Outputs': [{'OutputName': 'evaluation',\n",
       "       'AppManaged': False,\n",
       "       'S3Output': {'S3Uri': 's3://sagemaker-us-east-1-531485126105/solar2/gblinear/evaluation',\n",
       "        'LocalPath': '/opt/ml/processing/evaluation',\n",
       "        'S3UploadMode': 'EndOfJob'}},\n",
       "      {'OutputName': 'prediction_baseline_data',\n",
       "       'AppManaged': False,\n",
       "       'S3Output': {'S3Uri': 's3://sagemaker-us-east-1-531485126105/solar2/gblinear/prediction_baseline',\n",
       "        'LocalPath': '/opt/ml/processing/output/prediction_baseline',\n",
       "        'S3UploadMode': 'EndOfJob'}}]}},\n",
       "   'PropertyFiles': [{'PropertyFileName': 'ModelEvaluationReport',\n",
       "     'OutputName': 'evaluation',\n",
       "     'FilePath': 'evaluation.json'}]},\n",
       "  {'Name': 'solar2-pipeline-check-test-score',\n",
       "   'Type': 'Condition',\n",
       "   'Arguments': {'Conditions': [{'Type': 'GreaterThan',\n",
       "      'LeftValue': {'Std:JsonGet': {'PropertyFile': {'Get': 'Steps.solar2-pipeline-evaluate-model.PropertyFiles.ModelEvaluationReport'},\n",
       "        'Path': 'regression_metrics.rmse.value'}},\n",
       "      'RightValue': {'Get': 'Parameters.TestScoreThreshold'}}],\n",
       "    'IfSteps': [{'Name': 'solar2-pipeline-register-RegisterModel',\n",
       "      'Type': 'RegisterModel',\n",
       "      'Arguments': {'ModelPackageGroupName': 'solar2-model-group',\n",
       "       'ModelMetrics': {'ModelQuality': {'Statistics': {'ContentType': 'application/json',\n",
       "          'S3Uri': 's3://sagemaker-us-east-1-531485126105/solar2/gblinear/evaluation/evaluation.json'}},\n",
       "        'Bias': {},\n",
       "        'Explainability': {}},\n",
       "       'InferenceSpecification': {'Containers': [{'Image': '683313688378.dkr.ecr.us-east-1.amazonaws.com/sagemaker-xgboost:1.5-1',\n",
       "          'Environment': {},\n",
       "          'ModelDataUrl': {'Get': 'Steps.solar2-pipeline-train.ModelArtifacts.S3ModelArtifacts'}}],\n",
       "        'SupportedContentTypes': ['text/csv'],\n",
       "        'SupportedResponseMIMETypes': ['text/csv'],\n",
       "        'SupportedRealtimeInferenceInstanceTypes': ['ml.t2.medium',\n",
       "         'ml.m5.xlarge',\n",
       "         'ml.m5.large'],\n",
       "        'SupportedTransformInstanceTypes': ['ml.m5.xlarge', 'ml.m5.large']},\n",
       "       'ModelApprovalStatus': {'Get': 'Parameters.ModelApprovalStatus'}}}],\n",
       "    'ElseSteps': [{'Name': 'solar2-pipeline-fail',\n",
       "      'Type': 'Fail',\n",
       "      'Arguments': {'ErrorMessage': {'Std:Join': {'On': ' ',\n",
       "         'Values': ['Execution failed due to RMSE >',\n",
       "          {'Get': 'Parameters.TestScoreThreshold'}]}}}}]}}]}"
      ]
     },
     "execution_count": 85,
     "metadata": {},
     "output_type": "execute_result"
    }
   ],
   "source": [
    "pipeline_definition = json.loads(pipeline.describe()['PipelineDefinition'])\n",
    "pipeline_definition"
   ]
  },
  {
   "cell_type": "markdown",
   "id": "0f30054b-3a8b-48e9-ad6e-2f2e8ddb8ec1",
   "metadata": {},
   "source": [
    "## Execute the pipeline\n",
    "The following code starts an execution of the pipeline with the specified parameters."
   ]
  },
  {
   "cell_type": "code",
   "execution_count": 86,
   "id": "427b60cb-060a-4829-944a-a3fcce2c8da7",
   "metadata": {
    "tags": []
   },
   "outputs": [],
   "source": [
    "execution = pipeline.start(\n",
    "    parameters=dict(\n",
    "        ProcessingInstanceType=process_instance_type,\n",
    "        TrainingInstanceType=train_instance_type,\n",
    "        TrainingInstanceCount=train_instance_count,\n",
    "        ModelApprovalStatus=\"PendingManualApproval\",\n",
    "        TestScoreThreshold=0.75,\n",
    "        InputDataUrl=input_s3_url\n",
    "    )\n",
    ")\n"
   ]
  },
  {
   "cell_type": "code",
   "execution_count": 87,
   "id": "62ea8c82-c2e7-415c-8c6e-bae6355a0b6c",
   "metadata": {
    "tags": []
   },
   "outputs": [
    {
     "data": {
      "text/plain": [
       "[{'StepName': 'solar2-pipeline-register-RegisterModel',\n",
       "  'StartTime': datetime.datetime(2023, 6, 29, 7, 55, 32, 57000, tzinfo=tzlocal()),\n",
       "  'EndTime': datetime.datetime(2023, 6, 29, 7, 55, 32, 922000, tzinfo=tzlocal()),\n",
       "  'StepStatus': 'Succeeded',\n",
       "  'AttemptCount': 0,\n",
       "  'Metadata': {'RegisterModel': {'Arn': 'arn:aws:sagemaker:us-east-1:531485126105:model-package/solar2-model-group/4'}}},\n",
       " {'StepName': 'solar2-pipeline-check-test-score',\n",
       "  'StartTime': datetime.datetime(2023, 6, 29, 7, 55, 31, 86000, tzinfo=tzlocal()),\n",
       "  'EndTime': datetime.datetime(2023, 6, 29, 7, 55, 31, 602000, tzinfo=tzlocal()),\n",
       "  'StepStatus': 'Succeeded',\n",
       "  'AttemptCount': 0,\n",
       "  'Metadata': {'Condition': {'Outcome': 'True'}}},\n",
       " {'StepName': 'solar2-pipeline-evaluate-model',\n",
       "  'StartTime': datetime.datetime(2023, 6, 29, 7, 51, 8, 437000, tzinfo=tzlocal()),\n",
       "  'EndTime': datetime.datetime(2023, 6, 29, 7, 55, 28, 311000, tzinfo=tzlocal()),\n",
       "  'StepStatus': 'Succeeded',\n",
       "  'AttemptCount': 0,\n",
       "  'Metadata': {'ProcessingJob': {'Arn': 'arn:aws:sagemaker:us-east-1:531485126105:processing-job/pipelines-hi3kvthoa8jf-solar2-pipeline-eval-hO8qEwlirn'}}},\n",
       " {'StepName': 'solar2-pipeline-train',\n",
       "  'StartTime': datetime.datetime(2023, 6, 29, 7, 48, 31, 738000, tzinfo=tzlocal()),\n",
       "  'EndTime': datetime.datetime(2023, 6, 29, 7, 51, 7, 686000, tzinfo=tzlocal()),\n",
       "  'StepStatus': 'Succeeded',\n",
       "  'AttemptCount': 0,\n",
       "  'Metadata': {'TrainingJob': {'Arn': 'arn:aws:sagemaker:us-east-1:531485126105:training-job/pipelines-hi3kvthoa8jf-solar2-pipeline-trai-tanCklZ1ox'}}},\n",
       " {'StepName': 'solar2-pipeline-preprocess-data',\n",
       "  'StartTime': datetime.datetime(2023, 6, 29, 7, 44, 8, 207000, tzinfo=tzlocal()),\n",
       "  'EndTime': datetime.datetime(2023, 6, 29, 7, 48, 30, 455000, tzinfo=tzlocal()),\n",
       "  'StepStatus': 'Succeeded',\n",
       "  'AttemptCount': 0,\n",
       "  'Metadata': {'ProcessingJob': {'Arn': 'arn:aws:sagemaker:us-east-1:531485126105:processing-job/pipelines-hi3kvthoa8jf-solar2-pipeline-prep-mc4d2wxxcx'}}}]"
      ]
     },
     "execution_count": 87,
     "metadata": {},
     "output_type": "execute_result"
    }
   ],
   "source": [
    "# Un-comment this call if you want the notebook to wait until the pipeline's execution finished\n",
    "execution.wait()\n",
    "execution.list_steps()"
   ]
  },
  {
   "cell_type": "code",
   "execution_count": null,
   "id": "cd0ff438-57d5-41b3-8847-3ac283ddf156",
   "metadata": {},
   "outputs": [],
   "source": []
  },
  {
   "cell_type": "code",
   "execution_count": null,
   "id": "7cf84002-8d0f-4eb4-9e82-49914d4aa64f",
   "metadata": {},
   "outputs": [],
   "source": []
  }
 ],
 "metadata": {
  "availableInstances": [
   {
    "_defaultOrder": 0,
    "_isFastLaunch": true,
    "category": "General purpose",
    "gpuNum": 0,
    "hideHardwareSpecs": false,
    "memoryGiB": 4,
    "name": "ml.t3.medium",
    "vcpuNum": 2
   },
   {
    "_defaultOrder": 1,
    "_isFastLaunch": false,
    "category": "General purpose",
    "gpuNum": 0,
    "hideHardwareSpecs": false,
    "memoryGiB": 8,
    "name": "ml.t3.large",
    "vcpuNum": 2
   },
   {
    "_defaultOrder": 2,
    "_isFastLaunch": false,
    "category": "General purpose",
    "gpuNum": 0,
    "hideHardwareSpecs": false,
    "memoryGiB": 16,
    "name": "ml.t3.xlarge",
    "vcpuNum": 4
   },
   {
    "_defaultOrder": 3,
    "_isFastLaunch": false,
    "category": "General purpose",
    "gpuNum": 0,
    "hideHardwareSpecs": false,
    "memoryGiB": 32,
    "name": "ml.t3.2xlarge",
    "vcpuNum": 8
   },
   {
    "_defaultOrder": 4,
    "_isFastLaunch": true,
    "category": "General purpose",
    "gpuNum": 0,
    "hideHardwareSpecs": false,
    "memoryGiB": 8,
    "name": "ml.m5.large",
    "vcpuNum": 2
   },
   {
    "_defaultOrder": 5,
    "_isFastLaunch": false,
    "category": "General purpose",
    "gpuNum": 0,
    "hideHardwareSpecs": false,
    "memoryGiB": 16,
    "name": "ml.m5.xlarge",
    "vcpuNum": 4
   },
   {
    "_defaultOrder": 6,
    "_isFastLaunch": false,
    "category": "General purpose",
    "gpuNum": 0,
    "hideHardwareSpecs": false,
    "memoryGiB": 32,
    "name": "ml.m5.2xlarge",
    "vcpuNum": 8
   },
   {
    "_defaultOrder": 7,
    "_isFastLaunch": false,
    "category": "General purpose",
    "gpuNum": 0,
    "hideHardwareSpecs": false,
    "memoryGiB": 64,
    "name": "ml.m5.4xlarge",
    "vcpuNum": 16
   },
   {
    "_defaultOrder": 8,
    "_isFastLaunch": false,
    "category": "General purpose",
    "gpuNum": 0,
    "hideHardwareSpecs": false,
    "memoryGiB": 128,
    "name": "ml.m5.8xlarge",
    "vcpuNum": 32
   },
   {
    "_defaultOrder": 9,
    "_isFastLaunch": false,
    "category": "General purpose",
    "gpuNum": 0,
    "hideHardwareSpecs": false,
    "memoryGiB": 192,
    "name": "ml.m5.12xlarge",
    "vcpuNum": 48
   },
   {
    "_defaultOrder": 10,
    "_isFastLaunch": false,
    "category": "General purpose",
    "gpuNum": 0,
    "hideHardwareSpecs": false,
    "memoryGiB": 256,
    "name": "ml.m5.16xlarge",
    "vcpuNum": 64
   },
   {
    "_defaultOrder": 11,
    "_isFastLaunch": false,
    "category": "General purpose",
    "gpuNum": 0,
    "hideHardwareSpecs": false,
    "memoryGiB": 384,
    "name": "ml.m5.24xlarge",
    "vcpuNum": 96
   },
   {
    "_defaultOrder": 12,
    "_isFastLaunch": false,
    "category": "General purpose",
    "gpuNum": 0,
    "hideHardwareSpecs": false,
    "memoryGiB": 8,
    "name": "ml.m5d.large",
    "vcpuNum": 2
   },
   {
    "_defaultOrder": 13,
    "_isFastLaunch": false,
    "category": "General purpose",
    "gpuNum": 0,
    "hideHardwareSpecs": false,
    "memoryGiB": 16,
    "name": "ml.m5d.xlarge",
    "vcpuNum": 4
   },
   {
    "_defaultOrder": 14,
    "_isFastLaunch": false,
    "category": "General purpose",
    "gpuNum": 0,
    "hideHardwareSpecs": false,
    "memoryGiB": 32,
    "name": "ml.m5d.2xlarge",
    "vcpuNum": 8
   },
   {
    "_defaultOrder": 15,
    "_isFastLaunch": false,
    "category": "General purpose",
    "gpuNum": 0,
    "hideHardwareSpecs": false,
    "memoryGiB": 64,
    "name": "ml.m5d.4xlarge",
    "vcpuNum": 16
   },
   {
    "_defaultOrder": 16,
    "_isFastLaunch": false,
    "category": "General purpose",
    "gpuNum": 0,
    "hideHardwareSpecs": false,
    "memoryGiB": 128,
    "name": "ml.m5d.8xlarge",
    "vcpuNum": 32
   },
   {
    "_defaultOrder": 17,
    "_isFastLaunch": false,
    "category": "General purpose",
    "gpuNum": 0,
    "hideHardwareSpecs": false,
    "memoryGiB": 192,
    "name": "ml.m5d.12xlarge",
    "vcpuNum": 48
   },
   {
    "_defaultOrder": 18,
    "_isFastLaunch": false,
    "category": "General purpose",
    "gpuNum": 0,
    "hideHardwareSpecs": false,
    "memoryGiB": 256,
    "name": "ml.m5d.16xlarge",
    "vcpuNum": 64
   },
   {
    "_defaultOrder": 19,
    "_isFastLaunch": false,
    "category": "General purpose",
    "gpuNum": 0,
    "hideHardwareSpecs": false,
    "memoryGiB": 384,
    "name": "ml.m5d.24xlarge",
    "vcpuNum": 96
   },
   {
    "_defaultOrder": 20,
    "_isFastLaunch": false,
    "category": "General purpose",
    "gpuNum": 0,
    "hideHardwareSpecs": true,
    "memoryGiB": 0,
    "name": "ml.geospatial.interactive",
    "supportedImageNames": [
     "sagemaker-geospatial-v1-0"
    ],
    "vcpuNum": 0
   },
   {
    "_defaultOrder": 21,
    "_isFastLaunch": true,
    "category": "Compute optimized",
    "gpuNum": 0,
    "hideHardwareSpecs": false,
    "memoryGiB": 4,
    "name": "ml.c5.large",
    "vcpuNum": 2
   },
   {
    "_defaultOrder": 22,
    "_isFastLaunch": false,
    "category": "Compute optimized",
    "gpuNum": 0,
    "hideHardwareSpecs": false,
    "memoryGiB": 8,
    "name": "ml.c5.xlarge",
    "vcpuNum": 4
   },
   {
    "_defaultOrder": 23,
    "_isFastLaunch": false,
    "category": "Compute optimized",
    "gpuNum": 0,
    "hideHardwareSpecs": false,
    "memoryGiB": 16,
    "name": "ml.c5.2xlarge",
    "vcpuNum": 8
   },
   {
    "_defaultOrder": 24,
    "_isFastLaunch": false,
    "category": "Compute optimized",
    "gpuNum": 0,
    "hideHardwareSpecs": false,
    "memoryGiB": 32,
    "name": "ml.c5.4xlarge",
    "vcpuNum": 16
   },
   {
    "_defaultOrder": 25,
    "_isFastLaunch": false,
    "category": "Compute optimized",
    "gpuNum": 0,
    "hideHardwareSpecs": false,
    "memoryGiB": 72,
    "name": "ml.c5.9xlarge",
    "vcpuNum": 36
   },
   {
    "_defaultOrder": 26,
    "_isFastLaunch": false,
    "category": "Compute optimized",
    "gpuNum": 0,
    "hideHardwareSpecs": false,
    "memoryGiB": 96,
    "name": "ml.c5.12xlarge",
    "vcpuNum": 48
   },
   {
    "_defaultOrder": 27,
    "_isFastLaunch": false,
    "category": "Compute optimized",
    "gpuNum": 0,
    "hideHardwareSpecs": false,
    "memoryGiB": 144,
    "name": "ml.c5.18xlarge",
    "vcpuNum": 72
   },
   {
    "_defaultOrder": 28,
    "_isFastLaunch": false,
    "category": "Compute optimized",
    "gpuNum": 0,
    "hideHardwareSpecs": false,
    "memoryGiB": 192,
    "name": "ml.c5.24xlarge",
    "vcpuNum": 96
   },
   {
    "_defaultOrder": 29,
    "_isFastLaunch": true,
    "category": "Accelerated computing",
    "gpuNum": 1,
    "hideHardwareSpecs": false,
    "memoryGiB": 16,
    "name": "ml.g4dn.xlarge",
    "vcpuNum": 4
   },
   {
    "_defaultOrder": 30,
    "_isFastLaunch": false,
    "category": "Accelerated computing",
    "gpuNum": 1,
    "hideHardwareSpecs": false,
    "memoryGiB": 32,
    "name": "ml.g4dn.2xlarge",
    "vcpuNum": 8
   },
   {
    "_defaultOrder": 31,
    "_isFastLaunch": false,
    "category": "Accelerated computing",
    "gpuNum": 1,
    "hideHardwareSpecs": false,
    "memoryGiB": 64,
    "name": "ml.g4dn.4xlarge",
    "vcpuNum": 16
   },
   {
    "_defaultOrder": 32,
    "_isFastLaunch": false,
    "category": "Accelerated computing",
    "gpuNum": 1,
    "hideHardwareSpecs": false,
    "memoryGiB": 128,
    "name": "ml.g4dn.8xlarge",
    "vcpuNum": 32
   },
   {
    "_defaultOrder": 33,
    "_isFastLaunch": false,
    "category": "Accelerated computing",
    "gpuNum": 4,
    "hideHardwareSpecs": false,
    "memoryGiB": 192,
    "name": "ml.g4dn.12xlarge",
    "vcpuNum": 48
   },
   {
    "_defaultOrder": 34,
    "_isFastLaunch": false,
    "category": "Accelerated computing",
    "gpuNum": 1,
    "hideHardwareSpecs": false,
    "memoryGiB": 256,
    "name": "ml.g4dn.16xlarge",
    "vcpuNum": 64
   },
   {
    "_defaultOrder": 35,
    "_isFastLaunch": false,
    "category": "Accelerated computing",
    "gpuNum": 1,
    "hideHardwareSpecs": false,
    "memoryGiB": 61,
    "name": "ml.p3.2xlarge",
    "vcpuNum": 8
   },
   {
    "_defaultOrder": 36,
    "_isFastLaunch": false,
    "category": "Accelerated computing",
    "gpuNum": 4,
    "hideHardwareSpecs": false,
    "memoryGiB": 244,
    "name": "ml.p3.8xlarge",
    "vcpuNum": 32
   },
   {
    "_defaultOrder": 37,
    "_isFastLaunch": false,
    "category": "Accelerated computing",
    "gpuNum": 8,
    "hideHardwareSpecs": false,
    "memoryGiB": 488,
    "name": "ml.p3.16xlarge",
    "vcpuNum": 64
   },
   {
    "_defaultOrder": 38,
    "_isFastLaunch": false,
    "category": "Accelerated computing",
    "gpuNum": 8,
    "hideHardwareSpecs": false,
    "memoryGiB": 768,
    "name": "ml.p3dn.24xlarge",
    "vcpuNum": 96
   },
   {
    "_defaultOrder": 39,
    "_isFastLaunch": false,
    "category": "Memory Optimized",
    "gpuNum": 0,
    "hideHardwareSpecs": false,
    "memoryGiB": 16,
    "name": "ml.r5.large",
    "vcpuNum": 2
   },
   {
    "_defaultOrder": 40,
    "_isFastLaunch": false,
    "category": "Memory Optimized",
    "gpuNum": 0,
    "hideHardwareSpecs": false,
    "memoryGiB": 32,
    "name": "ml.r5.xlarge",
    "vcpuNum": 4
   },
   {
    "_defaultOrder": 41,
    "_isFastLaunch": false,
    "category": "Memory Optimized",
    "gpuNum": 0,
    "hideHardwareSpecs": false,
    "memoryGiB": 64,
    "name": "ml.r5.2xlarge",
    "vcpuNum": 8
   },
   {
    "_defaultOrder": 42,
    "_isFastLaunch": false,
    "category": "Memory Optimized",
    "gpuNum": 0,
    "hideHardwareSpecs": false,
    "memoryGiB": 128,
    "name": "ml.r5.4xlarge",
    "vcpuNum": 16
   },
   {
    "_defaultOrder": 43,
    "_isFastLaunch": false,
    "category": "Memory Optimized",
    "gpuNum": 0,
    "hideHardwareSpecs": false,
    "memoryGiB": 256,
    "name": "ml.r5.8xlarge",
    "vcpuNum": 32
   },
   {
    "_defaultOrder": 44,
    "_isFastLaunch": false,
    "category": "Memory Optimized",
    "gpuNum": 0,
    "hideHardwareSpecs": false,
    "memoryGiB": 384,
    "name": "ml.r5.12xlarge",
    "vcpuNum": 48
   },
   {
    "_defaultOrder": 45,
    "_isFastLaunch": false,
    "category": "Memory Optimized",
    "gpuNum": 0,
    "hideHardwareSpecs": false,
    "memoryGiB": 512,
    "name": "ml.r5.16xlarge",
    "vcpuNum": 64
   },
   {
    "_defaultOrder": 46,
    "_isFastLaunch": false,
    "category": "Memory Optimized",
    "gpuNum": 0,
    "hideHardwareSpecs": false,
    "memoryGiB": 768,
    "name": "ml.r5.24xlarge",
    "vcpuNum": 96
   },
   {
    "_defaultOrder": 47,
    "_isFastLaunch": false,
    "category": "Accelerated computing",
    "gpuNum": 1,
    "hideHardwareSpecs": false,
    "memoryGiB": 16,
    "name": "ml.g5.xlarge",
    "vcpuNum": 4
   },
   {
    "_defaultOrder": 48,
    "_isFastLaunch": false,
    "category": "Accelerated computing",
    "gpuNum": 1,
    "hideHardwareSpecs": false,
    "memoryGiB": 32,
    "name": "ml.g5.2xlarge",
    "vcpuNum": 8
   },
   {
    "_defaultOrder": 49,
    "_isFastLaunch": false,
    "category": "Accelerated computing",
    "gpuNum": 1,
    "hideHardwareSpecs": false,
    "memoryGiB": 64,
    "name": "ml.g5.4xlarge",
    "vcpuNum": 16
   },
   {
    "_defaultOrder": 50,
    "_isFastLaunch": false,
    "category": "Accelerated computing",
    "gpuNum": 1,
    "hideHardwareSpecs": false,
    "memoryGiB": 128,
    "name": "ml.g5.8xlarge",
    "vcpuNum": 32
   },
   {
    "_defaultOrder": 51,
    "_isFastLaunch": false,
    "category": "Accelerated computing",
    "gpuNum": 1,
    "hideHardwareSpecs": false,
    "memoryGiB": 256,
    "name": "ml.g5.16xlarge",
    "vcpuNum": 64
   },
   {
    "_defaultOrder": 52,
    "_isFastLaunch": false,
    "category": "Accelerated computing",
    "gpuNum": 4,
    "hideHardwareSpecs": false,
    "memoryGiB": 192,
    "name": "ml.g5.12xlarge",
    "vcpuNum": 48
   },
   {
    "_defaultOrder": 53,
    "_isFastLaunch": false,
    "category": "Accelerated computing",
    "gpuNum": 4,
    "hideHardwareSpecs": false,
    "memoryGiB": 384,
    "name": "ml.g5.24xlarge",
    "vcpuNum": 96
   },
   {
    "_defaultOrder": 54,
    "_isFastLaunch": false,
    "category": "Accelerated computing",
    "gpuNum": 8,
    "hideHardwareSpecs": false,
    "memoryGiB": 768,
    "name": "ml.g5.48xlarge",
    "vcpuNum": 192
   },
   {
    "_defaultOrder": 55,
    "_isFastLaunch": false,
    "category": "Accelerated computing",
    "gpuNum": 8,
    "hideHardwareSpecs": false,
    "memoryGiB": 1152,
    "name": "ml.p4d.24xlarge",
    "vcpuNum": 96
   },
   {
    "_defaultOrder": 56,
    "_isFastLaunch": false,
    "category": "Accelerated computing",
    "gpuNum": 8,
    "hideHardwareSpecs": false,
    "memoryGiB": 1152,
    "name": "ml.p4de.24xlarge",
    "vcpuNum": 96
   }
  ],
  "instance_type": "ml.t3.medium",
  "kernelspec": {
   "display_name": "Python 3 (Data Science)",
   "language": "python",
   "name": "python3__SAGEMAKER_INTERNAL__arn:aws:sagemaker:us-east-1:081325390199:image/datascience-1.0"
  },
  "language_info": {
   "codemirror_mode": {
    "name": "ipython",
    "version": 3
   },
   "file_extension": ".py",
   "mimetype": "text/x-python",
   "name": "python",
   "nbconvert_exporter": "python",
   "pygments_lexer": "ipython3",
   "version": "3.7.10"
  }
 },
 "nbformat": 4,
 "nbformat_minor": 5
}
