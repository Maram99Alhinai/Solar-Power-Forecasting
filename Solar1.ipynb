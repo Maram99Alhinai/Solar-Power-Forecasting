{
 "cells": [
  {
   "cell_type": "code",
   "execution_count": 70,
   "id": "3b31de2a-10e6-4c1c-9c83-9c2de8ca92ef",
   "metadata": {
    "tags": []
   },
   "outputs": [],
   "source": [
    "import sklearn\n",
    "import pandas as pd\n",
    "import boto3\n",
    "import os\n",
    "from sagemaker import get_execution_role\n",
    "import sagemaker\n",
    "import json\n",
    "from sagemaker.workflow.pipeline_context import PipelineSession\n",
    "from sagemaker.workflow.parameters import (\n",
    "    ParameterInteger, \n",
    "    ParameterFloat, \n",
    "    ParameterString, \n",
    "    ParameterBoolean\n",
    ")\n",
    "\n",
    "from sagemaker.processing import (\n",
    "    ProcessingInput, \n",
    "    ProcessingOutput, \n",
    "    ScriptProcessor\n",
    ")\n",
    "\n",
    "from sagemaker.workflow.steps import (\n",
    "    ProcessingStep, \n",
    "    TrainingStep, \n",
    "    CreateModelStep\n",
    ")\n",
    "from sagemaker.workflow.check_job_config import CheckJobConfig\n",
    "from sagemaker.workflow.parameters import (\n",
    "    ParameterInteger, \n",
    "    ParameterFloat, \n",
    "    ParameterString, \n",
    "    ParameterBoolean\n",
    ")\n",
    "from sagemaker.workflow.clarify_check_step import (\n",
    "    ModelBiasCheckConfig, \n",
    "    ClarifyCheckStep, \n",
    "    ModelExplainabilityCheckConfig\n",
    ")\n",
    "from sagemaker import Model\n",
    "from sagemaker.inputs import CreateModelInput\n",
    "from sagemaker.workflow.model_step import ModelStep\n",
    "from sagemaker.workflow.fail_step import FailStep\n",
    "from sagemaker.workflow.conditions import (\n",
    "    ConditionGreaterThan,\n",
    "    ConditionGreaterThanOrEqualTo\n",
    ")\n",
    "\n",
    "from sagemaker.inputs import TrainingInput\n",
    "from sagemaker.estimator import Estimator\n",
    "from sagemaker.workflow.steps import TrainingStep\n",
    "\n",
    "from sagemaker.sklearn.processing import SKLearnProcessor\n",
    "from sagemaker.processing import ProcessingInput, ProcessingOutput\n",
    "from sagemaker.workflow.steps import ProcessingStep"
   ]
  },
  {
   "cell_type": "code",
   "execution_count": 71,
   "id": "bfad780b-bb03-4cdf-99e4-540e6428556b",
   "metadata": {},
   "outputs": [
    {
     "data": {
      "text/plain": [
       "'2.168.0'"
      ]
     },
     "execution_count": 71,
     "metadata": {},
     "output_type": "execute_result"
    }
   ],
   "source": [
    "import pandas as pd\n",
    "import json\n",
    "import boto3\n",
    "import pathlib\n",
    "import io\n",
    "import sagemaker\n",
    "from time import gmtime, strftime, sleep\n",
    "from sagemaker.deserializers import CSVDeserializer\n",
    "from sagemaker.serializers import CSVSerializer\n",
    "\n",
    "from sagemaker.workflow.pipeline_context import PipelineSession\n",
    "from sagemaker.xgboost.estimator import XGBoost\n",
    "from sagemaker.sklearn.processing import SKLearnProcessor\n",
    "from sagemaker.processing import (\n",
    "    ProcessingInput, \n",
    "    ProcessingOutput, \n",
    "    ScriptProcessor\n",
    ")\n",
    "from sagemaker.inputs import TrainingInput\n",
    "\n",
    "from sagemaker.workflow.pipeline import Pipeline\n",
    "from sagemaker.workflow.steps import (\n",
    "    ProcessingStep, \n",
    "    TrainingStep, \n",
    "    CreateModelStep\n",
    ")\n",
    "from sagemaker.workflow.check_job_config import CheckJobConfig\n",
    "from sagemaker.workflow.parameters import (\n",
    "    ParameterInteger, \n",
    "    ParameterFloat, \n",
    "    ParameterString, \n",
    "    ParameterBoolean\n",
    ")\n",
    "from sagemaker.workflow.clarify_check_step import (\n",
    "    ModelBiasCheckConfig, \n",
    "    ClarifyCheckStep, \n",
    "    ModelExplainabilityCheckConfig\n",
    ")\n",
    "from sagemaker import Model\n",
    "from sagemaker.inputs import CreateModelInput\n",
    "from sagemaker.workflow.model_step import ModelStep\n",
    "from sagemaker.workflow.fail_step import FailStep\n",
    "from sagemaker.workflow.conditions import (\n",
    "    ConditionGreaterThan,\n",
    "    ConditionGreaterThanOrEqualTo\n",
    ")\n",
    "from sagemaker.workflow.pipeline_experiment_config import PipelineExperimentConfig\n",
    "from sagemaker.workflow.properties import PropertyFile\n",
    "from sagemaker.workflow.condition_step import ConditionStep\n",
    "from sagemaker.workflow.functions import (\n",
    "    Join,\n",
    "    JsonGet\n",
    ")\n",
    "from sagemaker.workflow.lambda_step import (\n",
    "    LambdaStep,\n",
    "    LambdaOutput,\n",
    "    LambdaOutputTypeEnum,\n",
    ")\n",
    "from sagemaker.lambda_helper import Lambda\n",
    "\n",
    "from sagemaker.model_metrics import (\n",
    "    MetricsSource, \n",
    "    ModelMetrics, \n",
    "    FileSource\n",
    ")\n",
    "from sagemaker.drift_check_baselines import DriftCheckBaselines\n",
    "\n",
    "from sagemaker.image_uris import retrieve\n",
    "\n",
    "\n",
    "sagemaker.__version__"
   ]
  },
  {
   "cell_type": "markdown",
   "id": "f8db97b1-7482-43b6-9e75-58f88c0f990c",
   "metadata": {},
   "source": [
    "## Set constants"
   ]
  },
  {
   "cell_type": "code",
   "execution_count": 72,
   "id": "ca27a761-7392-4723-a349-83ae729978a9",
   "metadata": {
    "tags": []
   },
   "outputs": [
    {
     "name": "stdout",
     "output_type": "stream",
     "text": [
      "arn:aws:iam::531485126105:role/service-role/AmazonSageMaker-ExecutionRole-20230614T171444\n"
     ]
    }
   ],
   "source": [
    "# Get some variables you need to interact with SageMaker service\n",
    "boto_session = boto3.Session()\n",
    "region = boto_session.region_name\n",
    "bucket_name = sagemaker.Session().default_bucket()\n",
    "bucket_prefix = \"Solar-Power-Forcasting/linear\"  \n",
    "sm_session = sagemaker.Session()\n",
    "sm_client = boto_session.client(\"sagemaker\")\n",
    "sm_role = sagemaker.get_execution_role()\n",
    "\n",
    "initialized = True\n",
    "\n",
    "print(sm_role)"
   ]
  },
  {
   "cell_type": "code",
   "execution_count": 73,
   "id": "e38ec91f-1aa0-44b6-9489-bb7a8ce5a102",
   "metadata": {
    "tags": []
   },
   "outputs": [
    {
     "name": "stdout",
     "output_type": "stream",
     "text": [
      "Stored 'bucket_name' (str)\n",
      "Stored 'bucket_prefix' (str)\n",
      "Stored 'sm_role' (str)\n",
      "Stored 'region' (str)\n",
      "Stored 'initialized' (bool)\n"
     ]
    }
   ],
   "source": [
    "# # Store some variables to keep the value between the notebooks\n",
    "%store bucket_name\n",
    "%store bucket_prefix\n",
    "%store sm_role\n",
    "%store region\n",
    "%store initialized"
   ]
  },
  {
   "cell_type": "code",
   "execution_count": 74,
   "id": "b4932f40-e70d-4d64-bd23-da7a6d3172a7",
   "metadata": {
    "tags": []
   },
   "outputs": [
    {
     "name": "stdout",
     "output_type": "stream",
     "text": [
      "{'AppType': 'KernelGateway', 'DomainId': 'd-1qvmpqvqiuve', 'UserProfileName': 'default-1686740036091', 'ResourceArn': 'arn:aws:sagemaker:us-east-1:531485126105:app/d-1qvmpqvqiuve/default-1686740036091/KernelGateway/datascience-1-0-ml-t3-medium-1abf3407f667f989be9d86559395', 'ResourceName': 'datascience-1-0-ml-t3-medium-1abf3407f667f989be9d86559395', 'AppImageVersion': ''}\n"
     ]
    }
   ],
   "source": [
    "import json\n",
    "\n",
    "NOTEBOOK_METADATA_FILE = \"/opt/ml/metadata/resource-metadata.json\"\n",
    "\n",
    "try:\n",
    "    with open(NOTEBOOK_METADATA_FILE, \"r\") as f:\n",
    "        data = json.load(f)\n",
    "        print(data)\n",
    "except FileNotFoundError:\n",
    "    print(\"File not found.\")\n"
   ]
  },
  {
   "cell_type": "code",
   "execution_count": 75,
   "id": "15609ede-53a3-44ac-910e-19484c88577b",
   "metadata": {
    "tags": []
   },
   "outputs": [
    {
     "name": "stdout",
     "output_type": "stream",
     "text": [
      "d-1qvmpqvqiuve\n"
     ]
    }
   ],
   "source": [
    "%store -r domain_id\n",
    "print(domain_id)"
   ]
  },
  {
   "cell_type": "code",
   "execution_count": 76,
   "id": "86f014ce-bfee-45ec-94b0-783847cada9f",
   "metadata": {
    "tags": []
   },
   "outputs": [],
   "source": [
    "# Set names of pipeline objects\n",
    "project = \"solar1\"\n",
    "\n",
    "pipeline_name = f\"{project}-pipeline\"\n",
    "pipeline_model_name = f\"{project}-model-reg\"\n",
    "model_package_group_name = f\"{project}-model-group\"\n",
    "endpoint_config_name = f\"{project}-endpoint-config\"\n",
    "endpoint_name = f\"{project}-endpoint\"\n",
    "\n",
    "# Set instance types and counts\n",
    "process_instance_type = \"ml.c5.xlarge\"\n",
    "train_instance_count = 1\n",
    "train_instance_type = \"ml.m5.xlarge\"\n",
    "\n",
    "# Set S3 urls for processed data\n",
    "train_s3_url = f\"s3://{bucket_name}/{bucket_prefix}/train\"\n",
    "validation_s3_url = f\"s3://{bucket_name}/{bucket_prefix}/validation\"\n",
    "test_s3_url = f\"s3://{bucket_name}/{bucket_prefix}/test\"\n",
    "baseline_s3_url = f\"s3://{bucket_name}/{bucket_prefix}/baseline\"\n",
    "\n",
    "evaluation_s3_url = f\"s3://{bucket_name}/{bucket_prefix}/evaluation\"\n",
    "prediction_baseline_s3_url = f\"s3://{bucket_name}/{bucket_prefix}/prediction_baseline\"\n",
    "\n",
    "output_s3_url = f\"s3://{bucket_name}/{bucket_prefix}/output\""
   ]
  },
  {
   "cell_type": "code",
   "execution_count": 77,
   "id": "1d25bdc8-0a80-4282-9808-122f9b430988",
   "metadata": {
    "tags": []
   },
   "outputs": [
    {
     "data": {
      "text/plain": [
       "'s3://sagemaker-us-east-1-531485126105/Solar-Power-Forcasting/linear/output'"
      ]
     },
     "execution_count": 77,
     "metadata": {},
     "output_type": "execute_result"
    }
   ],
   "source": [
    "output_s3_url"
   ]
  },
  {
   "cell_type": "code",
   "execution_count": 78,
   "id": "261541f6-eea0-47f7-bd0d-289fcb640bd4",
   "metadata": {
    "tags": []
   },
   "outputs": [
    {
     "name": "stdout",
     "output_type": "stream",
     "text": [
      "Stored 'train_s3_url' (str)\n",
      "Stored 'validation_s3_url' (str)\n",
      "Stored 'test_s3_url' (str)\n",
      "Stored 'baseline_s3_url' (str)\n",
      "Stored 'model_package_group_name' (str)\n",
      "Stored 'evaluation_s3_url' (str)\n",
      "Stored 'prediction_baseline_s3_url' (str)\n",
      "Stored 'output_s3_url' (str)\n"
     ]
    }
   ],
   "source": [
    "# #store the variable\n",
    "%store train_s3_url\n",
    "%store validation_s3_url\n",
    "%store test_s3_url\n",
    "%store baseline_s3_url\n",
    "%store model_package_group_name\n",
    "%store evaluation_s3_url\n",
    "%store prediction_baseline_s3_url\n",
    "%store output_s3_url"
   ]
  },
  {
   "cell_type": "code",
   "execution_count": 79,
   "id": "9a5442f6-b0c6-469d-af61-15786d11ab76",
   "metadata": {
    "tags": []
   },
   "outputs": [],
   "source": [
    "# Set instance types and counts\n",
    "process_instance_type = \"ml.c5.xlarge\"\n",
    "train_instance_count = 1\n",
    "train_instance_type = \"ml.m5.xlarge\""
   ]
  },
  {
   "cell_type": "code",
   "execution_count": 94,
   "id": "437d1d6a-be99-4b33-b3c2-34d7117b2566",
   "metadata": {
    "tags": []
   },
   "outputs": [
    {
     "name": "stdout",
     "output_type": "stream",
     "text": [
      "Stored variables and their in-db values:\n",
      "athena_table_name                      -> 'sagemaker_workshop_e2e_churn_1686747619'\n",
      "baseline_s3_url                        -> 's3://sagemaker-us-east-1-531485126105/Solar-Power\n",
      "bucket                                 -> 'sagemaker-studio-us-east-1-531485126105'\n",
      "bucket_name                            -> 'sagemaker-us-east-1-531485126105'\n",
      "bucket_prefix                          -> 'Solar-Power-Forcasting/linear'\n",
      "churn_feature_group_name               -> 'sagemaker-workshop-e2e-churn'\n",
      "docker_image_name                      -> '683313688378.dkr.ecr.us-east-1.amazonaws.com/sage\n",
      "domain_id                              -> 'd-1qvmpqvqiuve'\n",
      "evaluation_s3_url                      -> 's3://sagemaker-us-east-1-531485126105/Solar-Power\n",
      "experiment_name                        -> 'Solar-Power-experiment-25-10-00-09'\n",
      "framework_version                      -> '1.3-1'\n",
      "initialized                            -> True\n",
      "input_s3_url                           -> 's3://sagemaker-us-east-1-531485126105/from-idea-t\n",
      "model_package_group_name               -> 'solar1-model-group'\n",
      "output_s3_url                          -> 's3://sagemaker-us-east-1-531485126105/Solar-Power\n",
      "prediction_baseline_s3_url             -> 's3://sagemaker-us-east-1-531485126105/Solar-Power\n",
      "prefix                                 -> 'xgboost-churn'\n",
      "query_string                           -> 'SELECT * FROM \"sagemaker_workshop_e2e_churn_16867\n",
      "region                                 -> 'us-east-1'\n",
      "s3uri_raw                              -> 's3://sagemaker-studio-us-east-1-531485126105/xgbo\n",
      "sm_role                                -> 'arn:aws:iam::531485126105:role/service-role/Amazo\n",
      "target_col                             -> 'y'\n",
      "test_s3_url                            -> 's3://sagemaker-us-east-1-531485126105/Solar-Power\n",
      "train_s3_url                           -> 's3://sagemaker-us-east-1-531485126105/Solar-Power\n",
      "training_job_name                      -> 'from-idea-to-prod-training-2023-06-19-09-32-20-64\n",
      "validation_s3_url                      -> 's3://sagemaker-us-east-1-531485126105/Solar-Power\n"
     ]
    }
   ],
   "source": [
    "%store -r \n",
    "\n",
    "%store\n",
    "\n",
    "try:\n",
    "    initialized\n",
    "except NameError:\n",
    "    print(\"+++++++++++++++++++++++++++++++++++++++++++++++++\")\n",
    "    print(\"[ERROR] YOU HAVE TO RUN 00-start-here notebook   \")\n",
    "    print(\"+++++++++++++++++++++++++++++++++++++++++++++++++\")"
   ]
  },
  {
   "cell_type": "markdown",
   "id": "6351e3c1-00d6-4c4f-b9e1-ba3187e1ac95",
   "metadata": {},
   "source": [
    "## Read data and upload it "
   ]
  },
  {
   "cell_type": "code",
   "execution_count": 81,
   "id": "c19b48a7-58d4-4d91-bbd4-6a57294c704c",
   "metadata": {
    "tags": []
   },
   "outputs": [],
   "source": [
    "#read data and save it in pandas dataframe\n",
    "df_gen1 = pd.read_csv(\"data/Plant_1_Generation_Data.csv\")\n",
    "df_gen2 = pd.read_csv(\"data/Plant_2_Generation_Data.csv\")\n",
    "\n",
    "df_weather1 = pd.read_csv(\"data/Plant_1_Weather_Sensor_Data.csv\")\n",
    "df_weather2 = pd.read_csv(\"data//Plant_2_Weather_Sensor_Data.csv\")"
   ]
  },
  {
   "cell_type": "code",
   "execution_count": 82,
   "id": "ccbba575-e0b8-4fb1-9b09-cb70e1c5a886",
   "metadata": {
    "tags": []
   },
   "outputs": [
    {
     "data": {
      "application/vnd.jupyter.widget-view+json": {
       "model_id": "719e160be83d47ad8b8a5583115fd562"
      },
      "text/plain": [
       "          DATE_TIME  PLANT_ID       SOURCE_KEY  DC_POWER  AC_POWER  \\\n",
       "0  15-05-2020 00:00   4135001  1BY6WEcLGh8j5v7       0.0       0.0   \n",
       "1  15-05-2020 00:00   4135001  1IF53ai7Xc0U56Y       0.0       0.0   \n",
       "2  15-05-2020 00:00   4135001  3PZuoBAID5Wc2HD       0.0       0.0   \n",
       "3  15-05-2020 00:00   4135001  7JYdWkrLSPkdwr4       0.0       0.0   \n",
       "4  15-05-2020 00:00   4135001  McdE0feGgRqW7Ca       0.0       0.0   \n",
       "\n",
       "   DAILY_YIELD  TOTAL_YIELD  \n",
       "0          0.0    6259559.0  \n",
       "1          0.0    6183645.0  \n",
       "2          0.0    6987759.0  \n",
       "3          0.0    7602960.0  \n",
       "4          0.0    7158964.0  "
      ]
     },
     "metadata": {},
     "output_type": "display_data"
    }
   ],
   "source": [
    "df_gen1.head()"
   ]
  },
  {
   "cell_type": "code",
   "execution_count": 83,
   "id": "23bc5cf2-8d7f-449d-a83a-cc5217f5501b",
   "metadata": {
    "tags": []
   },
   "outputs": [],
   "source": [
    "# Run this cell to import or install the Data Wrangler widget to show automatic visualization and generate code to fix data quality issues\n",
    "try:\n",
    "    import sagemaker_datawrangler\n",
    "except ImportError:\n",
    "    !pip install --upgrade sagemaker-datawrangler\n",
    "    import sagemaker_datawrangler\n",
    "\n",
    "# Display Pandas DataFrame to view the widget: df, display(df), df.sample()... "
   ]
  },
  {
   "cell_type": "code",
   "execution_count": 96,
   "id": "04117339-8b30-46da-84ef-e1eb30c5aae5",
   "metadata": {
    "tags": []
   },
   "outputs": [],
   "source": [
    "#create S3 bucket \n",
    "# !aws s3 mb s3://sagemaker-eu-central-1-d48\n",
    "# bucket_name='sagemaker-eu-central-1-d48'\n",
    "bucket_prefix='solar1/linerreg'\n"
   ]
  },
  {
   "cell_type": "code",
   "execution_count": 85,
   "id": "ea8d50f9-0ecf-494e-b01d-457f9f84eb0a",
   "metadata": {
    "tags": []
   },
   "outputs": [],
   "source": [
    "#Upload data to S3 bucket\n",
    "s3 = boto3.client('s3')\n",
    "\n",
    "# # Upload Plant_1_Generation_Data.csv\n",
    "# s3.upload_file(\"data/Plant_1_Generation_Data.csv\", bucket_name, \"input/Plant_1_Generation_Data.csv\")\n",
    "\n",
    "# # Upload Plant_2_Generation_Data.csv\n",
    "# s3.upload_file(\"data/Plant_2_Generation_Data.csv\", bucket_name, \"input/Plant_2_Generation_Data.csv\")\n",
    "\n",
    "# # Upload Plant_1_Weather_Sensor_Data.csv\n",
    "# s3.upload_file(\"data/Plant_1_Weather_Sensor_Data.csv\", bucket_name, \"input/Plant_1_Weather_Sensor_Data.csv\")\n",
    "\n",
    "# # Upload Plant_2_Weather_Sensor_Data.csv\n",
    "# s3.upload_file(\"data/Plant_2_Weather_Sensor_Data.csv\", bucket_name, \"input/Plant_2_Weather_Sensor_Data.csv\")\n",
    "\n",
    "# print(\"Upload complete.\")"
   ]
  },
  {
   "cell_type": "code",
   "execution_count": 86,
   "id": "816e26b2-4065-4ccf-acac-9a3dd940e434",
   "metadata": {
    "tags": []
   },
   "outputs": [],
   "source": [
    "try:\n",
    "    input_s3_url\n",
    "except NameError:      \n",
    "    # If input_s3_url is not defined, upload the datasets to S3 and store the paths\n",
    "    input_s3_url_gen1 = sagemaker.Session().upload_data(\n",
    "        path=\"data/Plant_1_Generation_Data.csv\",\n",
    "        bucket=bucket_name,\n",
    "        key_prefix=f\"{bucket_prefix}/input\"\n",
    "    )\n",
    "    input_s3_url_gen2 = sagemaker.Session().upload_data(\n",
    "        path=\"data/Plant_2_Generation_Data.csv\",\n",
    "        bucket=bucket_name,\n",
    "        key_prefix=f\"{bucket_prefix}/input\"\n",
    "    )\n",
    "    input_s3_url_weather1 = sagemaker.Session().upload_data(\n",
    "        path=\"data/Plant_1_Weather_Sensor_Data.csv\",\n",
    "        bucket=bucket_name,\n",
    "        key_prefix=f\"{bucket_prefix}/input\"\n",
    "    )\n",
    "    input_s3_url_weather2 = sagemaker.Session().upload_data(\n",
    "        path=\"data/Plant_2_Weather_Sensor_Data.csv\",\n",
    "        bucket=bucket_name,\n",
    "        key_prefix=f\"{bucket_prefix}/input\"\n",
    "    )\n",
    "    print(\"Upload complete.\")\n",
    "\n",
    "    # %store input_s3_url_gen1\n",
    "    # %store input_s3_url_gen2\n",
    "    # %store input_s3_url_weather1\n",
    "    # %store input_s3_url_weather2"
   ]
  },
  {
   "cell_type": "code",
   "execution_count": 87,
   "id": "41943086-2535-4113-8ddf-0b18379a4bdd",
   "metadata": {
    "tags": []
   },
   "outputs": [
    {
     "name": "stdout",
     "output_type": "stream",
     "text": [
      "Number of files in sagemaker-us-east-1-531485126105: 282\n"
     ]
    }
   ],
   "source": [
    "# check how many file in s3\n",
    "\n",
    "response = s3.list_objects_v2(Bucket=bucket_name)\n",
    "\n",
    "if 'Contents' in response:\n",
    "    file_count = len(response['Contents'])\n",
    "    print(f\"Number of files in {bucket_name}: {file_count}\")\n",
    "else:\n",
    "    print(f\"No files found in {bucket_name}\")"
   ]
  },
  {
   "cell_type": "code",
   "execution_count": 88,
   "id": "af59c5c1-2822-45b1-8ace-d72b93b82abe",
   "metadata": {
    "tags": []
   },
   "outputs": [
    {
     "name": "stdout",
     "output_type": "stream",
     "text": [
      "Files in sagemaker-us-east-1-531485126105:\n",
      "assignment_day_4/bank-additional-full.csv\n",
      "athena/athena/780924dbaf2149e5990163cb452fcae6/data/20230614_130819_00020_cddss_11abd477-1de8-45b8-951c-c3780c2716c9\n",
      "athena/athena/780924dbaf2149e5990163cb452fcae6/data/20230614_130819_00020_cddss_1351986c-9010-4ba2-80b3-bd6502143f3d\n",
      "athena/athena/780924dbaf2149e5990163cb452fcae6/data/20230614_130819_00020_cddss_16305422-5d01-4837-9379-0f0c1797aecd\n",
      "athena/athena/780924dbaf2149e5990163cb452fcae6/data/20230614_130819_00020_cddss_2017370c-f8ca-4e38-8e41-198235d716c6\n",
      "athena/athena/780924dbaf2149e5990163cb452fcae6/data/20230614_130819_00020_cddss_3799497a-7792-4a37-a304-925b56ac7d61\n",
      "athena/athena/780924dbaf2149e5990163cb452fcae6/data/20230614_130819_00020_cddss_4be6b5af-aecd-46fe-b0bc-2c2fd0d57f8d\n",
      "athena/athena/780924dbaf2149e5990163cb452fcae6/data/20230614_130819_00020_cddss_52a50cb2-9b5e-47cb-94b7-82815a7c85e7\n",
      "athena/athena/780924dbaf2149e5990163cb452fcae6/data/20230614_130819_00020_cddss_5c2280dd-8daa-489e-b081-f1f59ff28b4f\n",
      "athena/athena/780924dbaf2149e5990163cb452fcae6/data/20230614_130819_00020_cddss_5d9e6b1d-0125-478b-879d-df6429c1a3eb\n",
      "athena/athena/780924dbaf2149e5990163cb452fcae6/data/20230614_130819_00020_cddss_6c77aec6-cbe2-421f-b4ed-1730616feb38\n",
      "athena/athena/780924dbaf2149e5990163cb452fcae6/data/20230614_130819_00020_cddss_79c8b6e2-9766-4c1d-8726-0a3838d37538\n",
      "athena/athena/780924dbaf2149e5990163cb452fcae6/data/20230614_130819_00020_cddss_7cd153e1-295a-4dda-b668-9f06731aa45f\n",
      "athena/athena/780924dbaf2149e5990163cb452fcae6/data/20230614_130819_00020_cddss_81458f81-c8ec-4a86-b749-3e7152911b90\n",
      "athena/athena/780924dbaf2149e5990163cb452fcae6/data/20230614_130819_00020_cddss_8eac24ed-f915-4fac-80ff-6cdfaa9380db\n",
      "athena/athena/780924dbaf2149e5990163cb452fcae6/data/20230614_130819_00020_cddss_90604f24-4a2c-4a6b-a36c-c424b8b63f0b\n",
      "athena/athena/780924dbaf2149e5990163cb452fcae6/data/20230614_130819_00020_cddss_9741af1a-bd3f-404d-9dab-9117eb6e3bb1\n",
      "athena/athena/780924dbaf2149e5990163cb452fcae6/data/20230614_130819_00020_cddss_a05447c8-1305-4d63-b967-9b4d9d01a255\n",
      "athena/athena/780924dbaf2149e5990163cb452fcae6/data/20230614_130819_00020_cddss_a2305340-c641-46d0-ad23-70368866fa1a\n",
      "athena/athena/780924dbaf2149e5990163cb452fcae6/data/20230614_130819_00020_cddss_a6ba3a1d-82ff-4910-be2e-1ecbc1dd2c38\n",
      "athena/athena/780924dbaf2149e5990163cb452fcae6/data/20230614_130819_00020_cddss_ac2f13b9-6ee5-42bd-9131-548fe7172065\n",
      "athena/athena/780924dbaf2149e5990163cb452fcae6/data/20230614_130819_00020_cddss_b18b26bd-0d4a-494e-bb69-737f27e97583\n",
      "athena/athena/780924dbaf2149e5990163cb452fcae6/data/20230614_130819_00020_cddss_c5f25565-4d56-4b89-9f00-413ca384b688\n",
      "athena/athena/780924dbaf2149e5990163cb452fcae6/data/20230614_130819_00020_cddss_ca99dfa2-f5d9-4160-b271-1e5090c4aff0\n",
      "athena/athena/780924dbaf2149e5990163cb452fcae6/data/20230614_130819_00020_cddss_cfd391d8-dc74-469d-80f4-1e727a2ca211\n",
      "athena/athena/780924dbaf2149e5990163cb452fcae6/data/20230614_130819_00020_cddss_dcf5004f-875a-4e1e-b88f-f94cb52bc5aa\n",
      "athena/athena/780924dbaf2149e5990163cb452fcae6/data/20230614_130819_00020_cddss_e01b00a7-2797-49b8-9587-8411670488c2\n",
      "athena/athena/780924dbaf2149e5990163cb452fcae6/data/20230614_130819_00020_cddss_e166c69c-b92b-485a-b357-f72e2b1b379c\n",
      "athena/athena/780924dbaf2149e5990163cb452fcae6/data/20230614_130819_00020_cddss_f5c06e19-191b-498f-bbe9-4d09ce1f81bf\n",
      "athena/athena/780924dbaf2149e5990163cb452fcae6/data/20230614_130819_00020_cddss_f5c8868b-8138-4bc2-99df-9447240f205a\n",
      "athena/athena/780924dbaf2149e5990163cb452fcae6/data/20230614_130819_00020_cddss_fcdb3082-69e7-493d-a673-16532dc2a80c\n",
      "athena/athena/780924dbaf2149e5990163cb452fcae6/metadata/5444b37a-5f7d-4d65-9ebe-607896583f3d-manifest.csv\n",
      "athena/athena/780924dbaf2149e5990163cb452fcae6/metadata/5444b37a-5f7d-4d65-9ebe-607896583f3d.metadata\n",
      "athena/athena/9c2a7df8e82049b689c83f820851f794/data/20230614_130819_00031_85edp_018c0ec8-f4fa-4001-9bba-cfdfab2d11b3\n",
      "athena/athena/9c2a7df8e82049b689c83f820851f794/data/20230614_130819_00031_85edp_0d5cef6a-2b4a-49f1-8dcc-4d3eed706ced\n",
      "athena/athena/9c2a7df8e82049b689c83f820851f794/data/20230614_130819_00031_85edp_10545fb7-e1be-47eb-a2a1-4ca195301506\n",
      "athena/athena/9c2a7df8e82049b689c83f820851f794/data/20230614_130819_00031_85edp_125d6e5f-6338-4b34-8f2f-1b579bdc0d1a\n",
      "athena/athena/9c2a7df8e82049b689c83f820851f794/data/20230614_130819_00031_85edp_16262a50-f041-4343-99ee-557514ecd9ef\n",
      "athena/athena/9c2a7df8e82049b689c83f820851f794/data/20230614_130819_00031_85edp_2fc5883a-b049-4dda-a540-ab3b7d964349\n",
      "athena/athena/9c2a7df8e82049b689c83f820851f794/data/20230614_130819_00031_85edp_37afc2b3-9a4a-4565-ae4a-18f93a38ffad\n",
      "athena/athena/9c2a7df8e82049b689c83f820851f794/data/20230614_130819_00031_85edp_3b423237-2928-45d5-b777-c784f9c984bd\n",
      "athena/athena/9c2a7df8e82049b689c83f820851f794/data/20230614_130819_00031_85edp_3bb476b4-f2e6-4b80-85e3-6daff0c5010d\n",
      "athena/athena/9c2a7df8e82049b689c83f820851f794/data/20230614_130819_00031_85edp_4c5d6f0d-8068-43a1-9a5a-b64a62e0f02a\n",
      "athena/athena/9c2a7df8e82049b689c83f820851f794/data/20230614_130819_00031_85edp_5601a9dc-103c-4c29-a670-c407427df2d7\n",
      "athena/athena/9c2a7df8e82049b689c83f820851f794/data/20230614_130819_00031_85edp_60b3d594-aa0e-432b-b1bf-f74451f9069a\n",
      "athena/athena/9c2a7df8e82049b689c83f820851f794/data/20230614_130819_00031_85edp_6ad44cc7-2bc9-4ab2-a2e3-16030b92508a\n",
      "athena/athena/9c2a7df8e82049b689c83f820851f794/data/20230614_130819_00031_85edp_7fad05ff-fe3d-4e93-a43e-9423df4b12a8\n",
      "athena/athena/9c2a7df8e82049b689c83f820851f794/data/20230614_130819_00031_85edp_8f4ef88b-435f-4439-be21-7d6c644a96b6\n",
      "athena/athena/9c2a7df8e82049b689c83f820851f794/data/20230614_130819_00031_85edp_8f55c380-a8b7-4e36-8fbd-4622b53d2276\n",
      "athena/athena/9c2a7df8e82049b689c83f820851f794/data/20230614_130819_00031_85edp_9e96fb5a-27c9-47ba-92b9-22a142449bf2\n",
      "athena/athena/9c2a7df8e82049b689c83f820851f794/data/20230614_130819_00031_85edp_a02071cb-1a80-479f-a23d-39b16b46f69f\n",
      "athena/athena/9c2a7df8e82049b689c83f820851f794/data/20230614_130819_00031_85edp_a3b0d0c1-541f-432f-8d0d-52078f8ba134\n",
      "athena/athena/9c2a7df8e82049b689c83f820851f794/data/20230614_130819_00031_85edp_a581d73b-fd1a-4902-8fdf-7fea60d28720\n",
      "athena/athena/9c2a7df8e82049b689c83f820851f794/data/20230614_130819_00031_85edp_a9188f40-7694-4bba-8dcf-0a538ff13333\n",
      "athena/athena/9c2a7df8e82049b689c83f820851f794/data/20230614_130819_00031_85edp_bc8bf08b-18ad-4c5f-9943-c6b8e4a5c1a6\n",
      "athena/athena/9c2a7df8e82049b689c83f820851f794/data/20230614_130819_00031_85edp_c116f38b-0c56-4bbd-a7fa-9bbf352f4e75\n",
      "athena/athena/9c2a7df8e82049b689c83f820851f794/data/20230614_130819_00031_85edp_c59432d9-2487-4b14-8ab1-59cb35cf8249\n",
      "athena/athena/9c2a7df8e82049b689c83f820851f794/data/20230614_130819_00031_85edp_c5ce636c-5b88-4564-bd87-57e104b05f56\n",
      "athena/athena/9c2a7df8e82049b689c83f820851f794/data/20230614_130819_00031_85edp_cd41a0ef-cc47-45d7-b15e-97338991f802\n",
      "athena/athena/9c2a7df8e82049b689c83f820851f794/data/20230614_130819_00031_85edp_d1efafa3-afa4-434e-8c2b-56ad7e663900\n",
      "athena/athena/9c2a7df8e82049b689c83f820851f794/data/20230614_130819_00031_85edp_d855f486-f3fc-4b2b-832a-b6ca224474f0\n",
      "athena/athena/9c2a7df8e82049b689c83f820851f794/data/20230614_130819_00031_85edp_eb0a7ff1-30d2-42d4-a397-f9f38665d50a\n",
      "athena/athena/9c2a7df8e82049b689c83f820851f794/data/20230614_130819_00031_85edp_fe32e9c4-da07-4fe6-8828-1c22f97850ca\n",
      "athena/athena/9c2a7df8e82049b689c83f820851f794/metadata/7dba1221-6e86-4dc4-926f-913dc974fad6-manifest.csv\n",
      "athena/athena/9c2a7df8e82049b689c83f820851f794/metadata/7dba1221-6e86-4dc4-926f-913dc974fad6.metadata\n",
      "athena/athena/b740992d-4506-49e5-be53-56d716a418fa.csv\n",
      "athena/athena/b740992d-4506-49e5-be53-56d716a418fa.csv.metadata\n",
      "athena/athena/b9e2cdd001c74cd69ab9088ee61b8001/data/20230614_130819_00129_cxg8n_28259b7c-d993-492d-93e6-7c0cb7cadd95\n",
      "athena/athena/b9e2cdd001c74cd69ab9088ee61b8001/data/20230614_130819_00129_cxg8n_283e27fb-036d-48b8-ab17-9372c2b3722d\n",
      "athena/athena/b9e2cdd001c74cd69ab9088ee61b8001/data/20230614_130819_00129_cxg8n_356c767a-6801-4b74-9be3-4e629e2a392f\n",
      "athena/athena/b9e2cdd001c74cd69ab9088ee61b8001/data/20230614_130819_00129_cxg8n_36ebcfd6-cbf0-4c7c-923a-d94dfac88ff2\n",
      "athena/athena/b9e2cdd001c74cd69ab9088ee61b8001/data/20230614_130819_00129_cxg8n_4659d22b-649d-4140-b900-f2ec22dadaa5\n",
      "athena/athena/b9e2cdd001c74cd69ab9088ee61b8001/data/20230614_130819_00129_cxg8n_496470ed-45e3-494d-9170-870c71c6c860\n",
      "athena/athena/b9e2cdd001c74cd69ab9088ee61b8001/data/20230614_130819_00129_cxg8n_5eb1e18f-0f3f-48af-8b2f-e189eaf6bb71\n",
      "athena/athena/b9e2cdd001c74cd69ab9088ee61b8001/data/20230614_130819_00129_cxg8n_5fab6732-1a5b-448a-9b68-023e373e3552\n",
      "athena/athena/b9e2cdd001c74cd69ab9088ee61b8001/data/20230614_130819_00129_cxg8n_60944717-505b-41a6-a619-7200c43c6552\n",
      "athena/athena/b9e2cdd001c74cd69ab9088ee61b8001/data/20230614_130819_00129_cxg8n_70ed9fe1-dac0-406b-b3bd-8cbc38e4dfa9\n",
      "athena/athena/b9e2cdd001c74cd69ab9088ee61b8001/data/20230614_130819_00129_cxg8n_84f7b6b7-729e-460f-bcf8-f0d54110f3ef\n",
      "athena/athena/b9e2cdd001c74cd69ab9088ee61b8001/data/20230614_130819_00129_cxg8n_858141e2-fbdb-44b4-a3b2-4d915e5866d0\n",
      "athena/athena/b9e2cdd001c74cd69ab9088ee61b8001/data/20230614_130819_00129_cxg8n_869f16dc-6ed1-4274-bc23-4f83950ed063\n",
      "athena/athena/b9e2cdd001c74cd69ab9088ee61b8001/data/20230614_130819_00129_cxg8n_98d5f846-504e-4407-be13-9c5cef61646d\n",
      "athena/athena/b9e2cdd001c74cd69ab9088ee61b8001/data/20230614_130819_00129_cxg8n_9d17c753-f835-4d7c-9bfd-91a294475bee\n",
      "athena/athena/b9e2cdd001c74cd69ab9088ee61b8001/data/20230614_130819_00129_cxg8n_a1156163-7d5f-480e-accf-1078e6fd912c\n",
      "athena/athena/b9e2cdd001c74cd69ab9088ee61b8001/data/20230614_130819_00129_cxg8n_a331d138-0efa-449a-8ce1-36c4d3a411f5\n",
      "athena/athena/b9e2cdd001c74cd69ab9088ee61b8001/data/20230614_130819_00129_cxg8n_a4626a8b-d6d6-4a76-b2ec-927da4281e92\n",
      "athena/athena/b9e2cdd001c74cd69ab9088ee61b8001/data/20230614_130819_00129_cxg8n_a71a7fe6-8070-4e1e-8ae0-4fa2836ed2de\n",
      "athena/athena/b9e2cdd001c74cd69ab9088ee61b8001/data/20230614_130819_00129_cxg8n_af76c745-041d-4e89-9ce9-9936a077f83d\n",
      "athena/athena/b9e2cdd001c74cd69ab9088ee61b8001/data/20230614_130819_00129_cxg8n_c0e27dce-ef58-4b1b-b10f-a86ade675b73\n",
      "athena/athena/b9e2cdd001c74cd69ab9088ee61b8001/data/20230614_130819_00129_cxg8n_c54968a6-7def-432b-9bd9-01b8c5b93e03\n",
      "athena/athena/b9e2cdd001c74cd69ab9088ee61b8001/data/20230614_130819_00129_cxg8n_c86a783e-0ece-4d1e-bfa8-9ef6d91482f3\n",
      "athena/athena/b9e2cdd001c74cd69ab9088ee61b8001/data/20230614_130819_00129_cxg8n_d28fab98-b779-4e16-a1cf-9c0c90d292ae\n",
      "athena/athena/b9e2cdd001c74cd69ab9088ee61b8001/data/20230614_130819_00129_cxg8n_d32ab1ae-4465-4f55-8686-6d70a65a57df\n",
      "athena/athena/b9e2cdd001c74cd69ab9088ee61b8001/data/20230614_130819_00129_cxg8n_d8951063-02ed-4910-9285-c8ed0eff0f69\n",
      "athena/athena/b9e2cdd001c74cd69ab9088ee61b8001/data/20230614_130819_00129_cxg8n_dce606cb-0e3f-4814-b83b-4440fa79a600\n",
      "athena/athena/b9e2cdd001c74cd69ab9088ee61b8001/data/20230614_130819_00129_cxg8n_ec878aec-0417-4df9-9a7d-8bf7496d4cdc\n",
      "athena/athena/b9e2cdd001c74cd69ab9088ee61b8001/data/20230614_130819_00129_cxg8n_eed179d5-4eb5-4a32-ab50-dd44559898bc\n",
      "athena/athena/b9e2cdd001c74cd69ab9088ee61b8001/data/20230614_130819_00129_cxg8n_fc5bbae4-0f94-4ef7-b2e6-7cf4985015b9\n",
      "athena/athena/b9e2cdd001c74cd69ab9088ee61b8001/metadata/c563ea3b-5dd7-44eb-8bdb-a743ffdbab7f-manifest.csv\n",
      "athena/athena/b9e2cdd001c74cd69ab9088ee61b8001/metadata/c563ea3b-5dd7-44eb-8bdb-a743ffdbab7f.metadata\n",
      "data_wrangler_flows/flow-14-12-29-50-e8bb72d9.flow\n",
      "data_wrangler_flows/flow-14-12-38-43-460612f2.flow\n",
      "data_wrangler_flows/flow-14-12-45-57-5939457d.flow\n",
      "data_wrangler_flows/flow-14-12-49-54-d2d85472.flow\n",
      "data_wrangler_flows/flow-14-12-54-40-0796832a.flow\n",
      "data_wrangler_flows/flow-14-12-56-17-9240e320.flow\n",
      "data_wrangler_flows/flow-14-13-27-29-f759f74a.flow\n",
      "data_wrangler_flows/flow-14-13-29-52-97d7fb42.flow\n",
      "from-idea-to-prod-pipeline/code/6ee5fd90de145d53d58ad9299728f46d/evaluation.py\n",
      "from-idea-to-prod-pipeline/code/7a30a6f20d15573f9317cafdc65c1811/evaluation.py\n",
      "from-idea-to-prod-pipeline/code/a500940804f61c7db4708cf841965694/preprocessing.py\n",
      "from-idea-to-prod-pipeline/evaluate-2023-06-18-08-02-07-464/input/code/evaluation.py\n",
      "from-idea-to-prod-pipeline/evaluate-2023-06-19-10-05-14-634/input/code/evaluation.py\n",
      "from-idea-to-prod-pipeline/evaluate-2023-06-19-10-06-47-584/input/code/evaluation.py\n",
      "from-idea-to-prod-pipeline/evaluate-2023-06-22-05-28-40-906/input/code/evaluation.py\n",
      "from-idea-to-prod-pipeline/evaluate-2023-06-22-05-31-23-250/input/code/evaluation.py\n",
      "from-idea-to-prod-processing-2023-06-18-08-30-43-253/input/code/preprocessing_assignment.py\n",
      "from-idea-to-prod-processing-2023-06-18-08-32-21-800/input/code/preprocessing_assignment.py\n",
      "from-idea-to-prod-processing-2023-06-18-08-43-06-854/input/code/preprocessing_assignment.py\n",
      "from-idea-to-prod-processing-2023-06-18-08-47-50-589/input/code/preprocessing.py\n",
      "from-idea-to-prod-processing-2023-06-18-08-50-42-793/input/code/preprocessing.py\n",
      "from-idea-to-prod-processing-2023-06-18-08-55-54-992/input/code/preprocessing.py\n",
      "from-idea-to-prod-processing-2023-06-19-09-27-24-923/input/code/preprocessing.py\n",
      "from-idea-to-prod/xgboost/baseline/baseline.csv\n",
      "from-idea-to-prod/xgboost/data-capture/from-idea-to-prod-endpoint-18-08-55-18/AllTraffic/2023/06/18/08/57-53-672-651ce922-b8d1-4849-99bd-5fa488a2d431.jsonl\n",
      "from-idea-to-prod/xgboost/data-capture/from-idea-to-prod-endpoint-18-09-04-01/AllTraffic/2023/06/18/09/06-45-504-88d876b3-f530-4bbf-9f53-5444783025cf.jsonl\n",
      "from-idea-to-prod/xgboost/data-capture/from-idea-to-prod-endpoint-19-09-34-52/AllTraffic/2023/06/19/09/37-28-134-ad5faabd-51c0-4b4b-b496-4b72dea9e53b.jsonl\n",
      "from-idea-to-prod/xgboost/input/Plant_1_Generation_Data.csv\n",
      "from-idea-to-prod/xgboost/input/Plant_1_Weather_Sensor_Data.csv\n",
      "from-idea-to-prod/xgboost/input/Plant_2_Generation_Data.csv\n",
      "from-idea-to-prod/xgboost/input/Plant_2_Weather_Sensor_Data.csv\n",
      "from-idea-to-prod/xgboost/input/bank-additional-full.csv\n",
      "from-idea-to-prod/xgboost/output/from-idea-to-prod-hp-230618-0903-001-eb4d0a9f/output/model.tar.gz\n",
      "from-idea-to-prod/xgboost/output/from-idea-to-prod-hp-230618-0903-002-735c02f0/output/model.tar.gz\n",
      "from-idea-to-prod/xgboost/output/from-idea-to-prod-hp-230618-0903-003-c91e7bed/output/model.tar.gz\n",
      "from-idea-to-prod/xgboost/output/from-idea-to-prod-hp-230618-0903-004-5f60ec2d/output/model.tar.gz\n",
      "from-idea-to-prod/xgboost/output/from-idea-to-prod-hp-230618-0903-005-e4bd6d69/output/model.tar.gz\n",
      "from-idea-to-prod/xgboost/output/from-idea-to-prod-hp-230618-0903-006-4ff4524b/output/model.tar.gz\n",
      "from-idea-to-prod/xgboost/output/from-idea-to-prod-hp-230618-0903-007-6a8668bf/output/model.tar.gz\n",
      "from-idea-to-prod/xgboost/output/from-idea-to-prod-hp-230618-0903-008-f3f30395/output/model.tar.gz\n",
      "from-idea-to-prod/xgboost/output/from-idea-to-prod-hp-230618-0903-009-270f7c6d/output/model.tar.gz\n",
      "from-idea-to-prod/xgboost/output/from-idea-to-prod-hp-230618-0903-010-744185e8/output/model.tar.gz\n",
      "from-idea-to-prod/xgboost/output/from-idea-to-prod-hp-230618-0903-011-d54b80c6/output/model.tar.gz\n",
      "from-idea-to-prod/xgboost/output/from-idea-to-prod-hp-230618-0903-012-789a9a30/output/model.tar.gz\n",
      "from-idea-to-prod/xgboost/output/from-idea-to-prod-hp-230618-0903-013-8d4bc7cf/output/model.tar.gz\n",
      "from-idea-to-prod/xgboost/output/from-idea-to-prod-hp-230618-0903-014-caa64ca0/output/model.tar.gz\n",
      "from-idea-to-prod/xgboost/output/from-idea-to-prod-hp-230618-0903-015-308b1582/output/model.tar.gz\n",
      "from-idea-to-prod/xgboost/output/from-idea-to-prod-hp-230618-0903-016-2eeb076b/output/model.tar.gz\n",
      "from-idea-to-prod/xgboost/output/from-idea-to-prod-hp-230618-0903-017-2a0f2ad8/output/model.tar.gz\n",
      "from-idea-to-prod/xgboost/output/from-idea-to-prod-hp-230618-0903-018-e7244941/output/model.tar.gz\n",
      "from-idea-to-prod/xgboost/output/from-idea-to-prod-hp-230618-0903-019-a458b511/output/model.tar.gz\n",
      "from-idea-to-prod/xgboost/output/from-idea-to-prod-hp-230618-0903-020-e9a82a38/output/model.tar.gz\n",
      "from-idea-to-prod/xgboost/output/from-idea-to-prod-hp-230618-0903-021-1dd8f773/output/model.tar.gz\n",
      "from-idea-to-prod/xgboost/output/from-idea-to-prod-hp-230618-0903-022-2f589845/output/model.tar.gz\n",
      "from-idea-to-prod/xgboost/output/from-idea-to-prod-hp-230618-0903-023-67665af5/output/model.tar.gz\n",
      "from-idea-to-prod/xgboost/output/from-idea-to-prod-hp-230618-0903-024-772c7886/output/model.tar.gz\n",
      "from-idea-to-prod/xgboost/output/from-idea-to-prod-hp-230618-0903-025-8c1d055c/output/model.tar.gz\n",
      "from-idea-to-prod/xgboost/output/from-idea-to-prod-hp-230618-0903-026-12b9a0da/output/model.tar.gz\n",
      "from-idea-to-prod/xgboost/output/from-idea-to-prod-hp-230618-0903-027-fb9a9760/output/model.tar.gz\n",
      "from-idea-to-prod/xgboost/output/from-idea-to-prod-hp-230618-0903-028-371e19c0/output/model.tar.gz\n",
      "from-idea-to-prod/xgboost/output/from-idea-to-prod-hp-230618-0903-029-c3c24c71/output/model.tar.gz\n",
      "from-idea-to-prod/xgboost/output/from-idea-to-prod-hp-230618-0903-030-b5b4c468/output/model.tar.gz\n",
      "from-idea-to-prod/xgboost/output/from-idea-to-prod-hp-230619-0942-001-e4216561/output/model.tar.gz\n",
      "from-idea-to-prod/xgboost/output/from-idea-to-prod-hp-230619-0942-002-1abbffa8/output/model.tar.gz\n",
      "from-idea-to-prod/xgboost/output/from-idea-to-prod-hp-230619-0942-003-af8aad5e/output/model.tar.gz\n",
      "from-idea-to-prod/xgboost/output/from-idea-to-prod-hp-230619-0942-004-74004e2a/output/model.tar.gz\n",
      "from-idea-to-prod/xgboost/output/from-idea-to-prod-hp-230619-0942-005-0947851d/output/model.tar.gz\n",
      "from-idea-to-prod/xgboost/output/from-idea-to-prod-hp-230619-0942-006-2788e622/output/model.tar.gz\n",
      "from-idea-to-prod/xgboost/output/from-idea-to-prod-hp-230619-0942-007-40c92da1/output/model.tar.gz\n",
      "from-idea-to-prod/xgboost/output/from-idea-to-prod-hp-230619-0942-008-fd418f78/output/model.tar.gz\n",
      "from-idea-to-prod/xgboost/output/from-idea-to-prod-hp-230619-0942-009-6e7ee7b8/output/model.tar.gz\n",
      "from-idea-to-prod/xgboost/output/from-idea-to-prod-hp-230619-0942-010-1c0961c3/output/model.tar.gz\n",
      "from-idea-to-prod/xgboost/output/from-idea-to-prod-hp-230619-0942-011-f3cc981f/output/model.tar.gz\n",
      "from-idea-to-prod/xgboost/output/from-idea-to-prod-hp-230619-0942-012-2e51d69d/output/model.tar.gz\n",
      "from-idea-to-prod/xgboost/output/from-idea-to-prod-hp-230619-0942-013-b6949564/output/model.tar.gz\n",
      "from-idea-to-prod/xgboost/output/from-idea-to-prod-hp-230619-0942-014-ea89e070/output/model.tar.gz\n",
      "from-idea-to-prod/xgboost/output/from-idea-to-prod-hp-230619-0942-015-c109467a/output/model.tar.gz\n",
      "from-idea-to-prod/xgboost/output/from-idea-to-prod-hp-230619-0942-016-e85e8fd2/output/model.tar.gz\n",
      "from-idea-to-prod/xgboost/output/from-idea-to-prod-hp-230619-0942-017-badeed30/output/model.tar.gz\n",
      "from-idea-to-prod/xgboost/output/from-idea-to-prod-hp-230619-0942-018-abc4102d/output/model.tar.gz\n",
      "from-idea-to-prod/xgboost/output/from-idea-to-prod-hp-230619-0942-019-ce8c0950/output/model.tar.gz\n",
      "from-idea-to-prod/xgboost/output/from-idea-to-prod-hp-230619-0942-020-a27d0730/output/model.tar.gz\n",
      "from-idea-to-prod/xgboost/output/from-idea-to-prod-hp-230619-0942-021-06da2bd0/output/model.tar.gz\n",
      "from-idea-to-prod/xgboost/output/from-idea-to-prod-hp-230619-0942-022-12ad39e9/output/model.tar.gz\n",
      "from-idea-to-prod/xgboost/output/from-idea-to-prod-hp-230619-0942-023-f8bce3ef/output/model.tar.gz\n",
      "from-idea-to-prod/xgboost/output/from-idea-to-prod-hp-230619-0942-024-5c34fe10/output/model.tar.gz\n",
      "from-idea-to-prod/xgboost/output/from-idea-to-prod-hp-230619-0942-025-ce7dec45/output/model.tar.gz\n",
      "from-idea-to-prod/xgboost/output/from-idea-to-prod-hp-230619-0942-026-154cb8d4/output/model.tar.gz\n",
      "from-idea-to-prod/xgboost/output/from-idea-to-prod-hp-230619-0942-027-1b80d264/output/model.tar.gz\n",
      "from-idea-to-prod/xgboost/output/from-idea-to-prod-hp-230619-0942-028-99d58662/output/model.tar.gz\n",
      "from-idea-to-prod/xgboost/output/from-idea-to-prod-hp-230619-0942-029-4b61bc90/output/model.tar.gz\n",
      "from-idea-to-prod/xgboost/output/from-idea-to-prod-hp-230619-0942-030-78e9152c/output/model.tar.gz\n",
      "from-idea-to-prod/xgboost/output/from-idea-to-prod-training-2023-06-18-08-52-46-399/debug-output/claim.smd\n",
      "from-idea-to-prod/xgboost/output/from-idea-to-prod-training-2023-06-18-08-52-46-399/debug-output/collections/000000000/worker_0_collections.json\n",
      "from-idea-to-prod/xgboost/output/from-idea-to-prod-training-2023-06-18-08-52-46-399/debug-output/events/000000000000/000000000000_worker_0.tfevents\n",
      "from-idea-to-prod/xgboost/output/from-idea-to-prod-training-2023-06-18-08-52-46-399/debug-output/events/000000000010/000000000010_worker_0.tfevents\n",
      "from-idea-to-prod/xgboost/output/from-idea-to-prod-training-2023-06-18-08-52-46-399/debug-output/events/000000000020/000000000020_worker_0.tfevents\n",
      "from-idea-to-prod/xgboost/output/from-idea-to-prod-training-2023-06-18-08-52-46-399/debug-output/index/000000000/000000000000_worker_0.json\n",
      "from-idea-to-prod/xgboost/output/from-idea-to-prod-training-2023-06-18-08-52-46-399/debug-output/index/000000000/000000000010_worker_0.json\n",
      "from-idea-to-prod/xgboost/output/from-idea-to-prod-training-2023-06-18-08-52-46-399/debug-output/index/000000000/000000000020_worker_0.json\n",
      "from-idea-to-prod/xgboost/output/from-idea-to-prod-training-2023-06-18-08-52-46-399/debug-output/training_job_end.ts\n",
      "from-idea-to-prod/xgboost/output/from-idea-to-prod-training-2023-06-18-08-52-46-399/output/model.tar.gz\n",
      "from-idea-to-prod/xgboost/output/from-idea-to-prod-training-2023-06-18-08-52-46-399/profiler-output/framework/training_job_end.ts\n",
      "from-idea-to-prod/xgboost/output/from-idea-to-prod-training-2023-06-18-08-52-46-399/profiler-output/system/incremental/2023061808/1687078440.algo-1.json\n",
      "from-idea-to-prod/xgboost/output/from-idea-to-prod-training-2023-06-18-08-52-46-399/profiler-output/system/incremental/2023061808/1687078500.algo-1.json\n",
      "from-idea-to-prod/xgboost/output/from-idea-to-prod-training-2023-06-18-08-52-46-399/profiler-output/system/training_job_end.ts\n",
      "from-idea-to-prod/xgboost/output/from-idea-to-prod-training-2023-06-18-09-00-49-889/debug-output/claim.smd\n",
      "from-idea-to-prod/xgboost/output/from-idea-to-prod-training-2023-06-18-09-00-49-889/debug-output/collections/000000000/worker_0_collections.json\n",
      "from-idea-to-prod/xgboost/output/from-idea-to-prod-training-2023-06-18-09-00-49-889/debug-output/events/000000000000/000000000000_worker_0.tfevents\n",
      "from-idea-to-prod/xgboost/output/from-idea-to-prod-training-2023-06-18-09-00-49-889/debug-output/events/000000000010/000000000010_worker_0.tfevents\n",
      "from-idea-to-prod/xgboost/output/from-idea-to-prod-training-2023-06-18-09-00-49-889/debug-output/events/000000000020/000000000020_worker_0.tfevents\n",
      "from-idea-to-prod/xgboost/output/from-idea-to-prod-training-2023-06-18-09-00-49-889/debug-output/index/000000000/000000000000_worker_0.json\n",
      "from-idea-to-prod/xgboost/output/from-idea-to-prod-training-2023-06-18-09-00-49-889/debug-output/index/000000000/000000000010_worker_0.json\n",
      "from-idea-to-prod/xgboost/output/from-idea-to-prod-training-2023-06-18-09-00-49-889/debug-output/index/000000000/000000000020_worker_0.json\n",
      "from-idea-to-prod/xgboost/output/from-idea-to-prod-training-2023-06-18-09-00-49-889/debug-output/training_job_end.ts\n",
      "from-idea-to-prod/xgboost/output/from-idea-to-prod-training-2023-06-18-09-00-49-889/output/model.tar.gz\n",
      "from-idea-to-prod/xgboost/output/from-idea-to-prod-training-2023-06-18-09-00-49-889/profiler-output/framework/training_job_end.ts\n",
      "from-idea-to-prod/xgboost/output/from-idea-to-prod-training-2023-06-18-09-00-49-889/profiler-output/system/incremental/2023061809/1687078920.algo-1.json\n",
      "from-idea-to-prod/xgboost/output/from-idea-to-prod-training-2023-06-18-09-00-49-889/profiler-output/system/incremental/2023061809/1687078980.algo-1.json\n",
      "from-idea-to-prod/xgboost/output/from-idea-to-prod-training-2023-06-18-09-00-49-889/profiler-output/system/training_job_end.ts\n",
      "from-idea-to-prod/xgboost/output/from-idea-to-prod-training-2023-06-19-09-32-20-644/debug-output/claim.smd\n",
      "from-idea-to-prod/xgboost/output/from-idea-to-prod-training-2023-06-19-09-32-20-644/debug-output/collections/000000000/worker_0_collections.json\n",
      "from-idea-to-prod/xgboost/output/from-idea-to-prod-training-2023-06-19-09-32-20-644/debug-output/events/000000000000/000000000000_worker_0.tfevents\n",
      "from-idea-to-prod/xgboost/output/from-idea-to-prod-training-2023-06-19-09-32-20-644/debug-output/events/000000000010/000000000010_worker_0.tfevents\n",
      "from-idea-to-prod/xgboost/output/from-idea-to-prod-training-2023-06-19-09-32-20-644/debug-output/events/000000000020/000000000020_worker_0.tfevents\n",
      "from-idea-to-prod/xgboost/output/from-idea-to-prod-training-2023-06-19-09-32-20-644/debug-output/index/000000000/000000000000_worker_0.json\n",
      "from-idea-to-prod/xgboost/output/from-idea-to-prod-training-2023-06-19-09-32-20-644/debug-output/index/000000000/000000000010_worker_0.json\n",
      "from-idea-to-prod/xgboost/output/from-idea-to-prod-training-2023-06-19-09-32-20-644/debug-output/index/000000000/000000000020_worker_0.json\n",
      "from-idea-to-prod/xgboost/output/from-idea-to-prod-training-2023-06-19-09-32-20-644/debug-output/training_job_end.ts\n",
      "from-idea-to-prod/xgboost/output/from-idea-to-prod-training-2023-06-19-09-32-20-644/output/model.tar.gz\n",
      "from-idea-to-prod/xgboost/output/from-idea-to-prod-training-2023-06-19-09-32-20-644/profiler-output/framework/training_job_end.ts\n",
      "from-idea-to-prod/xgboost/output/from-idea-to-prod-training-2023-06-19-09-32-20-644/profiler-output/system/incremental/2023061909/1687167180.algo-1.json\n",
      "from-idea-to-prod/xgboost/output/from-idea-to-prod-training-2023-06-19-09-32-20-644/profiler-output/system/incremental/2023061909/1687167240.algo-1.json\n",
      "from-idea-to-prod/xgboost/output/from-idea-to-prod-training-2023-06-19-09-32-20-644/profiler-output/system/training_job_end.ts\n",
      "from-idea-to-prod/xgboost/output/pipelines-zcwjjqgvanqt-from-idea-to-prod-pi-KH62yEKMcX/debug-output/training_job_end.ts\n",
      "from-idea-to-prod/xgboost/output/pipelines-zcwjjqgvanqt-from-idea-to-prod-pi-KH62yEKMcX/profiler-output/framework/training_job_end.ts\n",
      "from-idea-to-prod/xgboost/output/pipelines-zcwjjqgvanqt-from-idea-to-prod-pi-KH62yEKMcX/profiler-output/system/incremental/2023062205/1687412280.algo-1.json\n",
      "from-idea-to-prod/xgboost/output/pipelines-zcwjjqgvanqt-from-idea-to-prod-pi-KH62yEKMcX/profiler-output/system/incremental/2023062205/1687412340.algo-1.json\n",
      "from-idea-to-prod/xgboost/output/pipelines-zcwjjqgvanqt-from-idea-to-prod-pi-KH62yEKMcX/profiler-output/system/training_job_end.ts\n",
      "from-idea-to-prod/xgboost/test/test_x.csv\n",
      "from-idea-to-prod/xgboost/test/test_y.csv\n",
      "from-idea-to-prod/xgboost/train/train.csv\n",
      "from-idea-to-prod/xgboost/transform/test_x.csv.out\n",
      "from-idea-to-prod/xgboost/validation/validation.csv\n",
      "input/Plant_1_Generation_Data.csv\n",
      "input/Plant_1_Weather_Sensor_Data.csv\n",
      "input/Plant_2_Generation_Data.csv\n",
      "input/Plant_2_Weather_Sensor_Data.csv\n",
      "input/combined_plant.csv\n",
      "output_1686746059/manifest/data_wrangler_output.manifest\n",
      "output_1686746059/part-00000-903a061c-1e06-490a-8bc2-32bd251627da-c000.csv\n",
      "output_1686746059/part-00001-903a061c-1e06-490a-8bc2-32bd251627da-c000.csv\n",
      "output_1686746059/part-00002-903a061c-1e06-490a-8bc2-32bd251627da-c000.csv\n",
      "output_1686746059/part-00003-903a061c-1e06-490a-8bc2-32bd251627da-c000.csv\n",
      "output_1686746059/part-00004-903a061c-1e06-490a-8bc2-32bd251627da-c000.csv\n",
      "output_1686746059/part-00005-903a061c-1e06-490a-8bc2-32bd251627da-c000.csv\n",
      "output_1686746059/part-00006-903a061c-1e06-490a-8bc2-32bd251627da-c000.csv\n",
      "output_1686746059/part-00007-903a061c-1e06-490a-8bc2-32bd251627da-c000.csv\n",
      "output_1686746059/part-00008-903a061c-1e06-490a-8bc2-32bd251627da-c000.csv\n",
      "output_1686746059/part-00009-903a061c-1e06-490a-8bc2-32bd251627da-c000.csv\n",
      "output_1686746059/part-00010-903a061c-1e06-490a-8bc2-32bd251627da-c000.csv\n",
      "output_1686746059/part-00011-903a061c-1e06-490a-8bc2-32bd251627da-c000.csv\n",
      "output_1686746059/part-00012-903a061c-1e06-490a-8bc2-32bd251627da-c000.csv\n",
      "output_1686746059/part-00013-903a061c-1e06-490a-8bc2-32bd251627da-c000.csv\n",
      "output_1686746059/part-00014-903a061c-1e06-490a-8bc2-32bd251627da-c000.csv\n",
      "output_1686746059/part-00015-903a061c-1e06-490a-8bc2-32bd251627da-c000.csv\n",
      "solar1-pipeline/evaluate-2023-06-25-04-08-53-987/input/code/evaluation.py\n",
      "solar1-pipeline/evaluate-2023-06-25-04-43-37-223/input/code/evaluation.py\n",
      "spark_configuration/data-wrangler-flow-processing-14-12-29-50-e8bb72d9/configuration.json\n",
      "spark_configuration/data-wrangler-flow-processing-14-12-38-43-460612f2/configuration.json\n",
      "spark_configuration/data-wrangler-flow-processing-14-12-45-57-5939457d/configuration.json\n",
      "spark_configuration/data-wrangler-flow-processing-14-12-49-54-d2d85472/configuration.json\n",
      "spark_configuration/data-wrangler-flow-processing-14-12-54-40-0796832a/configuration.json\n",
      "spark_configuration/data-wrangler-flow-processing-14-12-56-17-9240e320/configuration.json\n",
      "spark_configuration/data-wrangler-flow-processing-14-13-27-29-f759f74a/configuration.json\n",
      "spark_configuration/data-wrangler-flow-processing-14-13-29-52-97d7fb42/configuration.json\n",
      "trial-component-artifacts/from-idea-to-prod-experiment-18-07-41-20-batch-transform-2023-06-57-56/confusion-matrix-2023-06-02-55.json\n",
      "trial-component-artifacts/from-idea-to-prod-experiment-18-07-41-20-batch-transform-2023-06-57-56/precision-recall-2023-06-02-55.json\n",
      "trial-component-artifacts/from-idea-to-prod-experiment-18-07-41-20-batch-transform-2023-06-57-56/roc-curve2-2023-06-02-55.json\n",
      "trial-component-artifacts/from-idea-to-prod-experiment-19-09-26-44-batch-transform-2023-06-37-31/confusion-matrix-2023-06-42-30.json\n",
      "trial-component-artifacts/from-idea-to-prod-experiment-19-09-26-44-batch-transform-2023-06-37-31/precision-recall-2023-06-42-30.json\n",
      "trial-component-artifacts/from-idea-to-prod-experiment-19-09-26-44-batch-transform-2023-06-37-31/roc-curve2-2023-06-42-30.json\n",
      "your-prefix/bank-additional-full.csv\n"
     ]
    }
   ],
   "source": [
    "#check all file name in s3\n",
    "\n",
    "response = s3.list_objects_v2(Bucket=bucket_name)\n",
    "\n",
    "if 'Contents' in response:\n",
    "    print(f\"Files in {bucket_name}:\")\n",
    "    for obj in response['Contents']:\n",
    "        file_name = obj['Key']\n",
    "        print(file_name)\n",
    "else:\n",
    "    print(f\"No files found in {bucket_name}\")"
   ]
  },
  {
   "cell_type": "markdown",
   "id": "cd941676-a844-47df-8d32-653ac2def6c4",
   "metadata": {},
   "source": [
    "## Create pipeline\n",
    "### Setup pipeline parameters"
   ]
  },
  {
   "cell_type": "code",
   "execution_count": 89,
   "id": "8713d926-5a17-4c83-9700-570e0d5c2d0f",
   "metadata": {
    "tags": []
   },
   "outputs": [
    {
     "ename": "NameError",
     "evalue": "name 'input_s3_url_gen1' is not defined",
     "output_type": "error",
     "traceback": [
      "\u001b[0;31m---------------------------------------------------------------------------\u001b[0m",
      "\u001b[0;31mNameError\u001b[0m                                 Traceback (most recent call last)",
      "\u001b[0;32m<ipython-input-89-2ec24b7d060b>\u001b[0m in \u001b[0;36m<module>\u001b[0;34m\u001b[0m\n\u001b[1;32m     32\u001b[0m input_s3_url_param_g1 = ParameterString(\n\u001b[1;32m     33\u001b[0m     \u001b[0mname\u001b[0m\u001b[0;34m=\u001b[0m\u001b[0;34m\"InputDataUrgen1\"\u001b[0m\u001b[0;34m,\u001b[0m\u001b[0;34m\u001b[0m\u001b[0;34m\u001b[0m\u001b[0m\n\u001b[0;32m---> 34\u001b[0;31m     \u001b[0mdefault_value\u001b[0m\u001b[0;34m=\u001b[0m\u001b[0minput_s3_url_gen1\u001b[0m\u001b[0;34m,\u001b[0m\u001b[0;34m\u001b[0m\u001b[0;34m\u001b[0m\u001b[0m\n\u001b[0m\u001b[1;32m     35\u001b[0m )\n\u001b[1;32m     36\u001b[0m \u001b[0;34m\u001b[0m\u001b[0m\n",
      "\u001b[0;31mNameError\u001b[0m: name 'input_s3_url_gen1' is not defined"
     ]
    }
   ],
   "source": [
    "# Set processing instance type\n",
    "process_instance_type_param = ParameterString(\n",
    "    name=\"ProcessingInstanceType\",\n",
    "    default_value=process_instance_type,\n",
    ")\n",
    "\n",
    "# Set training instance type\n",
    "train_instance_type_param = ParameterString(\n",
    "    name=\"TrainingInstanceType\",\n",
    "    default_value=train_instance_type,\n",
    ")\n",
    "\n",
    "# Set training instance count\n",
    "train_instance_count_param = ParameterInteger(\n",
    "    name=\"TrainingInstanceCount\",\n",
    "    default_value=train_instance_count\n",
    ")\n",
    "\n",
    "# Set model approval param\n",
    "model_approval_status_param = ParameterString(\n",
    "    name=\"ModelApprovalStatus\",\n",
    "    default_value=\"PendingManualApproval\"\n",
    ")\n",
    "\n",
    "# Minimal threshold for model performance on the test dataset\n",
    "test_score_threshold_param = ParameterFloat(\n",
    "    name=\"TestScoreThreshold\", \n",
    "    default_value=0.75\n",
    ")\n",
    "\n",
    "# Set S3 url for input dataset\n",
    "input_s3_url_param_g1 = ParameterString(\n",
    "    name=\"InputDataUrgen1\",\n",
    "    default_value=input_s3_url_gen1,\n",
    ")\n",
    "\n",
    "input_s3_url_param_g2 = ParameterString(\n",
    "    name=\"InputDataUrgen2\",\n",
    "    default_value=input_s3_url_gen2,\n",
    ")\n",
    "\n",
    "input_s3_url_param_w1= ParameterString(\n",
    "    name=\"InputDataUrweather1\",\n",
    "    default_value=input_s3_url_weather1,\n",
    ")\n",
    "\n",
    "input_s3_url_param_w2 = ParameterString(\n",
    "    name=\"InputDataUrweather2\",\n",
    "    default_value=input_s3_url_weather2,\n",
    ")"
   ]
  },
  {
   "cell_type": "markdown",
   "id": "40ce632e-03a0-4933-b148-e7a65c644117",
   "metadata": {},
   "source": [
    "### Build the pipeline steps\n"
   ]
  },
  {
   "cell_type": "code",
   "execution_count": null,
   "id": "85338988-5ea4-4053-9890-b411abc13d90",
   "metadata": {
    "tags": []
   },
   "outputs": [],
   "source": [
    "session = PipelineSession()"
   ]
  },
  {
   "cell_type": "markdown",
   "id": "d1acef9d-1538-4c33-8cc5-1c5a891f9392",
   "metadata": {},
   "source": [
    "#### Processing step"
   ]
  },
  {
   "cell_type": "code",
   "execution_count": null,
   "id": "26d711fb-2a44-4a25-bc53-ad996981ba8e",
   "metadata": {
    "tags": []
   },
   "outputs": [],
   "source": [
    "df_weather1.columns"
   ]
  },
  {
   "cell_type": "code",
   "execution_count": null,
   "id": "4e00df48-a510-4a26-bf49-0a8ffab4ce0e",
   "metadata": {
    "tags": []
   },
   "outputs": [],
   "source": [
    "df_gen1.columns"
   ]
  },
  {
   "cell_type": "code",
   "execution_count": null,
   "id": "f79ddaf8-a0e4-4cc8-a412-aaf178fd381f",
   "metadata": {
    "tags": []
   },
   "outputs": [],
   "source": [
    "session = PipelineSession()"
   ]
  },
  {
   "cell_type": "code",
   "execution_count": null,
   "id": "a0729c40-50bc-4582-be7a-1e66dda57cfb",
   "metadata": {
    "tags": []
   },
   "outputs": [],
   "source": [
    "%%writefile preprocessing.py\n",
    "\n",
    "import pandas as pd\n",
    "import numpy as np\n",
    "import argparse\n",
    "import os\n",
    "\n",
    "def _parse_args():\n",
    "    \n",
    "    parser = argparse.ArgumentParser()\n",
    "    # Data, model, and output directories\n",
    "    # model_dir is always passed in from SageMaker. By default, this is an S3 path under the default bucket.\n",
    "    parser.add_argument('--filepath', type=str, default='/opt/ml/processing/input/')\n",
    "    parser.add_argument('--filename', type=str, default='input')\n",
    "    parser.add_argument('--outputpath', type=str, default='/opt/ml/processing/output/')\n",
    "    \n",
    "    return parser.parse_known_args()\n",
    "\n",
    "\n",
    "if __name__==\"__main__\":\n",
    "    # Process arguments\n",
    "    args, _ = _parse_args()\n",
    "    \n",
    "    target_col = \"DC_POWER\"\n",
    "    \n",
    "    # adding separate time and date columns\n",
    "    combined_plant[\"DATE\"] = pd.to_datetime(combined_plant[\"DATE_TIME\"]).dt.date # add new column with date\n",
    "    combined_plant[\"TIME\"] = pd.to_datetime(combined_plant[\"DATE_TIME\"]).dt.time # add new column with time\n",
    "    combined_plant[\"MONTH\"] = pd.to_datetime(combined_plant[\"DATE_TIME\"]).dt.month # add new column with month\n",
    "\n",
    "    # add hours and minutes for ml models\n",
    "    combined_plant['HOURS'] = pd.to_datetime(combined_plant['TIME'],format='%H:%M:%S').dt.hour\n",
    "    combined_plant['MINUTES'] = pd.to_datetime(combined_plant['TIME'],format='%H:%M:%S').dt.minute\n",
    "    combined_plant['MINUTES_PASS'] = combined_plant['MINUTES'] + combined_plant['HOURS']*60\n",
    "\n",
    "    \n",
    "    # Drop unnecessary columns and merge dataframes\n",
    "    df_plant1 = pd.merge(\n",
    "        df_gen1.drop(columns=['PLANT_ID','AC_POWER','DAILY_YIELD']),\n",
    "        df_weather1.drop(columns=['PLANT_ID', 'SOURCE_KEY']),\n",
    "        on='DATE_TIME'\n",
    "    )\n",
    "    \n",
    "    df_plant2 = pd.merge(\n",
    "        df_gen2.drop(columns=['PLANT_ID','AC_POWER','DAILY_YIELD']),\n",
    "        df_weather2.drop(columns=['PLANT_ID', 'SOURCE_KEY']),\n",
    "        on='DATE_TIME'\n",
    "    )\n",
    "    \n",
    "    combined_plant = pd.concat([df_plant1, df_plant2])\n",
    "    \n",
    "    # adding separate time and date columns\n",
    "    combined_plant[\"DATE\"] = pd.to_datetime(combined_plant[\"DATE_TIME\"]).dt.date # add new column with date\n",
    "    combined_plant[\"TIME\"] = pd.to_datetime(combined_plant[\"DATE_TIME\"]).dt.time # add new column with time\n",
    "\n",
    "    # add hours and minutes for ml models\n",
    "    combined_plant['HOURS'] = pd.to_datetime(combined_plant['TIME'],format='%H:%M:%S').dt.hour\n",
    "    combined_plant['MINUTES'] = pd.to_datetime(combined_plant['TIME'],format='%H:%M:%S').dt.minute\n",
    "    combined_plant['MINUTES_PASS'] = df_plant1['MINUTES'] + combined_plant['HOURS']*60\n",
    "\n",
    "    data_folder = \"/data\"  # Specify the data folder path\n",
    "\n",
    "    # Check if the data folder exists; if not, create it\n",
    "    if not os.path.exists(data_folder):\n",
    "        os.makedirs(data_folder)\n",
    "\n",
    "    combined_plant_file = os.path.join(data_folder, \"combined_plant.csv\")\n",
    "\n",
    "    combined_plant.to_csv(combined_plant_file, index=False)\n",
    "    print(f\"combined_plant.csv saved to {combined_plant_file}\")\n",
    "    \n",
    "    # Shuffle and split the dataset\n",
    "    train_data, validation_data, test_data = np.split(\n",
    "        combined_plant.sample(frac=1, random_state=1729),\n",
    "        [int(0.7 * len(df_plant)), int(0.9 * len(df_plant))],\n",
    "    )\n",
    "\n",
    "    print(f\"Data split > train:{train_data.shape} | validation:{validation_data.shape} | test:{test_data.shape}\")\n",
    "    \n",
    "    # Save datasets locally\n",
    "    train_data.to_csv(os.path.join(args.outputpath, 'train/train.csv'), index=False, header=False)\n",
    "    validation_data.to_csv(os.path.join(args.outputpath, 'validation/validation.csv'), index=False, header=False)\n",
    "    test_data[target_col].to_csv(os.path.join(args.outputpath, 'test/test_y.csv'), index=False, header=False)\n",
    "    test_data.drop([target_col], axis=1).to_csv(os.path.join(args.outputpath, 'test/test_x.csv'), index=False, header=False)\n",
    "\n",
    "\n",
    "    # Save the baseline dataset for model monitoring\n",
    "    combined_plant.drop([target_col], axis=1).to_csv(os.path.join(args.outputpath, 'baseline/baseline.csv'), index=False, header=False)\n",
    "    \n",
    "    print(\"## Processing complete. Exiting.\")\n"
   ]
  },
  {
   "cell_type": "code",
   "execution_count": 90,
   "id": "faf7aeaa-0435-4f64-bdd3-fa7a920a5a01",
   "metadata": {
    "tags": []
   },
   "outputs": [
    {
     "name": "stdout",
     "output_type": "stream",
     "text": [
      "File saved successfully.\n"
     ]
    }
   ],
   "source": [
    "df_gen1 = pd.read_csv(os.path.join(\"data\", 'Plant_1_Generation_Data.csv'))\n",
    "df_gen2 = pd.read_csv(os.path.join(\"data\", 'Plant_2_Generation_Data.csv'))\n",
    "df_weather1 = pd.read_csv(os.path.join(\"data\", 'Plant_1_Weather_Sensor_Data.csv'))\n",
    "df_weather2 = pd.read_csv(os.path.join(\"data\", 'Plant_2_Weather_Sensor_Data.csv'))\n",
    "\n",
    "# Adjust datetime format\n",
    "df_gen1['DATE_TIME'] = pd.to_datetime(df_gen1['DATE_TIME'])\n",
    "df_weather1['DATE_TIME'] = pd.to_datetime(df_weather1['DATE_TIME'])\n",
    "df_gen2['DATE_TIME'] = pd.to_datetime(df_gen2['DATE_TIME'])\n",
    "df_weather2['DATE_TIME'] = pd.to_datetime(df_weather2['DATE_TIME'])\n",
    "\n",
    "# Drop unnecessary columns and merge dataframes\n",
    "df_plant1 = pd.merge(\n",
    "    df_gen1.drop(columns=['PLANT_ID','AC_POWER','DAILY_YIELD']),\n",
    "    df_weather1.drop(columns=['PLANT_ID', 'SOURCE_KEY']),\n",
    "    on='DATE_TIME'\n",
    ")\n",
    "\n",
    "df_plant2 = pd.merge(\n",
    "    df_gen2.drop(columns=['PLANT_ID','AC_POWER','DAILY_YIELD']),\n",
    "    df_weather2.drop(columns=['PLANT_ID', 'SOURCE_KEY']),\n",
    "    on='DATE_TIME'\n",
    ")\n",
    "\n",
    "combined_plant = pd.concat([df_plant1, df_plant2])\n",
    "\n",
    "# adding separate time and date columns\n",
    "combined_plant[\"DATE\"] = pd.to_datetime(combined_plant[\"DATE_TIME\"]).dt.date # add new column with date\n",
    "combined_plant[\"TIME\"] = pd.to_datetime(combined_plant[\"DATE_TIME\"]).dt.time # add new column with time\n",
    "combined_plant[\"MONTH\"] = pd.to_datetime(combined_plant[\"DATE_TIME\"]).dt.month # add new column with month\n",
    "\n",
    "# add hours and minutes for ml models\n",
    "combined_plant['HOURS'] = pd.to_datetime(combined_plant['TIME'],format='%H:%M:%S').dt.hour\n",
    "combined_plant['MINUTES'] = pd.to_datetime(combined_plant['TIME'],format='%H:%M:%S').dt.minute\n",
    "combined_plant['MINUTES_PASS'] = combined_plant['MINUTES'] + combined_plant['HOURS']*60\n",
    "\n",
    "\n",
    "data_folder = \"data\"  # Specify the data folder path\n",
    "\n",
    "# Define the file path\n",
    "file_path = os.path.join(data_folder, \"combined_plant.csv\")\n",
    "\n",
    "combined_plant.to_csv(file_path, index=False)\n",
    "print(\"File saved successfully.\")"
   ]
  },
  {
   "cell_type": "code",
   "execution_count": 91,
   "id": "0667e98e-257d-4a02-b640-0817d7c2727c",
   "metadata": {
    "tags": []
   },
   "outputs": [
    {
     "data": {
      "application/vnd.jupyter.widget-view+json": {
       "model_id": "eed3cdceca75459c87341f2b0bcf17bf"
      },
      "text/plain": [
       "   DATE_TIME       SOURCE_KEY  DC_POWER  TOTAL_YIELD  AMBIENT_TEMPERATURE  \\\n",
       "0 2020-05-15  1BY6WEcLGh8j5v7       0.0    6259559.0            25.184316   \n",
       "1 2020-05-15  1IF53ai7Xc0U56Y       0.0    6183645.0            25.184316   \n",
       "2 2020-05-15  3PZuoBAID5Wc2HD       0.0    6987759.0            25.184316   \n",
       "3 2020-05-15  7JYdWkrLSPkdwr4       0.0    7602960.0            25.184316   \n",
       "4 2020-05-15  McdE0feGgRqW7Ca       0.0    7158964.0            25.184316   \n",
       "\n",
       "   MODULE_TEMPERATURE  IRRADIATION        DATE      TIME  MONTH  HOURS  \\\n",
       "0           22.857507          0.0  2020-05-15  00:00:00      5      0   \n",
       "1           22.857507          0.0  2020-05-15  00:00:00      5      0   \n",
       "2           22.857507          0.0  2020-05-15  00:00:00      5      0   \n",
       "3           22.857507          0.0  2020-05-15  00:00:00      5      0   \n",
       "4           22.857507          0.0  2020-05-15  00:00:00      5      0   \n",
       "\n",
       "   MINUTES  MINUTES_PASS  \n",
       "0        0             0  \n",
       "1        0             0  \n",
       "2        0             0  \n",
       "3        0             0  \n",
       "4        0             0  "
      ]
     },
     "metadata": {},
     "output_type": "display_data"
    }
   ],
   "source": [
    "combined_plant.head()\\"
   ]
  },
  {
   "cell_type": "code",
   "execution_count": null,
   "id": "2ddc2e07-d2ed-4281-97ed-b2e36debd186",
   "metadata": {
    "tags": []
   },
   "outputs": [],
   "source": [
    "s3 = boto3.client('s3')\n",
    "\n",
    "# Check if the file exists\n",
    "if os.path.isfile(file_path):\n",
    "    # Upload the file to S3\n",
    "    s3.upload_file(file_path, bucket_name, \"input/combined_plant.csv\")\n",
    "    print('File uploaded successfully.')\n",
    "else:\n",
    "    print('File does not exist.')\n",
    "\n",
    "# Upload Plant_1_Generation_Data.csv\n",
    "s3.upload_file(file_path, bucket_name, \"input/combined_plant.csv\")\n",
    "print('File uploaded successfully.')"
   ]
  },
  {
   "cell_type": "markdown",
   "id": "1f7fdb83-6161-4134-8968-cda2278740c9",
   "metadata": {
    "tags": []
   },
   "source": [
    "# !python preprocessing.py"
   ]
  },
  {
   "cell_type": "code",
   "execution_count": null,
   "id": "0d2f660e-683a-4463-bf93-d3b6f85e808d",
   "metadata": {},
   "outputs": [],
   "source": [
    "# This cell is tagged with `parameters` tag and will be overwritten if the notebook executed headlessly\n",
    "file_source = \"EFS\"\n",
    "file_name = \"bank-additional-full.csv\"\n",
    "input_path = \"./data/bank-additional\" \n",
    "output_path = \"./data\""
   ]
  },
  {
   "cell_type": "code",
   "execution_count": null,
   "id": "e69efb00-739a-4f97-85af-d6f5da2cf85c",
   "metadata": {
    "tags": []
   },
   "outputs": [],
   "source": [
    "# filename = \"baseline.csv\"\n",
    "\n",
    "# # If running interactively, upload data to S3 to have it here for a headless run\n",
    "# if file_source == 'EFS':\n",
    "#     input_s3_url = session.upload_data(\n",
    "#         path=os.path.join(input_path, file_name),\n",
    "#         bucket=bucket_name,\n",
    "#         key_prefix=f\"{bucket_prefix}/input\"\n",
    "#     )\n",
    "    \n",
    "#     print(input_s3_url)"
   ]
  },
  {
   "cell_type": "code",
   "execution_count": 92,
   "id": "f2336580-dcc6-48de-a021-ecff6440a8cf",
   "metadata": {
    "tags": []
   },
   "outputs": [
    {
     "name": "stdout",
     "output_type": "stream",
     "text": [
      "Stored 'experiment_name' (str)\n"
     ]
    }
   ],
   "source": [
    "experiment_name = f\"Solar-Power-experiment-{strftime('%d-%H-%M-%S', gmtime())}\"\n",
    "%store experiment_name"
   ]
  },
  {
   "cell_type": "code",
   "execution_count": 93,
   "id": "b6a7c6e3-a64e-4643-bc6e-45da7c55945d",
   "metadata": {
    "tags": []
   },
   "outputs": [
    {
     "data": {
      "text/plain": [
       "'Solar-Power-experiment-25-10-00-09'"
      ]
     },
     "execution_count": 93,
     "metadata": {},
     "output_type": "execute_result"
    }
   ],
   "source": [
    "experiment_name"
   ]
  },
  {
   "cell_type": "code",
   "execution_count": null,
   "id": "19d3fede-8995-458a-9880-0e69b1dea719",
   "metadata": {
    "tags": []
   },
   "outputs": [],
   "source": [
    "# Create SKLearnProcessor\n",
    "sklearn_processor = SKLearnProcessor(\n",
    "    framework_version=\"0.23-1\",\n",
    "    role=sm_role,\n",
    "    instance_type=process_instance_type_param.default_value,\n",
    "    instance_count=1,\n",
    "    base_job_name=f\"{pipeline_name}/preprocess\",\n",
    "    sagemaker_session=session,\n",
    ")\n",
    "\n",
    "\n",
    "# Define processing inputs\n",
    "processing_inputs = [\n",
    "    ProcessingInput(source=input_s3_url_param_g1, destination=\"/opt/ml/processing/input\"),\n",
    "    ProcessingInput(source=input_s3_url_param_g2, destination=\"/opt/ml/processing/input\"),\n",
    "    ProcessingInput(source=input_s3_url_param_w1, destination=\"/opt/ml/processing/input\"),\n",
    "    ProcessingInput(source=input_s3_url_param_w2, destination=\"/opt/ml/processing/input\"),\n",
    "]\n",
    "\n",
    "# Define processing outputs\n",
    "processing_outputs = [\n",
    "    ProcessingOutput(output_name=\"train_data\", source=\"/opt/ml/processing/output/train\", destination=train_s3_url),\n",
    "    ProcessingOutput(output_name=\"validation_data\", source=\"/opt/ml/processing/output/validation\", destination=validation_s3_url),\n",
    "    ProcessingOutput(output_name=\"test_data\", source=\"/opt/ml/processing/output/test\", destination=test_s3_url),\n",
    "    ProcessingOutput(output_name=\"baseline_data\", source=\"/opt/ml/processing/output/baseline\", destination=baseline_s3_url),\n",
    "]\n",
    "\n",
    "# Run the SKLearnProcessor\n",
    "processor_args = sklearn_processor.run(\n",
    "    inputs=processing_inputs,\n",
    "    outputs=processing_outputs,\n",
    "    code='preprocessing.py',\n",
    "    # arguments = ['arg1', 'arg2'],\n",
    ")\n",
    "\n",
    "# Define processing step\n",
    "step_process = ProcessingStep(\n",
    "    name=f\"{pipeline_name}-preprocess-data\",\n",
    "    step_args=processor_args,\n",
    ")\n"
   ]
  },
  {
   "cell_type": "markdown",
   "id": "85447535-3c81-44f8-8ab9-d4e577ce0b0e",
   "metadata": {},
   "source": [
    "# If running interactively, upload data to S3 to have it here for a headless run\n",
    "if file_source == 'EFS':\n",
    "    input_s3_url = session.upload_data(\n",
    "        path=os.path.join(input_path, file_name),\n",
    "        bucket=bucket_name,\n",
    "        key_prefix=f\"{bucket_prefix}/input\"\n",
    "    )\n",
    "    \n",
    "    print(input_s3_url)#### Training step"
   ]
  },
  {
   "cell_type": "code",
   "execution_count": null,
   "id": "d5fd44b0-bba3-4fd3-9ac0-9e3084c0a343",
   "metadata": {
    "tags": []
   },
   "outputs": [],
   "source": [
    "LinearRegression_image_uri = sagemaker.image_uris.retrieve(framework='linear-learner',region=region)"
   ]
  },
  {
   "cell_type": "code",
   "execution_count": null,
   "id": "126939a1-d7e4-4438-8218-5618d539f8b5",
   "metadata": {
    "tags": []
   },
   "outputs": [],
   "source": [
    "# Instantiate a Linear Learner estimator object\n",
    "estimator = Estimator(\n",
    "    image_uri=LinearRegression_image_uri,\n",
    "    role=get_execution_role(),\n",
    "    instance_type=train_instance_type_param,\n",
    "    instance_count=train_instance_count_param,\n",
    "    output_path=output_s3_url,\n",
    "    sagemaker_session=session,\n",
    "    base_job_name=f\"{pipeline_name}/train\",\n",
    ")\n",
    "\n",
    "# Define algorithm hyperparameters\n",
    "estimator.set_hyperparameters(\n",
    "    predictor_type='regressor',  # Set the predictor type to 'regressor' for linear regression\n",
    "    feature_dim=5,  # Specify the number of input features\n",
    "    epochs=100,  # Number of training epochs\n",
    "    mini_batch_size=32,  # Mini-batch size for training\n",
    "    learning_rate=0.1,  # Learning rate for the optimizer\n",
    "    normalize_data='true',  # Normalize the input features\n",
    "    loss='squared_loss',  # Loss function for linear regression\n",
    "    early_stopping_patience=10,  # Patience for early stopping\n",
    "    early_stopping_tolerance=0.001,  # Tolerance for early stopping\n",
    "    early_stopping_enabled=True,  # Enable early stopping\n",
    ")\n",
    "\n",
    "# Define training inputs\n",
    "training_inputs = {\n",
    "    \"train\": TrainingInput(\n",
    "        s3_data=step_process.properties.ProcessingOutputConfig.Outputs[\"train_data\"].S3Output.S3Uri,\n",
    "        content_type=\"text/csv\",\n",
    "    ),\n",
    "    \"validation\": TrainingInput(\n",
    "        s3_data=step_process.properties.ProcessingOutputConfig.Outputs[\"validation_data\"].S3Output.S3Uri,\n",
    "        content_type=\"text/csv\",\n",
    "    ),\n",
    "}\n",
    "\n",
    "# Fit the estimator to the training data\n",
    "training_args = estimator.fit(training_inputs)\n",
    "\n",
    "# Define the training step\n",
    "step_train = TrainingStep(\n",
    "    name=f\"{pipeline_name}-train\",\n",
    "    step_args=training_args,\n",
    ")\n"
   ]
  },
  {
   "cell_type": "markdown",
   "id": "81d6f3bb-3380-4b6f-a054-6119d632b4e0",
   "metadata": {},
   "source": [
    "#### Evaluation step\n",
    "Create a model evaluation script to check if the model performance meets the specified threshold. "
   ]
  },
  {
   "cell_type": "code",
   "execution_count": null,
   "id": "ab82e80d-9018-4846-b389-d7739af736da",
   "metadata": {
    "tags": []
   },
   "outputs": [],
   "source": [
    "# Set processing instance type\n",
    "process_instance_type_param = ParameterString(\n",
    "    name=\"ProcessingInstanceType\",\n",
    "    default_value=process_instance_type,\n",
    ")\n",
    "\n",
    "# Set training instance type\n",
    "train_instance_type_param = ParameterString(\n",
    "    name=\"TrainingInstanceType\",\n",
    "    default_value=train_instance_type,\n",
    ")\n",
    "\n",
    "# Set training instance count\n",
    "train_instance_count_param = ParameterInteger(\n",
    "    name=\"TrainingInstanceCount\",\n",
    "    default_value=train_instance_count\n",
    ")\n",
    "\n",
    "# Set model approval param\n",
    "model_approval_status_param = ParameterString(\n",
    "    name=\"ModelApprovalStatus\",\n",
    "    default_value=\"PendingManualApproval\"\n",
    ")\n",
    "\n",
    "# Minimal threshold for model performance on the test dataset\n",
    "test_score_threshold_param = ParameterFloat(\n",
    "    name=\"TestScoreThreshold\", \n",
    "    default_value=0.75\n",
    ")\n",
    "\n",
    "# Set S3 url for input dataset\n",
    "input_s3_url_param = ParameterString(\n",
    "    name=\"InputDataUrl\",\n",
    "    default_value=input_s3_url,\n",
    ")"
   ]
  },
  {
   "cell_type": "code",
   "execution_count": null,
   "id": "2c806049-c7b7-4225-8706-b3a59a862481",
   "metadata": {
    "tags": []
   },
   "outputs": [],
   "source": [
    "%%writefile evaluation.py\n",
    "\n",
    "import xgboost as xgb\n",
    "from sklearn.metrics import mean_squared_error, r2_score\n",
    "\n",
    "if __name__ == \"__main__\":   \n",
    "    \n",
    "    # All paths are local for the processing container\n",
    "    model_path = \"/opt/ml/processing/model/model.tar.gz\"\n",
    "    test_x_path = \"/opt/ml/processing/test/test_x.csv\"\n",
    "    test_y_path = \"/opt/ml/processing/test/test_y.csv\"\n",
    "    output_dir = \"/opt/ml/processing/evaluation\"\n",
    "    output_prediction_path = \"/opt/ml/processing/output/\"\n",
    "        \n",
    "    # Read model tar file\n",
    "    with tarfile.open(model_path, \"r:gz\") as t:\n",
    "        t.extractall(path=\".\")\n",
    "    \n",
    "    # Load model\n",
    "    model = linear.Booster()\n",
    "    model.load_model(\"linear-model\")\n",
    "    \n",
    "    # Read test data\n",
    "    X_test = pd.read_csv(test_x_path, header=None).values\n",
    "    y_test = pd.read_csv(test_y_path, header=None).to_numpy()\n",
    "\n",
    "    # Run predictions\n",
    "    predictions = model.predict(X_test)\n",
    "\n",
    "    # Calculate RMSE\n",
    "    rmse = np.sqrt(mean_squared_error(y_test, predictions))\n",
    "    \n",
    "    # Calculate R2 score\n",
    "    r2 = r2_score(y_test, predictions)\n",
    "    \n",
    "    report_dict = {\n",
    "        \"regression_metrics\": {\n",
    "            \"rmse\": {\n",
    "                \"value\": rmse,\n",
    "            },\n",
    "            \"r2_score\": {\n",
    "                \"value\": r2,\n",
    "            },\n",
    "        },\n",
    "    }\n",
    "\n",
    "    # Save evaluation report\n",
    "    pathlib.Path(output_dir).mkdir(parents=True, exist_ok=True)\n",
    "    with open(f\"{output_dir}/evaluation.json\", \"w\") as f:\n",
    "        f.write(json.dumps(report_dict))\n",
    "    \n",
    "    # Save prediction baseline file - we need it later for the model quality monitoring\n",
    "    pd.DataFrame({\"prediction\": predictions,\n",
    "                  \"label\": y_test.squeeze()}\n",
    "                ).to_csv(os.path.join(output_prediction_path, 'prediction_baseline/prediction_baseline.csv'), index=False, header=True)\n"
   ]
  },
  {
   "cell_type": "markdown",
   "id": "7b39b676-6fcd-4adb-8e88-a1aa6df7ddaa",
   "metadata": {},
   "source": [
    "Create a processor to run the evaluation script and construct the evaluation step:"
   ]
  },
  {
   "cell_type": "code",
   "execution_count": null,
   "id": "1f580b00-6031-4204-a098-caa99bcefee9",
   "metadata": {
    "tags": []
   },
   "outputs": [],
   "source": [
    "# script_processor = ScriptProcessor(\n",
    "#     image_uri=LinearRegression_image_uri,\n",
    "#     role=sm_role,\n",
    "#     command=[\"python3\"],\n",
    "#     instance_type=process_instance_type_param,\n",
    "#     instance_count=1,\n",
    "#     base_job_name=f\"{pipeline_name}/evaluate\",\n",
    "#     sagemaker_session=session,\n",
    "# )\n",
    "\n",
    "# ......................."
   ]
  },
  {
   "cell_type": "code",
   "execution_count": null,
   "id": "d2e2221d-f256-4b02-99bd-763585209745",
   "metadata": {
    "tags": []
   },
   "outputs": [],
   "source": [
    "script_processor = ScriptProcessor(\n",
    "    image_uri=LinearRegression_image_uri,\n",
    "    role=sm_role,\n",
    "    command=[\"python3\"],\n",
    "    instance_type=process_instance_type_param,\n",
    "    instance_count=1,\n",
    "    base_job_name=f\"{pipeline_name}/evaluate\",\n",
    "    sagemaker_session=session,\n",
    ")\n",
    "\n",
    "eval_inputs=[\n",
    "    ProcessingInput(source=step_train.properties.ModelArtifacts.S3ModelArtifacts, \n",
    "                    destination=\"/opt/ml/processing/model\"),\n",
    "    ProcessingInput(source=step_process.properties.ProcessingOutputConfig.Outputs[\"test_data\"].S3Output.S3Uri, \n",
    "                    destination=\"/opt/ml/processing/test\"),\n",
    "]\n",
    "\n",
    "eval_outputs=[\n",
    "    ProcessingOutput(output_name=\"evaluation\", source=\"/opt/ml/processing/evaluation\", \n",
    "                     destination=evaluation_s3_url),\n",
    "    ProcessingOutput(output_name=\"prediction_baseline_data\", source=\"/opt/ml/processing/output/prediction_baseline\", \n",
    "                     destination=prediction_baseline_s3_url),\n",
    "]\n",
    "\n",
    "eval_args = script_processor.run(\n",
    "    inputs=eval_inputs,\n",
    "    outputs=eval_outputs,\n",
    "    code=\"evaluation.py\",\n",
    ")\n",
    "    \n",
    "evaluation_report = PropertyFile(\n",
    "    name=\"ModelEvaluationReport\", output_name=\"evaluation\", path=\"evaluation.json\"\n",
    ")\n",
    "\n",
    "step_eval = ProcessingStep(\n",
    "    name=f\"{pipeline_name}-evaluate-model\",\n",
    "    step_args=eval_args,\n",
    "    property_files=[evaluation_report]\n",
    ")"
   ]
  },
  {
   "cell_type": "markdown",
   "id": "a30518ca-e6b6-451e-a9cf-5ad250f78158",
   "metadata": {},
   "source": [
    "#### Register step\n",
    "The register step creates a SageMaker model and registers a new version of a model in the SageMaker Model Registry within a [model package group](https://docs.aws.amazon.com/sagemaker/latest/dg/model-registry-model-group.html)."
   ]
  },
  {
   "cell_type": "code",
   "execution_count": null,
   "id": "0a852b5a-1c58-4d3b-acd4-d4f8803a3029",
   "metadata": {
    "tags": []
   },
   "outputs": [],
   "source": [
    "# model = Model(\n",
    "#     image_uri=LinearRegression_image_uri,        \n",
    "#     model_data=step_train.properties.ModelArtifacts.S3ModelArtifacts,\n",
    "#     name=f\"Solar-energy-regression-model\",\n",
    "#     sagemaker_session=session,\n",
    "#     role=sm_role,\n",
    "# )\n",
    "\n",
    "# ...................................."
   ]
  },
  {
   "cell_type": "code",
   "execution_count": null,
   "id": "72ae1364-88f3-4bbe-8296-5db4501fd44f",
   "metadata": {
    "tags": []
   },
   "outputs": [],
   "source": [
    "model = Model(\n",
    "    image_uri=LinearRegression_image_uri,        \n",
    "    model_data=step_train.properties.ModelArtifacts.S3ModelArtifacts,\n",
    "    name=f\"from-idea-to-prod-linear-model\",\n",
    "    sagemaker_session=session,\n",
    "    role=sm_role,\n",
    ")\n",
    "\n",
    "model_metrics = ModelMetrics(\n",
    "    model_statistics=MetricsSource(\n",
    "        s3_uri=\"{}/evaluation.json\".format(\n",
    "            step_eval.arguments[\"ProcessingOutputConfig\"][\"Outputs\"][0][\"S3Output\"][\"S3Uri\"]\n",
    "        ),\n",
    "        content_type=\"application/json\",\n",
    "    )\n",
    ")\n",
    "\n",
    "register_args = model.register(\n",
    "    content_types=[\"text/csv\"],\n",
    "    response_types=[\"text/csv\"],\n",
    "    inference_instances=[\"ml.t2.medium\", \"ml.m5.xlarge\", \"ml.m5.large\"],\n",
    "    transform_instances=[\"ml.m5.xlarge\", \"ml.m5.large\"],\n",
    "    model_package_group_name=model_package_group_name,\n",
    "    approval_status=model_approval_status_param,\n",
    "    model_metrics=model_metrics,\n",
    ")\n",
    "\n",
    "step_register = ModelStep(\n",
    "    name=f\"{pipeline_name}-register\",\n",
    "    step_args=register_args\n",
    ")"
   ]
  },
  {
   "cell_type": "markdown",
   "id": "cdccd244-757c-4dfc-b18b-0b6d84ef22a5",
   "metadata": {},
   "source": [
    "#### Fail step\n",
    "Add a Pipelines [FailStep](https://sagemaker.readthedocs.io/en/stable/workflows/pipelines/sagemaker.workflow.pipelines.html#sagemaker.workflow.fail_step.FailStep) to stop the pipeline execution if the model performance metric doesn't meet the specified threshold. "
   ]
  },
  {
   "cell_type": "code",
   "execution_count": null,
   "id": "1ba5b9b2-2faa-473b-ae18-96b6c33f41a0",
   "metadata": {},
   "outputs": [],
   "source": [
    "# step_fail = FailStep(......................"
   ]
  },
  {
   "cell_type": "code",
   "execution_count": null,
   "id": "558df13b-e0d4-4885-83c1-16a7684b7e8c",
   "metadata": {
    "tags": []
   },
   "outputs": [],
   "source": [
    "step_fail = FailStep(\n",
    "    name=f\"{pipeline_name}-fail\",\n",
    "    error_message=Join(on=\" \", values=[\"Execution failed due to AUC Score >\", test_score_threshold_param]),\n",
    ")"
   ]
  },
  {
   "cell_type": "markdown",
   "id": "0c23cb03-6a6d-4f3c-a665-6ba7b2814cb3",
   "metadata": {},
   "source": [
    "#### Condition step\n",
    "The condition step checks the model performance score and conditionally creates a model and registers it in the model registry, or stops and fails the pipeline execution."
   ]
  },
  {
   "cell_type": "code",
   "execution_count": null,
   "id": "356cb055-d2c0-4e0e-8407-d1b93b4911e4",
   "metadata": {},
   "outputs": [],
   "source": [
    "# cond_lte = ConditionGreaterThan(..........."
   ]
  },
  {
   "cell_type": "code",
   "execution_count": null,
   "id": "43868259-ba99-4d89-b021-d7092f48a7bc",
   "metadata": {
    "tags": []
   },
   "outputs": [],
   "source": [
    "cond_lte = ConditionGreaterThan(\n",
    "    left=JsonGet(\n",
    "        step_name=step_eval.name,\n",
    "        property_file=evaluation_report,\n",
    "        json_path=\"classification_metrics.auc_score.value\",\n",
    "    ),\n",
    "    right=test_score_threshold_param,\n",
    ")\n",
    "\n",
    "step_cond = ConditionStep(\n",
    "    name=f\"{pipeline_name}-check-test-score\",\n",
    "    conditions=[cond_lte],\n",
    "    if_steps=[step_register],\n",
    "    else_steps=[step_fail],\n",
    ")"
   ]
  },
  {
   "cell_type": "markdown",
   "id": "ad5812b7-8e62-46d0-9763-6a15018671c2",
   "metadata": {},
   "source": [
    "#### Construct the pipeline \n"
   ]
  },
  {
   "cell_type": "code",
   "execution_count": null,
   "id": "6a68130a-2c62-4078-80cc-7391d1eaa217",
   "metadata": {},
   "outputs": [],
   "source": [
    "# pipeline = Pipeline(\n",
    "#     name=pipeline_name,...................."
   ]
  },
  {
   "cell_type": "code",
   "execution_count": null,
   "id": "04402a0b-0195-4d7c-9837-2c04be542577",
   "metadata": {
    "tags": []
   },
   "outputs": [],
   "source": [
    "pipeline = Pipeline(\n",
    "    name=pipeline_name,\n",
    "    parameters=[\n",
    "        process_instance_type_param,\n",
    "        train_instance_type_param,\n",
    "        train_instance_count_param,\n",
    "        model_approval_status_param,\n",
    "        test_score_threshold_param,\n",
    "        input_s3_url_param,\n",
    "    ],\n",
    "    steps=[step_process, step_train, step_eval, step_cond],\n",
    "    sagemaker_session=session,\n",
    ")"
   ]
  },
  {
   "cell_type": "code",
   "execution_count": null,
   "id": "cd02b390-ed80-4967-b704-188a83bf7931",
   "metadata": {},
   "outputs": [],
   "source": [
    "# Create a new or update existing Pipeline\n",
    "pipeline.upsert(role_arn=sm_role.expr())"
   ]
  },
  {
   "cell_type": "code",
   "execution_count": null,
   "id": "0b75a822-cedb-40f4-91ff-c153f86f962f",
   "metadata": {},
   "outputs": [],
   "source": [
    "pipeline_definition = json.loads(pipeline.describe()['PipelineDefinition'])\n",
    "pipeline_definition"
   ]
  },
  {
   "cell_type": "markdown",
   "id": "0f30054b-3a8b-48e9-ad6e-2f2e8ddb8ec1",
   "metadata": {},
   "source": [
    "## Execute the pipeline\n",
    "The following code starts an execution of the pipeline with the specified parameters."
   ]
  },
  {
   "cell_type": "code",
   "execution_count": null,
   "id": "427b60cb-060a-4829-944a-a3fcce2c8da7",
   "metadata": {},
   "outputs": [],
   "source": [
    "execution = pipeline.start(\n",
    "    parameters=dict(\n",
    "        ProcessingInstanceType=process_instance_type,\n",
    "        TrainingInstanceType=train_instance_type,\n",
    "        TrainingInstanceCount=train_instance_count,\n",
    "        ModelApprovalStatus=\"PendingManualApproval\",\n",
    "        TestScoreThreshold=0.75,\n",
    "        InputDataUrl=input_s3_url\n",
    "    )\n",
    ")"
   ]
  },
  {
   "cell_type": "code",
   "execution_count": null,
   "id": "62ea8c82-c2e7-415c-8c6e-bae6355a0b6c",
   "metadata": {},
   "outputs": [],
   "source": [
    "# Un-comment this call if you want the notebook to wait until the pipeline's execution finished\n",
    "execution.wait()\n",
    "execution.list_steps()"
   ]
  },
  {
   "cell_type": "code",
   "execution_count": null,
   "id": "80da0723-c4df-454d-b0f8-0c9238a65a60",
   "metadata": {},
   "outputs": [],
   "source": []
  }
 ],
 "metadata": {
  "availableInstances": [
   {
    "_defaultOrder": 0,
    "_isFastLaunch": true,
    "category": "General purpose",
    "gpuNum": 0,
    "hideHardwareSpecs": false,
    "memoryGiB": 4,
    "name": "ml.t3.medium",
    "vcpuNum": 2
   },
   {
    "_defaultOrder": 1,
    "_isFastLaunch": false,
    "category": "General purpose",
    "gpuNum": 0,
    "hideHardwareSpecs": false,
    "memoryGiB": 8,
    "name": "ml.t3.large",
    "vcpuNum": 2
   },
   {
    "_defaultOrder": 2,
    "_isFastLaunch": false,
    "category": "General purpose",
    "gpuNum": 0,
    "hideHardwareSpecs": false,
    "memoryGiB": 16,
    "name": "ml.t3.xlarge",
    "vcpuNum": 4
   },
   {
    "_defaultOrder": 3,
    "_isFastLaunch": false,
    "category": "General purpose",
    "gpuNum": 0,
    "hideHardwareSpecs": false,
    "memoryGiB": 32,
    "name": "ml.t3.2xlarge",
    "vcpuNum": 8
   },
   {
    "_defaultOrder": 4,
    "_isFastLaunch": true,
    "category": "General purpose",
    "gpuNum": 0,
    "hideHardwareSpecs": false,
    "memoryGiB": 8,
    "name": "ml.m5.large",
    "vcpuNum": 2
   },
   {
    "_defaultOrder": 5,
    "_isFastLaunch": false,
    "category": "General purpose",
    "gpuNum": 0,
    "hideHardwareSpecs": false,
    "memoryGiB": 16,
    "name": "ml.m5.xlarge",
    "vcpuNum": 4
   },
   {
    "_defaultOrder": 6,
    "_isFastLaunch": false,
    "category": "General purpose",
    "gpuNum": 0,
    "hideHardwareSpecs": false,
    "memoryGiB": 32,
    "name": "ml.m5.2xlarge",
    "vcpuNum": 8
   },
   {
    "_defaultOrder": 7,
    "_isFastLaunch": false,
    "category": "General purpose",
    "gpuNum": 0,
    "hideHardwareSpecs": false,
    "memoryGiB": 64,
    "name": "ml.m5.4xlarge",
    "vcpuNum": 16
   },
   {
    "_defaultOrder": 8,
    "_isFastLaunch": false,
    "category": "General purpose",
    "gpuNum": 0,
    "hideHardwareSpecs": false,
    "memoryGiB": 128,
    "name": "ml.m5.8xlarge",
    "vcpuNum": 32
   },
   {
    "_defaultOrder": 9,
    "_isFastLaunch": false,
    "category": "General purpose",
    "gpuNum": 0,
    "hideHardwareSpecs": false,
    "memoryGiB": 192,
    "name": "ml.m5.12xlarge",
    "vcpuNum": 48
   },
   {
    "_defaultOrder": 10,
    "_isFastLaunch": false,
    "category": "General purpose",
    "gpuNum": 0,
    "hideHardwareSpecs": false,
    "memoryGiB": 256,
    "name": "ml.m5.16xlarge",
    "vcpuNum": 64
   },
   {
    "_defaultOrder": 11,
    "_isFastLaunch": false,
    "category": "General purpose",
    "gpuNum": 0,
    "hideHardwareSpecs": false,
    "memoryGiB": 384,
    "name": "ml.m5.24xlarge",
    "vcpuNum": 96
   },
   {
    "_defaultOrder": 12,
    "_isFastLaunch": false,
    "category": "General purpose",
    "gpuNum": 0,
    "hideHardwareSpecs": false,
    "memoryGiB": 8,
    "name": "ml.m5d.large",
    "vcpuNum": 2
   },
   {
    "_defaultOrder": 13,
    "_isFastLaunch": false,
    "category": "General purpose",
    "gpuNum": 0,
    "hideHardwareSpecs": false,
    "memoryGiB": 16,
    "name": "ml.m5d.xlarge",
    "vcpuNum": 4
   },
   {
    "_defaultOrder": 14,
    "_isFastLaunch": false,
    "category": "General purpose",
    "gpuNum": 0,
    "hideHardwareSpecs": false,
    "memoryGiB": 32,
    "name": "ml.m5d.2xlarge",
    "vcpuNum": 8
   },
   {
    "_defaultOrder": 15,
    "_isFastLaunch": false,
    "category": "General purpose",
    "gpuNum": 0,
    "hideHardwareSpecs": false,
    "memoryGiB": 64,
    "name": "ml.m5d.4xlarge",
    "vcpuNum": 16
   },
   {
    "_defaultOrder": 16,
    "_isFastLaunch": false,
    "category": "General purpose",
    "gpuNum": 0,
    "hideHardwareSpecs": false,
    "memoryGiB": 128,
    "name": "ml.m5d.8xlarge",
    "vcpuNum": 32
   },
   {
    "_defaultOrder": 17,
    "_isFastLaunch": false,
    "category": "General purpose",
    "gpuNum": 0,
    "hideHardwareSpecs": false,
    "memoryGiB": 192,
    "name": "ml.m5d.12xlarge",
    "vcpuNum": 48
   },
   {
    "_defaultOrder": 18,
    "_isFastLaunch": false,
    "category": "General purpose",
    "gpuNum": 0,
    "hideHardwareSpecs": false,
    "memoryGiB": 256,
    "name": "ml.m5d.16xlarge",
    "vcpuNum": 64
   },
   {
    "_defaultOrder": 19,
    "_isFastLaunch": false,
    "category": "General purpose",
    "gpuNum": 0,
    "hideHardwareSpecs": false,
    "memoryGiB": 384,
    "name": "ml.m5d.24xlarge",
    "vcpuNum": 96
   },
   {
    "_defaultOrder": 20,
    "_isFastLaunch": false,
    "category": "General purpose",
    "gpuNum": 0,
    "hideHardwareSpecs": true,
    "memoryGiB": 0,
    "name": "ml.geospatial.interactive",
    "supportedImageNames": [
     "sagemaker-geospatial-v1-0"
    ],
    "vcpuNum": 0
   },
   {
    "_defaultOrder": 21,
    "_isFastLaunch": true,
    "category": "Compute optimized",
    "gpuNum": 0,
    "hideHardwareSpecs": false,
    "memoryGiB": 4,
    "name": "ml.c5.large",
    "vcpuNum": 2
   },
   {
    "_defaultOrder": 22,
    "_isFastLaunch": false,
    "category": "Compute optimized",
    "gpuNum": 0,
    "hideHardwareSpecs": false,
    "memoryGiB": 8,
    "name": "ml.c5.xlarge",
    "vcpuNum": 4
   },
   {
    "_defaultOrder": 23,
    "_isFastLaunch": false,
    "category": "Compute optimized",
    "gpuNum": 0,
    "hideHardwareSpecs": false,
    "memoryGiB": 16,
    "name": "ml.c5.2xlarge",
    "vcpuNum": 8
   },
   {
    "_defaultOrder": 24,
    "_isFastLaunch": false,
    "category": "Compute optimized",
    "gpuNum": 0,
    "hideHardwareSpecs": false,
    "memoryGiB": 32,
    "name": "ml.c5.4xlarge",
    "vcpuNum": 16
   },
   {
    "_defaultOrder": 25,
    "_isFastLaunch": false,
    "category": "Compute optimized",
    "gpuNum": 0,
    "hideHardwareSpecs": false,
    "memoryGiB": 72,
    "name": "ml.c5.9xlarge",
    "vcpuNum": 36
   },
   {
    "_defaultOrder": 26,
    "_isFastLaunch": false,
    "category": "Compute optimized",
    "gpuNum": 0,
    "hideHardwareSpecs": false,
    "memoryGiB": 96,
    "name": "ml.c5.12xlarge",
    "vcpuNum": 48
   },
   {
    "_defaultOrder": 27,
    "_isFastLaunch": false,
    "category": "Compute optimized",
    "gpuNum": 0,
    "hideHardwareSpecs": false,
    "memoryGiB": 144,
    "name": "ml.c5.18xlarge",
    "vcpuNum": 72
   },
   {
    "_defaultOrder": 28,
    "_isFastLaunch": false,
    "category": "Compute optimized",
    "gpuNum": 0,
    "hideHardwareSpecs": false,
    "memoryGiB": 192,
    "name": "ml.c5.24xlarge",
    "vcpuNum": 96
   },
   {
    "_defaultOrder": 29,
    "_isFastLaunch": true,
    "category": "Accelerated computing",
    "gpuNum": 1,
    "hideHardwareSpecs": false,
    "memoryGiB": 16,
    "name": "ml.g4dn.xlarge",
    "vcpuNum": 4
   },
   {
    "_defaultOrder": 30,
    "_isFastLaunch": false,
    "category": "Accelerated computing",
    "gpuNum": 1,
    "hideHardwareSpecs": false,
    "memoryGiB": 32,
    "name": "ml.g4dn.2xlarge",
    "vcpuNum": 8
   },
   {
    "_defaultOrder": 31,
    "_isFastLaunch": false,
    "category": "Accelerated computing",
    "gpuNum": 1,
    "hideHardwareSpecs": false,
    "memoryGiB": 64,
    "name": "ml.g4dn.4xlarge",
    "vcpuNum": 16
   },
   {
    "_defaultOrder": 32,
    "_isFastLaunch": false,
    "category": "Accelerated computing",
    "gpuNum": 1,
    "hideHardwareSpecs": false,
    "memoryGiB": 128,
    "name": "ml.g4dn.8xlarge",
    "vcpuNum": 32
   },
   {
    "_defaultOrder": 33,
    "_isFastLaunch": false,
    "category": "Accelerated computing",
    "gpuNum": 4,
    "hideHardwareSpecs": false,
    "memoryGiB": 192,
    "name": "ml.g4dn.12xlarge",
    "vcpuNum": 48
   },
   {
    "_defaultOrder": 34,
    "_isFastLaunch": false,
    "category": "Accelerated computing",
    "gpuNum": 1,
    "hideHardwareSpecs": false,
    "memoryGiB": 256,
    "name": "ml.g4dn.16xlarge",
    "vcpuNum": 64
   },
   {
    "_defaultOrder": 35,
    "_isFastLaunch": false,
    "category": "Accelerated computing",
    "gpuNum": 1,
    "hideHardwareSpecs": false,
    "memoryGiB": 61,
    "name": "ml.p3.2xlarge",
    "vcpuNum": 8
   },
   {
    "_defaultOrder": 36,
    "_isFastLaunch": false,
    "category": "Accelerated computing",
    "gpuNum": 4,
    "hideHardwareSpecs": false,
    "memoryGiB": 244,
    "name": "ml.p3.8xlarge",
    "vcpuNum": 32
   },
   {
    "_defaultOrder": 37,
    "_isFastLaunch": false,
    "category": "Accelerated computing",
    "gpuNum": 8,
    "hideHardwareSpecs": false,
    "memoryGiB": 488,
    "name": "ml.p3.16xlarge",
    "vcpuNum": 64
   },
   {
    "_defaultOrder": 38,
    "_isFastLaunch": false,
    "category": "Accelerated computing",
    "gpuNum": 8,
    "hideHardwareSpecs": false,
    "memoryGiB": 768,
    "name": "ml.p3dn.24xlarge",
    "vcpuNum": 96
   },
   {
    "_defaultOrder": 39,
    "_isFastLaunch": false,
    "category": "Memory Optimized",
    "gpuNum": 0,
    "hideHardwareSpecs": false,
    "memoryGiB": 16,
    "name": "ml.r5.large",
    "vcpuNum": 2
   },
   {
    "_defaultOrder": 40,
    "_isFastLaunch": false,
    "category": "Memory Optimized",
    "gpuNum": 0,
    "hideHardwareSpecs": false,
    "memoryGiB": 32,
    "name": "ml.r5.xlarge",
    "vcpuNum": 4
   },
   {
    "_defaultOrder": 41,
    "_isFastLaunch": false,
    "category": "Memory Optimized",
    "gpuNum": 0,
    "hideHardwareSpecs": false,
    "memoryGiB": 64,
    "name": "ml.r5.2xlarge",
    "vcpuNum": 8
   },
   {
    "_defaultOrder": 42,
    "_isFastLaunch": false,
    "category": "Memory Optimized",
    "gpuNum": 0,
    "hideHardwareSpecs": false,
    "memoryGiB": 128,
    "name": "ml.r5.4xlarge",
    "vcpuNum": 16
   },
   {
    "_defaultOrder": 43,
    "_isFastLaunch": false,
    "category": "Memory Optimized",
    "gpuNum": 0,
    "hideHardwareSpecs": false,
    "memoryGiB": 256,
    "name": "ml.r5.8xlarge",
    "vcpuNum": 32
   },
   {
    "_defaultOrder": 44,
    "_isFastLaunch": false,
    "category": "Memory Optimized",
    "gpuNum": 0,
    "hideHardwareSpecs": false,
    "memoryGiB": 384,
    "name": "ml.r5.12xlarge",
    "vcpuNum": 48
   },
   {
    "_defaultOrder": 45,
    "_isFastLaunch": false,
    "category": "Memory Optimized",
    "gpuNum": 0,
    "hideHardwareSpecs": false,
    "memoryGiB": 512,
    "name": "ml.r5.16xlarge",
    "vcpuNum": 64
   },
   {
    "_defaultOrder": 46,
    "_isFastLaunch": false,
    "category": "Memory Optimized",
    "gpuNum": 0,
    "hideHardwareSpecs": false,
    "memoryGiB": 768,
    "name": "ml.r5.24xlarge",
    "vcpuNum": 96
   },
   {
    "_defaultOrder": 47,
    "_isFastLaunch": false,
    "category": "Accelerated computing",
    "gpuNum": 1,
    "hideHardwareSpecs": false,
    "memoryGiB": 16,
    "name": "ml.g5.xlarge",
    "vcpuNum": 4
   },
   {
    "_defaultOrder": 48,
    "_isFastLaunch": false,
    "category": "Accelerated computing",
    "gpuNum": 1,
    "hideHardwareSpecs": false,
    "memoryGiB": 32,
    "name": "ml.g5.2xlarge",
    "vcpuNum": 8
   },
   {
    "_defaultOrder": 49,
    "_isFastLaunch": false,
    "category": "Accelerated computing",
    "gpuNum": 1,
    "hideHardwareSpecs": false,
    "memoryGiB": 64,
    "name": "ml.g5.4xlarge",
    "vcpuNum": 16
   },
   {
    "_defaultOrder": 50,
    "_isFastLaunch": false,
    "category": "Accelerated computing",
    "gpuNum": 1,
    "hideHardwareSpecs": false,
    "memoryGiB": 128,
    "name": "ml.g5.8xlarge",
    "vcpuNum": 32
   },
   {
    "_defaultOrder": 51,
    "_isFastLaunch": false,
    "category": "Accelerated computing",
    "gpuNum": 1,
    "hideHardwareSpecs": false,
    "memoryGiB": 256,
    "name": "ml.g5.16xlarge",
    "vcpuNum": 64
   },
   {
    "_defaultOrder": 52,
    "_isFastLaunch": false,
    "category": "Accelerated computing",
    "gpuNum": 4,
    "hideHardwareSpecs": false,
    "memoryGiB": 192,
    "name": "ml.g5.12xlarge",
    "vcpuNum": 48
   },
   {
    "_defaultOrder": 53,
    "_isFastLaunch": false,
    "category": "Accelerated computing",
    "gpuNum": 4,
    "hideHardwareSpecs": false,
    "memoryGiB": 384,
    "name": "ml.g5.24xlarge",
    "vcpuNum": 96
   },
   {
    "_defaultOrder": 54,
    "_isFastLaunch": false,
    "category": "Accelerated computing",
    "gpuNum": 8,
    "hideHardwareSpecs": false,
    "memoryGiB": 768,
    "name": "ml.g5.48xlarge",
    "vcpuNum": 192
   },
   {
    "_defaultOrder": 55,
    "_isFastLaunch": false,
    "category": "Accelerated computing",
    "gpuNum": 8,
    "hideHardwareSpecs": false,
    "memoryGiB": 1152,
    "name": "ml.p4d.24xlarge",
    "vcpuNum": 96
   },
   {
    "_defaultOrder": 56,
    "_isFastLaunch": false,
    "category": "Accelerated computing",
    "gpuNum": 8,
    "hideHardwareSpecs": false,
    "memoryGiB": 1152,
    "name": "ml.p4de.24xlarge",
    "vcpuNum": 96
   }
  ],
  "instance_type": "ml.t3.medium",
  "kernelspec": {
   "display_name": "Python 3 (Data Science)",
   "language": "python",
   "name": "python3__SAGEMAKER_INTERNAL__arn:aws:sagemaker:us-east-1:081325390199:image/datascience-1.0"
  },
  "language_info": {
   "codemirror_mode": {
    "name": "ipython",
    "version": 3
   },
   "file_extension": ".py",
   "mimetype": "text/x-python",
   "name": "python",
   "nbconvert_exporter": "python",
   "pygments_lexer": "ipython3",
   "version": "3.7.10"
  }
 },
 "nbformat": 4,
 "nbformat_minor": 5
}
