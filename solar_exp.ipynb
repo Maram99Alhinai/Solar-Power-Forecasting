{
 "cells": [
  {
   "cell_type": "code",
   "execution_count": 2,
   "id": "ef68df2e-1c8f-477a-b717-d8068d0e6378",
   "metadata": {},
   "outputs": [
    {
     "name": "stdout",
     "output_type": "stream",
     "text": [
      "Requirement already satisfied: xgboost in /opt/conda/lib/python3.7/site-packages (1.6.2)\n",
      "Requirement already satisfied: numpy in /opt/conda/lib/python3.7/site-packages (from xgboost) (1.21.6)\n",
      "Requirement already satisfied: scipy in /opt/conda/lib/python3.7/site-packages (from xgboost) (1.4.1)\n",
      "\u001b[33mWARNING: Running pip as the 'root' user can result in broken permissions and conflicting behaviour with the system package manager. It is recommended to use a virtual environment instead: https://pip.pypa.io/warnings/venv\u001b[0m\u001b[33m\n",
      "\u001b[0m"
     ]
    }
   ],
   "source": [
    "!pip install xgboost"
   ]
  },
  {
   "cell_type": "code",
   "execution_count": 3,
   "id": "3b87ce76-8cb3-495e-9081-d025b103f67d",
   "metadata": {
    "tags": []
   },
   "outputs": [
    {
     "data": {
      "text/plain": [
       "'2.132.0'"
      ]
     },
     "execution_count": 3,
     "metadata": {},
     "output_type": "execute_result"
    }
   ],
   "source": [
    "import pandas as pd\n",
    "import numpy as np \n",
    "import json\n",
    "import joblib\n",
    "import sagemaker\n",
    "import boto3\n",
    "import os\n",
    "from time import gmtime, strftime, sleep\n",
    "import xgboost as xgb\n",
    "from sklearn.datasets import load_boston\n",
    "from sklearn.model_selection import train_test_split\n",
    "from sklearn.metrics import mean_squared_error\n",
    "from sagemaker.experiments.run import Run, load_run\n",
    "\n",
    "sagemaker.__version__"
   ]
  },
  {
   "cell_type": "code",
   "execution_count": 4,
   "id": "6f517428-ec01-46f6-b33b-265197f7dadc",
   "metadata": {
    "tags": []
   },
   "outputs": [],
   "source": [
    "target_col = \"DC_POWER\""
   ]
  },
  {
   "cell_type": "code",
   "execution_count": 5,
   "id": "e44e887e-d7c0-476e-8f41-64a76830412f",
   "metadata": {
    "tags": []
   },
   "outputs": [],
   "source": [
    "session = sagemaker.Session()\n",
    "sm = session.sagemaker_client"
   ]
  },
  {
   "cell_type": "code",
   "execution_count": 6,
   "id": "eb3312c0-7faa-4d5c-a383-b350a9449a44",
   "metadata": {
    "tags": []
   },
   "outputs": [],
   "source": [
    "#read data and save it in pandas dataframe\n",
    "df = pd.read_csv(\"data/combined_plant.csv\")"
   ]
  },
  {
   "cell_type": "code",
   "execution_count": 7,
   "id": "789347b5-2fba-47a1-898c-5c967a577b97",
   "metadata": {
    "tags": []
   },
   "outputs": [
    {
     "data": {
      "text/html": [
       "<div>\n",
       "<style scoped>\n",
       "    .dataframe tbody tr th:only-of-type {\n",
       "        vertical-align: middle;\n",
       "    }\n",
       "\n",
       "    .dataframe tbody tr th {\n",
       "        vertical-align: top;\n",
       "    }\n",
       "\n",
       "    .dataframe thead th {\n",
       "        text-align: right;\n",
       "    }\n",
       "</style>\n",
       "<table border=\"1\" class=\"dataframe\">\n",
       "  <thead>\n",
       "    <tr style=\"text-align: right;\">\n",
       "      <th></th>\n",
       "      <th>DATE_TIME</th>\n",
       "      <th>SOURCE_KEY</th>\n",
       "      <th>DC_POWER</th>\n",
       "      <th>DAILY_YIELD</th>\n",
       "      <th>AMBIENT_TEMPERATURE</th>\n",
       "      <th>MODULE_TEMPERATURE</th>\n",
       "      <th>IRRADIATION</th>\n",
       "    </tr>\n",
       "  </thead>\n",
       "  <tbody>\n",
       "    <tr>\n",
       "      <th>0</th>\n",
       "      <td>2020-05-15 00:00:00</td>\n",
       "      <td>1BY6WEcLGh8j5v7</td>\n",
       "      <td>0.0</td>\n",
       "      <td>0.0</td>\n",
       "      <td>25.184316</td>\n",
       "      <td>22.857507</td>\n",
       "      <td>0.0</td>\n",
       "    </tr>\n",
       "    <tr>\n",
       "      <th>1</th>\n",
       "      <td>2020-05-15 00:00:00</td>\n",
       "      <td>1IF53ai7Xc0U56Y</td>\n",
       "      <td>0.0</td>\n",
       "      <td>0.0</td>\n",
       "      <td>25.184316</td>\n",
       "      <td>22.857507</td>\n",
       "      <td>0.0</td>\n",
       "    </tr>\n",
       "    <tr>\n",
       "      <th>2</th>\n",
       "      <td>2020-05-15 00:00:00</td>\n",
       "      <td>3PZuoBAID5Wc2HD</td>\n",
       "      <td>0.0</td>\n",
       "      <td>0.0</td>\n",
       "      <td>25.184316</td>\n",
       "      <td>22.857507</td>\n",
       "      <td>0.0</td>\n",
       "    </tr>\n",
       "    <tr>\n",
       "      <th>3</th>\n",
       "      <td>2020-05-15 00:00:00</td>\n",
       "      <td>7JYdWkrLSPkdwr4</td>\n",
       "      <td>0.0</td>\n",
       "      <td>0.0</td>\n",
       "      <td>25.184316</td>\n",
       "      <td>22.857507</td>\n",
       "      <td>0.0</td>\n",
       "    </tr>\n",
       "    <tr>\n",
       "      <th>4</th>\n",
       "      <td>2020-05-15 00:00:00</td>\n",
       "      <td>McdE0feGgRqW7Ca</td>\n",
       "      <td>0.0</td>\n",
       "      <td>0.0</td>\n",
       "      <td>25.184316</td>\n",
       "      <td>22.857507</td>\n",
       "      <td>0.0</td>\n",
       "    </tr>\n",
       "  </tbody>\n",
       "</table>\n",
       "</div>"
      ],
      "text/plain": [
       "             DATE_TIME       SOURCE_KEY  DC_POWER  DAILY_YIELD  \\\n",
       "0  2020-05-15 00:00:00  1BY6WEcLGh8j5v7       0.0          0.0   \n",
       "1  2020-05-15 00:00:00  1IF53ai7Xc0U56Y       0.0          0.0   \n",
       "2  2020-05-15 00:00:00  3PZuoBAID5Wc2HD       0.0          0.0   \n",
       "3  2020-05-15 00:00:00  7JYdWkrLSPkdwr4       0.0          0.0   \n",
       "4  2020-05-15 00:00:00  McdE0feGgRqW7Ca       0.0          0.0   \n",
       "\n",
       "   AMBIENT_TEMPERATURE  MODULE_TEMPERATURE  IRRADIATION  \n",
       "0            25.184316           22.857507          0.0  \n",
       "1            25.184316           22.857507          0.0  \n",
       "2            25.184316           22.857507          0.0  \n",
       "3            25.184316           22.857507          0.0  \n",
       "4            25.184316           22.857507          0.0  "
      ]
     },
     "execution_count": 7,
     "metadata": {},
     "output_type": "execute_result"
    }
   ],
   "source": [
    "df.head()"
   ]
  },
  {
   "cell_type": "markdown",
   "id": "01cb8c49-725c-4f0a-9b60-62df102f9cc5",
   "metadata": {},
   "source": [
    "## Create an experiment"
   ]
  },
  {
   "cell_type": "code",
   "execution_count": 8,
   "id": "343e39e0-722f-4cc2-bdf2-3fc68d0a99ff",
   "metadata": {
    "tags": []
   },
   "outputs": [],
   "source": [
    "experiment_name = f\"Solar-energy-experiment-model2-{strftime('%d-%H-%M-%S', gmtime())}\""
   ]
  },
  {
   "cell_type": "markdown",
   "id": "c0ce6088-1777-4034-89e3-73e27e6d9ddd",
   "metadata": {},
   "source": [
    "## Feature engineering"
   ]
  },
  {
   "cell_type": "code",
   "execution_count": 9,
   "id": "dc2b35b5-c941-47ef-915a-cac183e03acd",
   "metadata": {
    "tags": []
   },
   "outputs": [
    {
     "data": {
      "text/html": [
       "<div>\n",
       "<style scoped>\n",
       "    .dataframe tbody tr th:only-of-type {\n",
       "        vertical-align: middle;\n",
       "    }\n",
       "\n",
       "    .dataframe tbody tr th {\n",
       "        vertical-align: top;\n",
       "    }\n",
       "\n",
       "    .dataframe thead th {\n",
       "        text-align: right;\n",
       "    }\n",
       "</style>\n",
       "<table border=\"1\" class=\"dataframe\">\n",
       "  <thead>\n",
       "    <tr style=\"text-align: right;\">\n",
       "      <th></th>\n",
       "      <th>DC_POWER</th>\n",
       "      <th>DAILY_YIELD</th>\n",
       "      <th>AMBIENT_TEMPERATURE</th>\n",
       "      <th>MODULE_TEMPERATURE</th>\n",
       "      <th>IRRADIATION</th>\n",
       "    </tr>\n",
       "  </thead>\n",
       "  <tbody>\n",
       "    <tr>\n",
       "      <th>0</th>\n",
       "      <td>0.0</td>\n",
       "      <td>0.0</td>\n",
       "      <td>25.184316</td>\n",
       "      <td>22.857507</td>\n",
       "      <td>0.0</td>\n",
       "    </tr>\n",
       "    <tr>\n",
       "      <th>1</th>\n",
       "      <td>0.0</td>\n",
       "      <td>0.0</td>\n",
       "      <td>25.184316</td>\n",
       "      <td>22.857507</td>\n",
       "      <td>0.0</td>\n",
       "    </tr>\n",
       "    <tr>\n",
       "      <th>2</th>\n",
       "      <td>0.0</td>\n",
       "      <td>0.0</td>\n",
       "      <td>25.184316</td>\n",
       "      <td>22.857507</td>\n",
       "      <td>0.0</td>\n",
       "    </tr>\n",
       "    <tr>\n",
       "      <th>3</th>\n",
       "      <td>0.0</td>\n",
       "      <td>0.0</td>\n",
       "      <td>25.184316</td>\n",
       "      <td>22.857507</td>\n",
       "      <td>0.0</td>\n",
       "    </tr>\n",
       "    <tr>\n",
       "      <th>4</th>\n",
       "      <td>0.0</td>\n",
       "      <td>0.0</td>\n",
       "      <td>25.184316</td>\n",
       "      <td>22.857507</td>\n",
       "      <td>0.0</td>\n",
       "    </tr>\n",
       "    <tr>\n",
       "      <th>...</th>\n",
       "      <td>...</td>\n",
       "      <td>...</td>\n",
       "      <td>...</td>\n",
       "      <td>...</td>\n",
       "      <td>...</td>\n",
       "    </tr>\n",
       "    <tr>\n",
       "      <th>136467</th>\n",
       "      <td>0.0</td>\n",
       "      <td>4157.0</td>\n",
       "      <td>23.202871</td>\n",
       "      <td>22.535908</td>\n",
       "      <td>0.0</td>\n",
       "    </tr>\n",
       "    <tr>\n",
       "      <th>136468</th>\n",
       "      <td>0.0</td>\n",
       "      <td>3931.0</td>\n",
       "      <td>23.202871</td>\n",
       "      <td>22.535908</td>\n",
       "      <td>0.0</td>\n",
       "    </tr>\n",
       "    <tr>\n",
       "      <th>136469</th>\n",
       "      <td>0.0</td>\n",
       "      <td>4322.0</td>\n",
       "      <td>23.202871</td>\n",
       "      <td>22.535908</td>\n",
       "      <td>0.0</td>\n",
       "    </tr>\n",
       "    <tr>\n",
       "      <th>136470</th>\n",
       "      <td>0.0</td>\n",
       "      <td>4218.0</td>\n",
       "      <td>23.202871</td>\n",
       "      <td>22.535908</td>\n",
       "      <td>0.0</td>\n",
       "    </tr>\n",
       "    <tr>\n",
       "      <th>136471</th>\n",
       "      <td>0.0</td>\n",
       "      <td>4316.0</td>\n",
       "      <td>23.202871</td>\n",
       "      <td>22.535908</td>\n",
       "      <td>0.0</td>\n",
       "    </tr>\n",
       "  </tbody>\n",
       "</table>\n",
       "<p>136472 rows × 5 columns</p>\n",
       "</div>"
      ],
      "text/plain": [
       "        DC_POWER  DAILY_YIELD  AMBIENT_TEMPERATURE  MODULE_TEMPERATURE  \\\n",
       "0            0.0          0.0            25.184316           22.857507   \n",
       "1            0.0          0.0            25.184316           22.857507   \n",
       "2            0.0          0.0            25.184316           22.857507   \n",
       "3            0.0          0.0            25.184316           22.857507   \n",
       "4            0.0          0.0            25.184316           22.857507   \n",
       "...          ...          ...                  ...                 ...   \n",
       "136467       0.0       4157.0            23.202871           22.535908   \n",
       "136468       0.0       3931.0            23.202871           22.535908   \n",
       "136469       0.0       4322.0            23.202871           22.535908   \n",
       "136470       0.0       4218.0            23.202871           22.535908   \n",
       "136471       0.0       4316.0            23.202871           22.535908   \n",
       "\n",
       "        IRRADIATION  \n",
       "0               0.0  \n",
       "1               0.0  \n",
       "2               0.0  \n",
       "3               0.0  \n",
       "4               0.0  \n",
       "...             ...  \n",
       "136467          0.0  \n",
       "136468          0.0  \n",
       "136469          0.0  \n",
       "136470          0.0  \n",
       "136471          0.0  \n",
       "\n",
       "[136472 rows x 5 columns]"
      ]
     },
     "execution_count": 9,
     "metadata": {},
     "output_type": "execute_result"
    }
   ],
   "source": [
    "df.drop(['SOURCE_KEY', 'DATE_TIME'], axis=1)"
   ]
  },
  {
   "cell_type": "code",
   "execution_count": 10,
   "id": "3de25447-c36d-49f8-a83e-894c68d42c84",
   "metadata": {
    "tags": []
   },
   "outputs": [
    {
     "name": "stdout",
     "output_type": "stream",
     "text": [
      "Data split > train:(95530, 7) | validation:(27294, 7) | test:(13648, 7)\n"
     ]
    }
   ],
   "source": [
    "# Shuffle and split the dataset\n",
    "train_data, validation_data, test_data = np.split(\n",
    "    df.sample(frac=1, random_state=1729),\n",
    "    [int(0.7 * len(df)), int(0.9 * len(df))],\n",
    ")\n",
    "\n",
    "print(f\"Data split > train:{train_data.shape} | validation:{validation_data.shape} | test:{test_data.shape}\")"
   ]
  },
  {
   "cell_type": "code",
   "execution_count": 11,
   "id": "e43ee16c-6a4e-4375-9b65-99d4ee991532",
   "metadata": {
    "tags": []
   },
   "outputs": [],
   "source": [
    "file_source = \"EFS\"\n",
    "file_name = \"combined_plant.csv\"\n",
    "input_path = \"./data\" \n",
    "output_path = \"./data\""
   ]
  },
  {
   "cell_type": "code",
   "execution_count": 12,
   "id": "33460655-9c56-4b6c-80ec-9ea1e1e8a718",
   "metadata": {
    "tags": []
   },
   "outputs": [],
   "source": [
    "train_data.to_csv(os.path.join(output_path, \"train.csv\"), index=False, header=False)\n",
    "validation_data.to_csv(os.path.join(output_path, \"validation.csv\"), index=False, header=False)\n",
    "test_data.to_csv(os.path.join(output_path, \"test.csv\"), index=False, header=False)\n",
    "    "
   ]
  },
  {
   "cell_type": "markdown",
   "id": "48013728-2e71-487e-92cc-d16f3c1a14fe",
   "metadata": {},
   "source": [
    "## Model training and validation"
   ]
  },
  {
   "cell_type": "code",
   "execution_count": 13,
   "id": "70c12100-9901-4c65-9798-18450fdaf0e3",
   "metadata": {
    "tags": []
   },
   "outputs": [],
   "source": [
    "train_features = train_data.drop(target_col, axis=1)\n",
    "train_label = pd.DataFrame(train_data[target_col])\n",
    "train_features_numeric = train_features.drop(['DATE_TIME', 'SOURCE_KEY'], axis=1)"
   ]
  },
  {
   "cell_type": "code",
   "execution_count": 14,
   "id": "58427be0-1be4-4c85-b8e7-e063670a2b85",
   "metadata": {
    "tags": []
   },
   "outputs": [],
   "source": [
    "dtrain = xgb.DMatrix(train_features_numeric, label=train_label)"
   ]
  },
  {
   "cell_type": "code",
   "execution_count": 15,
   "id": "7285f56d-8b3d-4b47-b905-b1b69a3690cf",
   "metadata": {
    "tags": []
   },
   "outputs": [],
   "source": [
    "hyperparams = {\n",
    "                \"eta\": 0.01,\n",
    "                \"booster\": 'gblinear',\n",
    "                \"objective\":'reg:squarederror',\n",
    "                \"base_score\" : 0.5,\n",
    "                \"eval_metric\" :'rmse',\n",
    "                \"random_state\" : 567\n",
    "              }\n",
    "\n",
    "num_boost_round = 300\n",
    "nfold = 3\n",
    "early_stopping_rounds = 10"
   ]
  },
  {
   "cell_type": "code",
   "execution_count": 16,
   "id": "11aaefda-a72b-4980-9648-8d97043e8ab7",
   "metadata": {
    "tags": []
   },
   "outputs": [],
   "source": [
    "cv_results = xgb.cv(\n",
    "    params=hyperparams,\n",
    "    dtrain=dtrain,\n",
    "    num_boost_round=num_boost_round,\n",
    "    nfold=nfold,\n",
    "    early_stopping_rounds=early_stopping_rounds,\n",
    "    metrics=[\"rmse\"],\n",
    "    seed=10,\n",
    ")"
   ]
  },
  {
   "cell_type": "code",
   "execution_count": 17,
   "id": "1f1d80f9-06e3-42d6-b442-7f25c593862e",
   "metadata": {
    "tags": []
   },
   "outputs": [],
   "source": [
    "metrics_data = {\n",
    "    \"Regressor_metrics\": {\n",
    "        \"validation:rmse\": {\n",
    "            \"value\": cv_results.iloc[-1][\"test-rmse-mean\"],\n",
    "            \"standard_deviation\": cv_results.iloc[-1][\"test-rmse-std\"]\n",
    "        },\n",
    "        \"train:rmse\": {\n",
    "            \"value\": cv_results.iloc[-1][\"train-rmse-mean\"],\n",
    "            \"standard_deviation\": cv_results.iloc[-1][\"train-rmse-std\"]\n",
    "        },\n",
    "    }\n",
    "}"
   ]
  },
  {
   "cell_type": "code",
   "execution_count": 18,
   "id": "d2d6dd5f-95ef-4edd-ad42-5e6ca149dc2f",
   "metadata": {
    "tags": []
   },
   "outputs": [
    {
     "data": {
      "text/html": [
       "<div>\n",
       "<style scoped>\n",
       "    .dataframe tbody tr th:only-of-type {\n",
       "        vertical-align: middle;\n",
       "    }\n",
       "\n",
       "    .dataframe tbody tr th {\n",
       "        vertical-align: top;\n",
       "    }\n",
       "\n",
       "    .dataframe thead th {\n",
       "        text-align: right;\n",
       "    }\n",
       "</style>\n",
       "<table border=\"1\" class=\"dataframe\">\n",
       "  <thead>\n",
       "    <tr style=\"text-align: right;\">\n",
       "      <th></th>\n",
       "      <th>train-rmse-mean</th>\n",
       "      <th>train-rmse-std</th>\n",
       "      <th>test-rmse-mean</th>\n",
       "      <th>test-rmse-std</th>\n",
       "    </tr>\n",
       "  </thead>\n",
       "  <tbody>\n",
       "    <tr>\n",
       "      <th>0</th>\n",
       "      <td>3599.292118</td>\n",
       "      <td>3.988145</td>\n",
       "      <td>3599.285406</td>\n",
       "      <td>8.489614</td>\n",
       "    </tr>\n",
       "    <tr>\n",
       "      <th>1</th>\n",
       "      <td>3546.230520</td>\n",
       "      <td>3.785751</td>\n",
       "      <td>3546.224375</td>\n",
       "      <td>8.559702</td>\n",
       "    </tr>\n",
       "    <tr>\n",
       "      <th>2</th>\n",
       "      <td>3496.421464</td>\n",
       "      <td>3.637436</td>\n",
       "      <td>3496.416130</td>\n",
       "      <td>8.565250</td>\n",
       "    </tr>\n",
       "    <tr>\n",
       "      <th>3</th>\n",
       "      <td>3449.601927</td>\n",
       "      <td>3.450638</td>\n",
       "      <td>3449.597367</td>\n",
       "      <td>8.600326</td>\n",
       "    </tr>\n",
       "    <tr>\n",
       "      <th>4</th>\n",
       "      <td>3405.641817</td>\n",
       "      <td>3.273465</td>\n",
       "      <td>3405.638128</td>\n",
       "      <td>8.617553</td>\n",
       "    </tr>\n",
       "    <tr>\n",
       "      <th>...</th>\n",
       "      <td>...</td>\n",
       "      <td>...</td>\n",
       "      <td>...</td>\n",
       "      <td>...</td>\n",
       "    </tr>\n",
       "    <tr>\n",
       "      <th>295</th>\n",
       "      <td>2432.045770</td>\n",
       "      <td>2.018126</td>\n",
       "      <td>2432.159220</td>\n",
       "      <td>2.184883</td>\n",
       "    </tr>\n",
       "    <tr>\n",
       "      <th>296</th>\n",
       "      <td>2431.744490</td>\n",
       "      <td>2.018769</td>\n",
       "      <td>2431.858055</td>\n",
       "      <td>2.193797</td>\n",
       "    </tr>\n",
       "    <tr>\n",
       "      <th>297</th>\n",
       "      <td>2431.445765</td>\n",
       "      <td>2.019400</td>\n",
       "      <td>2431.559447</td>\n",
       "      <td>2.202692</td>\n",
       "    </tr>\n",
       "    <tr>\n",
       "      <th>298</th>\n",
       "      <td>2431.149571</td>\n",
       "      <td>2.020016</td>\n",
       "      <td>2431.263365</td>\n",
       "      <td>2.211566</td>\n",
       "    </tr>\n",
       "    <tr>\n",
       "      <th>299</th>\n",
       "      <td>2430.855875</td>\n",
       "      <td>2.020626</td>\n",
       "      <td>2430.969783</td>\n",
       "      <td>2.220413</td>\n",
       "    </tr>\n",
       "  </tbody>\n",
       "</table>\n",
       "<p>300 rows × 4 columns</p>\n",
       "</div>"
      ],
      "text/plain": [
       "     train-rmse-mean  train-rmse-std  test-rmse-mean  test-rmse-std\n",
       "0        3599.292118        3.988145     3599.285406       8.489614\n",
       "1        3546.230520        3.785751     3546.224375       8.559702\n",
       "2        3496.421464        3.637436     3496.416130       8.565250\n",
       "3        3449.601927        3.450638     3449.597367       8.600326\n",
       "4        3405.641817        3.273465     3405.638128       8.617553\n",
       "..               ...             ...             ...            ...\n",
       "295      2432.045770        2.018126     2432.159220       2.184883\n",
       "296      2431.744490        2.018769     2431.858055       2.193797\n",
       "297      2431.445765        2.019400     2431.559447       2.202692\n",
       "298      2431.149571        2.020016     2431.263365       2.211566\n",
       "299      2430.855875        2.020626     2430.969783       2.220413\n",
       "\n",
       "[300 rows x 4 columns]"
      ]
     },
     "execution_count": 18,
     "metadata": {},
     "output_type": "execute_result"
    }
   ],
   "source": [
    "cv_results"
   ]
  },
  {
   "cell_type": "code",
   "execution_count": 19,
   "id": "3f151be2-160a-42a3-ab34-9138f294725f",
   "metadata": {
    "tags": []
   },
   "outputs": [],
   "source": [
    "test_features = test_data.drop(target_col, axis=1)\n",
    "test_label = pd.DataFrame(test_data[target_col])\n",
    "test_features_numeric = test_features.drop(['DATE_TIME', 'SOURCE_KEY'], axis=1)\n",
    "dtest = xgb.DMatrix(test_features_numeric, label=test_label)"
   ]
  },
  {
   "cell_type": "code",
   "execution_count": 20,
   "id": "26d71a1f-97d2-4b32-859b-40e1b331d115",
   "metadata": {
    "tags": []
   },
   "outputs": [],
   "source": [
    "run_suffix = strftime('%Y-%m-%M-%S', gmtime())\n",
    "\n",
    "with Run(experiment_name=experiment_name,\n",
    "         run_name=f\"feature-engineering-{run_suffix}\",\n",
    "         run_display_name=\"feature-engineering\",\n",
    "         sagemaker_session=session) as run:\n",
    "    run.log_parameters(\n",
    "        {\n",
    "            \"train\": 0.7,\n",
    "            \"validate\": 0.2,\n",
    "            \"test\": 0.1\n",
    "        }\n",
    "    )\n",
    "    # Log input dataset metadata and output\n",
    "    run.log_artifact(name=\"combined-plant-dataset\", value=\"./data/combined_plant.csv\", media_type=\"text/csv\", is_output=False)\n",
    "    run.log_artifact(name=\"train-csv\", value=\"./data/train.csv\", media_type=\"text/csv\")\n",
    "    run.log_artifact(name=\"validation-csv\", value=\"./data/validation.csv\", media_type=\"text/csv\")\n",
    "    run.log_artifact(name=\"test-csv\", value=\"./data/test.csv\", media_type=\"text/csv\")"
   ]
  },
  {
   "cell_type": "code",
   "execution_count": 21,
   "id": "c71c656c-f4df-4524-aff0-27e1c373e84f",
   "metadata": {
    "tags": []
   },
   "outputs": [
    {
     "name": "stdout",
     "output_type": "stream",
     "text": [
      "Fit estimator with eta=0.01\n",
      "Test rmse: 2415.4670 | Train rmse: 2430.8787\n",
      "Fit estimator with eta=0.05\n",
      "Test rmse: 2358.3553 | Train rmse: 2373.6642\n",
      "Fit estimator with eta=0.1\n",
      "Test rmse: 2330.6972 | Train rmse: 2345.8904\n",
      "Fit estimator with eta=0.5\n",
      "Test rmse: 2139.9672 | Train rmse: 2154.6761\n",
      "Fit estimator with eta=0.7\n",
      "Test rmse: 2063.2592 | Train rmse: 2077.8498\n",
      "Fit estimator with eta=0.8\n",
      "Test rmse: 2029.8126 | Train rmse: 2044.3297\n",
      "Fit estimator with eta=0.9\n",
      "Test rmse: 2000.2047 | Train rmse: 2014.6121\n"
     ]
    }
   ],
   "source": [
    "# in the production code you need to use the unique ids\n",
    "run_suffix = strftime('%Y-%m-%M-%S', gmtime())\n",
    "\n",
    "# Train the model for different eta values\n",
    "for i, d in enumerate([0.01, .05, .1, .5, 0.7,0.8, 0.9]):\n",
    "    hyperparams[\"eta\"] = d\n",
    "    \n",
    "    print(f\"Fit estimator with eta={d}\")\n",
    "    run_name = f\"training-{i}-{run_suffix}\"\n",
    "    \n",
    "    with Run(experiment_name=experiment_name,\n",
    "             run_name=run_name,\n",
    "             run_display_name=f\"eta-{i+1}\",\n",
    "             sagemaker_session=session) as run:\n",
    "        # Train the model\n",
    "        model = (\n",
    "            xgb.train(\n",
    "                params=hyperparams, \n",
    "                dtrain=dtrain, \n",
    "                evals = [(dtrain,'train'), (dtest,'eval')], \n",
    "                num_boost_round=num_boost_round, \n",
    "                early_stopping_rounds=early_stopping_rounds, \n",
    "                verbose_eval = 0\n",
    "            )\n",
    "        )\n",
    "\n",
    "        # Calculate metrics\n",
    "        test_rmse = np.sqrt(mean_squared_error(test_label, model.predict(dtest)))\n",
    "        train_rmse = np.sqrt(mean_squared_error(train_label, model.predict(dtrain)))\n",
    "\n",
    "        # test_rmse = np.sqrt(mean_squared_error((test_label, y_pred=model.predict(dtest))))\n",
    "        # train_rmse = np.sqrt(mean_squared_error((train_label, y_pred=model.predict(dtrain))))\n",
    "        \n",
    "        # Log metrics to the run\n",
    "        run.log_parameters(hyperparams)\n",
    "        run.log_metric(name=\"test_rmse\", value = test_rmse, step=i+1)\n",
    "        run.log_metric(name=\"train_rmse\", value = train_rmse, step=i+1)\n",
    "\n",
    "        # time.sleep(8) # wait until resource tags are propagated to the run\n",
    "\n",
    "        print(f\"Test rmse: {test_rmse:.4f} | Train rmse: {train_rmse:.4f}\")"
   ]
  },
  {
   "cell_type": "code",
   "execution_count": 22,
   "id": "6a973e49-ac00-46b3-b859-da3bd4b9d66e",
   "metadata": {
    "tags": []
   },
   "outputs": [
    {
     "name": "stdout",
     "output_type": "stream",
     "text": [
      "Fit estimator with base_score=0.05\n",
      "Test rmse: 1999.6744 | Train rmse: 2014.0798\n",
      "Fit estimator with base_score=0.1\n",
      "Test rmse: 2000.7337 | Train rmse: 2015.1434\n",
      "Fit estimator with base_score=0.5\n",
      "Test rmse: 1999.5249 | Train rmse: 2013.9297\n",
      "Fit estimator with base_score=0.6\n",
      "Test rmse: 2000.7600 | Train rmse: 2015.1698\n",
      "Fit estimator with base_score=0.7\n",
      "Test rmse: 2000.5259 | Train rmse: 2014.9347\n"
     ]
    }
   ],
   "source": [
    "# in the production code you need to use the unique ids\n",
    "run_suffix = strftime('%Y-%m-%M-%S', gmtime())\n",
    "\n",
    "# Train the model for different base_score values\n",
    "for i, d in enumerate([ .05, .1, .5, 0.6,0.7]):\n",
    "    hyperparams[\"base_score\"] = d\n",
    "    \n",
    "    print(f\"Fit estimator with base_score={d}\")\n",
    "    run_name = f\"training-{i}-{run_suffix}\"\n",
    "    \n",
    "    with Run(experiment_name=experiment_name,\n",
    "             run_name=run_name,\n",
    "             run_display_name=f\"eta-{i+1}\",\n",
    "             sagemaker_session=session) as run:\n",
    "        # Train the model\n",
    "        model = (\n",
    "            xgb.train(\n",
    "                params=hyperparams, \n",
    "                dtrain=dtrain, \n",
    "                evals = [(dtrain,'train'), (dtest,'eval')], \n",
    "                num_boost_round=num_boost_round, \n",
    "                early_stopping_rounds=early_stopping_rounds, \n",
    "                verbose_eval = 0\n",
    "            )\n",
    "        )\n",
    "\n",
    "        # Calculate metrics\n",
    "        test_rmse = np.sqrt(mean_squared_error(test_label, model.predict(dtest)))\n",
    "        train_rmse = np.sqrt(mean_squared_error(train_label, model.predict(dtrain)))\n",
    "\n",
    "        # test_rmse = np.sqrt(mean_squared_error((test_label, y_pred=model.predict(dtest))))\n",
    "        # train_rmse = np.sqrt(mean_squared_error((train_label, y_pred=model.predict(dtrain))))\n",
    "        \n",
    "        # Log metrics to the run\n",
    "        run.log_parameters(hyperparams)\n",
    "        run.log_metric(name=\"test_rmse\", value = test_rmse, step=i+1)\n",
    "        run.log_metric(name=\"train_rmse\", value = train_rmse, step=i+1)\n",
    "\n",
    "        # time.sleep(8) # wait until resource tags are propagated to the run\n",
    "\n",
    "        print(f\"Test rmse: {test_rmse:.4f} | Train rmse: {train_rmse:.4f}\")"
   ]
  },
  {
   "cell_type": "code",
   "execution_count": 23,
   "id": "eb665db0-2fc8-4bcc-b4fc-22db4d964c59",
   "metadata": {},
   "outputs": [],
   "source": [
    "import datetime\n",
    "import pandas as pd\n",
    "\n",
    "df = pd.read_csv(\"data/combined_plant.csv\")\n",
    "df['DATE_TIME'] = pd.to_datetime(df['DATE_TIME'], format='%Y-%m-%d %H:%M:%S')\n",
    "df[\"DATE\"] = df[\"DATE_TIME\"].dt.date\n",
    "df[\"TIME\"] = pd.to_datetime(df[\"DATE_TIME\"]).dt.strftime('%H:%M:%S')\n",
    "df_plot = df[df['DATE'] == datetime.date(2020, 5, 19)]\n",
    "df_plot=df.loc[100:1900]\n",
    "timeplot=df_plot[\"TIME\"]\n",
    "df_plot.drop(['SOURCE_KEY', 'DATE_TIME', 'DATE'], axis=1)\n",
    "plot_features = df_plot.drop('DC_POWER', axis=1)\n",
    "plot_label = pd.DataFrame(df_plot['DC_POWER'])\n",
    "plot_features_numeric = plot_features.drop(['DATE_TIME', 'SOURCE_KEY','DATE','TIME'], axis=1)\n",
    "dplot = xgb.DMatrix(plot_features_numeric, label=plot_label)\n",
    "predict=model.predict(dplot)\n",
    "dc=df_plot[\"DC_POWER\"]"
   ]
  },
  {
   "cell_type": "code",
   "execution_count": 24,
   "id": "4864a350-67d4-4d63-9aff-ffba84e0a034",
   "metadata": {},
   "outputs": [
    {
     "name": "stderr",
     "output_type": "stream",
     "text": [
      "INFO:matplotlib.category:Using categorical units to plot a list of strings that are all parsable as floats or dates. If these strings should be plotted as numbers, cast to the appropriate data type before plotting.\n",
      "INFO:matplotlib.category:Using categorical units to plot a list of strings that are all parsable as floats or dates. If these strings should be plotted as numbers, cast to the appropriate data type before plotting.\n",
      "INFO:matplotlib.category:Using categorical units to plot a list of strings that are all parsable as floats or dates. If these strings should be plotted as numbers, cast to the appropriate data type before plotting.\n",
      "INFO:matplotlib.category:Using categorical units to plot a list of strings that are all parsable as floats or dates. If these strings should be plotted as numbers, cast to the appropriate data type before plotting.\n"
     ]
    },
    {
     "data": {
      "image/png": "[encoded data removed]",
      "text/plain": [
       "<Figure size 1200x600 with 1 Axes>"
      ]
     },
     "metadata": {},
     "output_type": "display_data"
    }
   ],
   "source": [
    "import matplotlib.pyplot as plt\n",
    "#time_str = [t.strftime('%H:%M:%S') for t in time]\n",
    "plt.figure(figsize=(12, 6))\n",
    "plt.plot(timeplot, dc, label='Actual DC_POWER')\n",
    "plt.plot(timeplot, predict, label='Predicted DC_POWER')\n",
    "plt.xlabel('Time')\n",
    "plt.ylabel('DC_POWER')\n",
    "plt.title('Comparison of Actual and Predicted DC_POWER')\n",
    "plt.legend()\n",
    "\n",
    "plt.show()"
   ]
  },
  {
   "cell_type": "code",
   "execution_count": 25,
   "id": "a4cf1402-9f2b-4440-a31a-2227bb7451c0",
   "metadata": {},
   "outputs": [
    {
     "data": {
      "text/html": [
       "\n",
       "<p><b>Shutting down your kernel for this notebook to release resources.</b></p>\n",
       "<button class=\"sm-command-button\" data-commandlinker-command=\"kernelmenu:shutdown\" style=\"display:none;\">Shutdown Kernel</button>\n",
       "        \n",
       "<script>\n",
       "try {\n",
       "    els = document.getElementsByClassName(\"sm-command-button\");\n",
       "    els[0].click();\n",
       "}\n",
       "catch(err) {\n",
       "    // NoOp\n",
       "}    \n",
       "</script>\n"
      ],
      "text/plain": [
       "<IPython.core.display.HTML object>"
      ]
     },
     "metadata": {},
     "output_type": "display_data"
    }
   ],
   "source": [
    "%%html\n",
    "\n",
    "<p><b>Shutting down your kernel for this notebook to release resources.</b></p>\n",
    "<button class=\"sm-command-button\" data-commandlinker-command=\"kernelmenu:shutdown\" style=\"display:none;\">Shutdown Kernel</button>\n",
    "        \n",
    "<script>\n",
    "try {\n",
    "    els = document.getElementsByClassName(\"sm-command-button\");\n",
    "    els[0].click();\n",
    "}\n",
    "catch(err) {\n",
    "    // NoOp\n",
    "}    \n",
    "</script>"
   ]
  },
  {
   "cell_type": "code",
   "execution_count": null,
   "id": "3d26920a-6430-4a7c-8ac8-29f506366b98",
   "metadata": {},
   "outputs": [],
   "source": []
  }
 ],
 "metadata": {
  "availableInstances": [
   {
    "_defaultOrder": 0,
    "_isFastLaunch": true,
    "category": "General purpose",
    "gpuNum": 0,
    "hideHardwareSpecs": false,
    "memoryGiB": 4,
    "name": "ml.t3.medium",
    "vcpuNum": 2
   },
   {
    "_defaultOrder": 1,
    "_isFastLaunch": false,
    "category": "General purpose",
    "gpuNum": 0,
    "hideHardwareSpecs": false,
    "memoryGiB": 8,
    "name": "ml.t3.large",
    "vcpuNum": 2
   },
   {
    "_defaultOrder": 2,
    "_isFastLaunch": false,
    "category": "General purpose",
    "gpuNum": 0,
    "hideHardwareSpecs": false,
    "memoryGiB": 16,
    "name": "ml.t3.xlarge",
    "vcpuNum": 4
   },
   {
    "_defaultOrder": 3,
    "_isFastLaunch": false,
    "category": "General purpose",
    "gpuNum": 0,
    "hideHardwareSpecs": false,
    "memoryGiB": 32,
    "name": "ml.t3.2xlarge",
    "vcpuNum": 8
   },
   {
    "_defaultOrder": 4,
    "_isFastLaunch": true,
    "category": "General purpose",
    "gpuNum": 0,
    "hideHardwareSpecs": false,
    "memoryGiB": 8,
    "name": "ml.m5.large",
    "vcpuNum": 2
   },
   {
    "_defaultOrder": 5,
    "_isFastLaunch": false,
    "category": "General purpose",
    "gpuNum": 0,
    "hideHardwareSpecs": false,
    "memoryGiB": 16,
    "name": "ml.m5.xlarge",
    "vcpuNum": 4
   },
   {
    "_defaultOrder": 6,
    "_isFastLaunch": false,
    "category": "General purpose",
    "gpuNum": 0,
    "hideHardwareSpecs": false,
    "memoryGiB": 32,
    "name": "ml.m5.2xlarge",
    "vcpuNum": 8
   },
   {
    "_defaultOrder": 7,
    "_isFastLaunch": false,
    "category": "General purpose",
    "gpuNum": 0,
    "hideHardwareSpecs": false,
    "memoryGiB": 64,
    "name": "ml.m5.4xlarge",
    "vcpuNum": 16
   },
   {
    "_defaultOrder": 8,
    "_isFastLaunch": false,
    "category": "General purpose",
    "gpuNum": 0,
    "hideHardwareSpecs": false,
    "memoryGiB": 128,
    "name": "ml.m5.8xlarge",
    "vcpuNum": 32
   },
   {
    "_defaultOrder": 9,
    "_isFastLaunch": false,
    "category": "General purpose",
    "gpuNum": 0,
    "hideHardwareSpecs": false,
    "memoryGiB": 192,
    "name": "ml.m5.12xlarge",
    "vcpuNum": 48
   },
   {
    "_defaultOrder": 10,
    "_isFastLaunch": false,
    "category": "General purpose",
    "gpuNum": 0,
    "hideHardwareSpecs": false,
    "memoryGiB": 256,
    "name": "ml.m5.16xlarge",
    "vcpuNum": 64
   },
   {
    "_defaultOrder": 11,
    "_isFastLaunch": false,
    "category": "General purpose",
    "gpuNum": 0,
    "hideHardwareSpecs": false,
    "memoryGiB": 384,
    "name": "ml.m5.24xlarge",
    "vcpuNum": 96
   },
   {
    "_defaultOrder": 12,
    "_isFastLaunch": false,
    "category": "General purpose",
    "gpuNum": 0,
    "hideHardwareSpecs": false,
    "memoryGiB": 8,
    "name": "ml.m5d.large",
    "vcpuNum": 2
   },
   {
    "_defaultOrder": 13,
    "_isFastLaunch": false,
    "category": "General purpose",
    "gpuNum": 0,
    "hideHardwareSpecs": false,
    "memoryGiB": 16,
    "name": "ml.m5d.xlarge",
    "vcpuNum": 4
   },
   {
    "_defaultOrder": 14,
    "_isFastLaunch": false,
    "category": "General purpose",
    "gpuNum": 0,
    "hideHardwareSpecs": false,
    "memoryGiB": 32,
    "name": "ml.m5d.2xlarge",
    "vcpuNum": 8
   },
   {
    "_defaultOrder": 15,
    "_isFastLaunch": false,
    "category": "General purpose",
    "gpuNum": 0,
    "hideHardwareSpecs": false,
    "memoryGiB": 64,
    "name": "ml.m5d.4xlarge",
    "vcpuNum": 16
   },
   {
    "_defaultOrder": 16,
    "_isFastLaunch": false,
    "category": "General purpose",
    "gpuNum": 0,
    "hideHardwareSpecs": false,
    "memoryGiB": 128,
    "name": "ml.m5d.8xlarge",
    "vcpuNum": 32
   },
   {
    "_defaultOrder": 17,
    "_isFastLaunch": false,
    "category": "General purpose",
    "gpuNum": 0,
    "hideHardwareSpecs": false,
    "memoryGiB": 192,
    "name": "ml.m5d.12xlarge",
    "vcpuNum": 48
   },
   {
    "_defaultOrder": 18,
    "_isFastLaunch": false,
    "category": "General purpose",
    "gpuNum": 0,
    "hideHardwareSpecs": false,
    "memoryGiB": 256,
    "name": "ml.m5d.16xlarge",
    "vcpuNum": 64
   },
   {
    "_defaultOrder": 19,
    "_isFastLaunch": false,
    "category": "General purpose",
    "gpuNum": 0,
    "hideHardwareSpecs": false,
    "memoryGiB": 384,
    "name": "ml.m5d.24xlarge",
    "vcpuNum": 96
   },
   {
    "_defaultOrder": 20,
    "_isFastLaunch": false,
    "category": "General purpose",
    "gpuNum": 0,
    "hideHardwareSpecs": true,
    "memoryGiB": 0,
    "name": "ml.geospatial.interactive",
    "supportedImageNames": [
     "sagemaker-geospatial-v1-0"
    ],
    "vcpuNum": 0
   },
   {
    "_defaultOrder": 21,
    "_isFastLaunch": true,
    "category": "Compute optimized",
    "gpuNum": 0,
    "hideHardwareSpecs": false,
    "memoryGiB": 4,
    "name": "ml.c5.large",
    "vcpuNum": 2
   },
   {
    "_defaultOrder": 22,
    "_isFastLaunch": false,
    "category": "Compute optimized",
    "gpuNum": 0,
    "hideHardwareSpecs": false,
    "memoryGiB": 8,
    "name": "ml.c5.xlarge",
    "vcpuNum": 4
   },
   {
    "_defaultOrder": 23,
    "_isFastLaunch": false,
    "category": "Compute optimized",
    "gpuNum": 0,
    "hideHardwareSpecs": false,
    "memoryGiB": 16,
    "name": "ml.c5.2xlarge",
    "vcpuNum": 8
   },
   {
    "_defaultOrder": 24,
    "_isFastLaunch": false,
    "category": "Compute optimized",
    "gpuNum": 0,
    "hideHardwareSpecs": false,
    "memoryGiB": 32,
    "name": "ml.c5.4xlarge",
    "vcpuNum": 16
   },
   {
    "_defaultOrder": 25,
    "_isFastLaunch": false,
    "category": "Compute optimized",
    "gpuNum": 0,
    "hideHardwareSpecs": false,
    "memoryGiB": 72,
    "name": "ml.c5.9xlarge",
    "vcpuNum": 36
   },
   {
    "_defaultOrder": 26,
    "_isFastLaunch": false,
    "category": "Compute optimized",
    "gpuNum": 0,
    "hideHardwareSpecs": false,
    "memoryGiB": 96,
    "name": "ml.c5.12xlarge",
    "vcpuNum": 48
   },
   {
    "_defaultOrder": 27,
    "_isFastLaunch": false,
    "category": "Compute optimized",
    "gpuNum": 0,
    "hideHardwareSpecs": false,
    "memoryGiB": 144,
    "name": "ml.c5.18xlarge",
    "vcpuNum": 72
   },
   {
    "_defaultOrder": 28,
    "_isFastLaunch": false,
    "category": "Compute optimized",
    "gpuNum": 0,
    "hideHardwareSpecs": false,
    "memoryGiB": 192,
    "name": "ml.c5.24xlarge",
    "vcpuNum": 96
   },
   {
    "_defaultOrder": 29,
    "_isFastLaunch": true,
    "category": "Accelerated computing",
    "gpuNum": 1,
    "hideHardwareSpecs": false,
    "memoryGiB": 16,
    "name": "ml.g4dn.xlarge",
    "vcpuNum": 4
   },
   {
    "_defaultOrder": 30,
    "_isFastLaunch": false,
    "category": "Accelerated computing",
    "gpuNum": 1,
    "hideHardwareSpecs": false,
    "memoryGiB": 32,
    "name": "ml.g4dn.2xlarge",
    "vcpuNum": 8
   },
   {
    "_defaultOrder": 31,
    "_isFastLaunch": false,
    "category": "Accelerated computing",
    "gpuNum": 1,
    "hideHardwareSpecs": false,
    "memoryGiB": 64,
    "name": "ml.g4dn.4xlarge",
    "vcpuNum": 16
   },
   {
    "_defaultOrder": 32,
    "_isFastLaunch": false,
    "category": "Accelerated computing",
    "gpuNum": 1,
    "hideHardwareSpecs": false,
    "memoryGiB": 128,
    "name": "ml.g4dn.8xlarge",
    "vcpuNum": 32
   },
   {
    "_defaultOrder": 33,
    "_isFastLaunch": false,
    "category": "Accelerated computing",
    "gpuNum": 4,
    "hideHardwareSpecs": false,
    "memoryGiB": 192,
    "name": "ml.g4dn.12xlarge",
    "vcpuNum": 48
   },
   {
    "_defaultOrder": 34,
    "_isFastLaunch": false,
    "category": "Accelerated computing",
    "gpuNum": 1,
    "hideHardwareSpecs": false,
    "memoryGiB": 256,
    "name": "ml.g4dn.16xlarge",
    "vcpuNum": 64
   },
   {
    "_defaultOrder": 35,
    "_isFastLaunch": false,
    "category": "Accelerated computing",
    "gpuNum": 1,
    "hideHardwareSpecs": false,
    "memoryGiB": 61,
    "name": "ml.p3.2xlarge",
    "vcpuNum": 8
   },
   {
    "_defaultOrder": 36,
    "_isFastLaunch": false,
    "category": "Accelerated computing",
    "gpuNum": 4,
    "hideHardwareSpecs": false,
    "memoryGiB": 244,
    "name": "ml.p3.8xlarge",
    "vcpuNum": 32
   },
   {
    "_defaultOrder": 37,
    "_isFastLaunch": false,
    "category": "Accelerated computing",
    "gpuNum": 8,
    "hideHardwareSpecs": false,
    "memoryGiB": 488,
    "name": "ml.p3.16xlarge",
    "vcpuNum": 64
   },
   {
    "_defaultOrder": 38,
    "_isFastLaunch": false,
    "category": "Accelerated computing",
    "gpuNum": 8,
    "hideHardwareSpecs": false,
    "memoryGiB": 768,
    "name": "ml.p3dn.24xlarge",
    "vcpuNum": 96
   },
   {
    "_defaultOrder": 39,
    "_isFastLaunch": false,
    "category": "Memory Optimized",
    "gpuNum": 0,
    "hideHardwareSpecs": false,
    "memoryGiB": 16,
    "name": "ml.r5.large",
    "vcpuNum": 2
   },
   {
    "_defaultOrder": 40,
    "_isFastLaunch": false,
    "category": "Memory Optimized",
    "gpuNum": 0,
    "hideHardwareSpecs": false,
    "memoryGiB": 32,
    "name": "ml.r5.xlarge",
    "vcpuNum": 4
   },
   {
    "_defaultOrder": 41,
    "_isFastLaunch": false,
    "category": "Memory Optimized",
    "gpuNum": 0,
    "hideHardwareSpecs": false,
    "memoryGiB": 64,
    "name": "ml.r5.2xlarge",
    "vcpuNum": 8
   },
   {
    "_defaultOrder": 42,
    "_isFastLaunch": false,
    "category": "Memory Optimized",
    "gpuNum": 0,
    "hideHardwareSpecs": false,
    "memoryGiB": 128,
    "name": "ml.r5.4xlarge",
    "vcpuNum": 16
   },
   {
    "_defaultOrder": 43,
    "_isFastLaunch": false,
    "category": "Memory Optimized",
    "gpuNum": 0,
    "hideHardwareSpecs": false,
    "memoryGiB": 256,
    "name": "ml.r5.8xlarge",
    "vcpuNum": 32
   },
   {
    "_defaultOrder": 44,
    "_isFastLaunch": false,
    "category": "Memory Optimized",
    "gpuNum": 0,
    "hideHardwareSpecs": false,
    "memoryGiB": 384,
    "name": "ml.r5.12xlarge",
    "vcpuNum": 48
   },
   {
    "_defaultOrder": 45,
    "_isFastLaunch": false,
    "category": "Memory Optimized",
    "gpuNum": 0,
    "hideHardwareSpecs": false,
    "memoryGiB": 512,
    "name": "ml.r5.16xlarge",
    "vcpuNum": 64
   },
   {
    "_defaultOrder": 46,
    "_isFastLaunch": false,
    "category": "Memory Optimized",
    "gpuNum": 0,
    "hideHardwareSpecs": false,
    "memoryGiB": 768,
    "name": "ml.r5.24xlarge",
    "vcpuNum": 96
   },
   {
    "_defaultOrder": 47,
    "_isFastLaunch": false,
    "category": "Accelerated computing",
    "gpuNum": 1,
    "hideHardwareSpecs": false,
    "memoryGiB": 16,
    "name": "ml.g5.xlarge",
    "vcpuNum": 4
   },
   {
    "_defaultOrder": 48,
    "_isFastLaunch": false,
    "category": "Accelerated computing",
    "gpuNum": 1,
    "hideHardwareSpecs": false,
    "memoryGiB": 32,
    "name": "ml.g5.2xlarge",
    "vcpuNum": 8
   },
   {
    "_defaultOrder": 49,
    "_isFastLaunch": false,
    "category": "Accelerated computing",
    "gpuNum": 1,
    "hideHardwareSpecs": false,
    "memoryGiB": 64,
    "name": "ml.g5.4xlarge",
    "vcpuNum": 16
   },
   {
    "_defaultOrder": 50,
    "_isFastLaunch": false,
    "category": "Accelerated computing",
    "gpuNum": 1,
    "hideHardwareSpecs": false,
    "memoryGiB": 128,
    "name": "ml.g5.8xlarge",
    "vcpuNum": 32
   },
   {
    "_defaultOrder": 51,
    "_isFastLaunch": false,
    "category": "Accelerated computing",
    "gpuNum": 1,
    "hideHardwareSpecs": false,
    "memoryGiB": 256,
    "name": "ml.g5.16xlarge",
    "vcpuNum": 64
   },
   {
    "_defaultOrder": 52,
    "_isFastLaunch": false,
    "category": "Accelerated computing",
    "gpuNum": 4,
    "hideHardwareSpecs": false,
    "memoryGiB": 192,
    "name": "ml.g5.12xlarge",
    "vcpuNum": 48
   },
   {
    "_defaultOrder": 53,
    "_isFastLaunch": false,
    "category": "Accelerated computing",
    "gpuNum": 4,
    "hideHardwareSpecs": false,
    "memoryGiB": 384,
    "name": "ml.g5.24xlarge",
    "vcpuNum": 96
   },
   {
    "_defaultOrder": 54,
    "_isFastLaunch": false,
    "category": "Accelerated computing",
    "gpuNum": 8,
    "hideHardwareSpecs": false,
    "memoryGiB": 768,
    "name": "ml.g5.48xlarge",
    "vcpuNum": 192
   },
   {
    "_defaultOrder": 55,
    "_isFastLaunch": false,
    "category": "Accelerated computing",
    "gpuNum": 8,
    "hideHardwareSpecs": false,
    "memoryGiB": 1152,
    "name": "ml.p4d.24xlarge",
    "vcpuNum": 96
   },
   {
    "_defaultOrder": 56,
    "_isFastLaunch": false,
    "category": "Accelerated computing",
    "gpuNum": 8,
    "hideHardwareSpecs": false,
    "memoryGiB": 1152,
    "name": "ml.p4de.24xlarge",
    "vcpuNum": 96
   }
  ],
  "kernelspec": {
   "display_name": "Python 3 (Data Science)",
   "language": "python",
   "name": "python3__SAGEMAKER_INTERNAL__arn:aws:sagemaker:eu-central-1:936697816551:image/datascience-1.0"
  },
  "language_info": {
   "codemirror_mode": {
    "name": "ipython",
    "version": 3
   },
   "file_extension": ".py",
   "mimetype": "text/x-python",
   "name": "python",
   "nbconvert_exporter": "python",
   "pygments_lexer": "ipython3",
   "version": "3.7.10"
  }
 },
 "nbformat": 4,
 "nbformat_minor": 5
}
